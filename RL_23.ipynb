{
 "cells": [
  {
   "cell_type": "markdown",
   "metadata": {
    "id": "eGkayH7TZeX8"
   },
   "source": [
    "# Livres hebdo rentrée litt 2023\n",
    "\n",
    "![logo LH](https://pbs.twimg.com/profile_images/1315992576995065858/RzrhYGSZ_400x400.jpg)\n",
    "\n",
    "### Objectifs\n",
    "L'objectif ici est de réaliser une datavisualisation autour de la rentrée littéraire 2022 de façon amusante avec les infos fournies dans le dossier de Livres Hebdo. Le fichier mis à disposition étant au format pdf, j'ai dans un premier temps réaliser une extraction des données à l'aide des libriaires pdfreader et PyPDF2 (permet de lire et parser le contenu d'un pdf).\n",
    "Dans un deuxième temps, le résultat obtenu n'étant pas suffisament satisfaisant, je suis passés par une etape de mise au propre et de structuration de la table dans Excel.\n",
    "Troisième étape, finalisation de la structuration des données dans jupyter pour ensuite faire de l'enrichissement.\n",
    "\n",
    "#### Idées :\n",
    "- nb de titres recensés comme faisant partis de la R.L\n",
    "- nb de titre par litt fr, litt étrangère, essais\n",
    "- nb de titre par traduction (map des pays)\n",
    "- nb de titre par genre (femme - homme)\n",
    "- les époques où le récit à lieu\n",
    "- les lieux où les récits ont lieu\n",
    "- nb de 1er romans\n",
    "- nb de titre avec préface\n",
    "- nb de pages total (tous livres confondus)\n",
    "- nb de pages moyen\n",
    "- prix moyen\n",
    "- budget total\n",
    "- format moyen\n",
    "- les mots les plus fréquents dans les résumés\n",
    "- les mots les plus fréquents dans les titres\n",
    "\n",
    "Liens :\n",
    "- [Liste des ouvrages au format PDF](https://www.livreshebdo.fr/sites/default/files/2022-07/Bibliographie%20rentre%CC%81e%20litte%CC%81raire%202022.pdf)"
   ]
  },
  {
   "cell_type": "markdown",
   "metadata": {
    "id": "-bnc_JO0O8kl"
   },
   "source": [
    "##### Importation des librairies nécessaires pour le script"
   ]
  },
  {
   "cell_type": "code",
   "execution_count": 1,
   "metadata": {
    "executionInfo": {
     "elapsed": 655,
     "status": "ok",
     "timestamp": 1698747402330,
     "user": {
      "displayName": "sandrine henry",
      "userId": "01374054069161657240"
     },
     "user_tz": -60
    },
    "id": "lG2aZ7OAQ6P_"
   },
   "outputs": [],
   "source": [
    "from urllib.request import urlopen\n",
    "from bs4 import BeautifulSoup\n",
    "import re\n",
    "import requests\n",
    "\n",
    "import json\n",
    "#from pandas.io.json import json_normalize\n",
    "from pandas import json_normalize\n",
    "import pandas as pd\n",
    "import numpy as np\n",
    "import datetime as dt  #pour l'ajout de la date de l'extraction de données\n",
    "\n",
    "import streamlit as st\n",
    "\n",
    "import matplotlib.pyplot as plt\n",
    "\n",
    "import pickle"
   ]
  },
  {
   "cell_type": "markdown",
   "metadata": {
    "jp-MarkdownHeadingCollapsed": true
   },
   "source": [
    "## Pour Dataviz"
   ]
  },
  {
   "cell_type": "code",
   "execution_count": 45,
   "metadata": {},
   "outputs": [
    {
     "data": {
      "text/html": [
       "<div>\n",
       "<style scoped>\n",
       "    .dataframe tbody tr th:only-of-type {\n",
       "        vertical-align: middle;\n",
       "    }\n",
       "\n",
       "    .dataframe tbody tr th {\n",
       "        vertical-align: top;\n",
       "    }\n",
       "\n",
       "    .dataframe thead th {\n",
       "        text-align: right;\n",
       "    }\n",
       "</style>\n",
       "<table border=\"1\" class=\"dataframe\">\n",
       "  <thead>\n",
       "    <tr style=\"text-align: right;\">\n",
       "      <th></th>\n",
       "      <th>RL</th>\n",
       "      <th>PREMIER_ROMAN</th>\n",
       "      <th>EAN</th>\n",
       "      <th>titre</th>\n",
       "      <th>auteur</th>\n",
       "      <th>TYPES</th>\n",
       "      <th>GENRE</th>\n",
       "      <th>Editeur</th>\n",
       "      <th>PAYS</th>\n",
       "      <th>latitude</th>\n",
       "      <th>...</th>\n",
       "      <th>prix_ebook</th>\n",
       "      <th>couverture</th>\n",
       "      <th>caracteristiques</th>\n",
       "      <th>ISBN</th>\n",
       "      <th>Format</th>\n",
       "      <th>Présentation</th>\n",
       "      <th>Nb. de pages</th>\n",
       "      <th>Poids</th>\n",
       "      <th>Dimensions</th>\n",
       "      <th>Collection</th>\n",
       "    </tr>\n",
       "  </thead>\n",
       "  <tbody>\n",
       "    <tr>\n",
       "      <th>0</th>\n",
       "      <td>NaN</td>\n",
       "      <td>NAN</td>\n",
       "      <td>9.782378e+12</td>\n",
       "      <td>Shades  - Tome 1, De sang et de chair- Grand F...</td>\n",
       "      <td>Angéline Richard</td>\n",
       "      <td>NaN</td>\n",
       "      <td>NaN</td>\n",
       "      <td>Alter Real éditions</td>\n",
       "      <td>NAN</td>\n",
       "      <td>46.314475</td>\n",
       "      <td>...</td>\n",
       "      <td>5,99 €</td>\n",
       "      <td>https://products-images.di-static.com/image/ha...</td>\n",
       "      <td>Date de parution|30/08/2023|Editeur|Alter Real...</td>\n",
       "      <td>978-2-37812-870-8</td>\n",
       "      <td>Grand Format</td>\n",
       "      <td>Broché</td>\n",
       "      <td>368 pages</td>\n",
       "      <td>0.52 Kg</td>\n",
       "      <td>14,8 cm × 21,0 cm × 0,0 cm</td>\n",
       "      <td>Imaginaire</td>\n",
       "    </tr>\n",
       "    <tr>\n",
       "      <th>1</th>\n",
       "      <td>NaN</td>\n",
       "      <td>NAN</td>\n",
       "      <td>9.782378e+12</td>\n",
       "      <td>Saraya Tome 5- Grand Format</td>\n",
       "      <td>Marylise</td>\n",
       "      <td>NaN</td>\n",
       "      <td>NaN</td>\n",
       "      <td>Alter Real éditions</td>\n",
       "      <td>NAN</td>\n",
       "      <td>46.314475</td>\n",
       "      <td>...</td>\n",
       "      <td>5,99 €</td>\n",
       "      <td>https://products-images.di-static.com/image/ha...</td>\n",
       "      <td>Date de parution|30/08/2023|Editeur|Alter Real...</td>\n",
       "      <td>978-2-37812-908-8</td>\n",
       "      <td>Grand Format</td>\n",
       "      <td>Broché</td>\n",
       "      <td>188 pages</td>\n",
       "      <td>0.438 Kg</td>\n",
       "      <td>14,8 cm × 21,0 cm × 0,0 cm</td>\n",
       "      <td>Imaginaire</td>\n",
       "    </tr>\n",
       "    <tr>\n",
       "      <th>2</th>\n",
       "      <td>RL</td>\n",
       "      <td>NON</td>\n",
       "      <td>9.782080e+12</td>\n",
       "      <td>Marchands de sable- Grand Format</td>\n",
       "      <td>Agnès Mathieu-Daudé</td>\n",
       "      <td>Romans français</td>\n",
       "      <td>F</td>\n",
       "      <td>Flammarion</td>\n",
       "      <td>FRANCE</td>\n",
       "      <td>46.603354</td>\n",
       "      <td>...</td>\n",
       "      <td>14,99 €</td>\n",
       "      <td>https://products-images.di-static.com/image/ag...</td>\n",
       "      <td>Date de parution|30/08/2023|Editeur|Flammarion...</td>\n",
       "      <td>978-2-08-041169-3</td>\n",
       "      <td>Grand Format</td>\n",
       "      <td>Broché</td>\n",
       "      <td>336 pages</td>\n",
       "      <td>0.342 Kg</td>\n",
       "      <td>15,0 cm × 22,0 cm × 2,1 cm</td>\n",
       "      <td>Littérature française</td>\n",
       "    </tr>\n",
       "    <tr>\n",
       "      <th>3</th>\n",
       "      <td>RL</td>\n",
       "      <td>PREMIER ROMAN</td>\n",
       "      <td>9.782383e+12</td>\n",
       "      <td>Au sol- Grand Format</td>\n",
       "      <td>Charlotte Milandri</td>\n",
       "      <td>Romans français</td>\n",
       "      <td>F</td>\n",
       "      <td>Equateurs</td>\n",
       "      <td>FRANCE</td>\n",
       "      <td>46.603354</td>\n",
       "      <td>...</td>\n",
       "      <td>14,99 €</td>\n",
       "      <td>https://products-images.di-static.com/image/ch...</td>\n",
       "      <td>Date de parution|30/08/2023|Editeur|Equateurs|...</td>\n",
       "      <td>978-2-38284-605-6</td>\n",
       "      <td>Grand Format</td>\n",
       "      <td>Broché</td>\n",
       "      <td>248 pages</td>\n",
       "      <td>0.32 Kg</td>\n",
       "      <td>14,0 cm × 20,3 cm × 2,0 cm</td>\n",
       "      <td>NaN</td>\n",
       "    </tr>\n",
       "    <tr>\n",
       "      <th>4</th>\n",
       "      <td>NaN</td>\n",
       "      <td>NAN</td>\n",
       "      <td>9.782226e+12</td>\n",
       "      <td>La saison des débutantes Tome 3- Grand Format</td>\n",
       "      <td>M-C Beaton</td>\n",
       "      <td>NaN</td>\n",
       "      <td>NaN</td>\n",
       "      <td>Albin Michel</td>\n",
       "      <td>NAN</td>\n",
       "      <td>46.314475</td>\n",
       "      <td>...</td>\n",
       "      <td>9,99 €</td>\n",
       "      <td>https://products-images.di-static.com/image/m-...</td>\n",
       "      <td>Date de parution|30/08/2023|Editeur|Albin Mich...</td>\n",
       "      <td>978-2-226-46854-3</td>\n",
       "      <td>Grand Format</td>\n",
       "      <td>Broché</td>\n",
       "      <td>224 pages</td>\n",
       "      <td>0.21 Kg</td>\n",
       "      <td>12,6 cm × 18,4 cm × 1,7 cm</td>\n",
       "      <td>NaN</td>\n",
       "    </tr>\n",
       "  </tbody>\n",
       "</table>\n",
       "<p>5 rows × 30 columns</p>\n",
       "</div>"
      ],
      "text/plain": [
       "    RL  PREMIER_ROMAN           EAN  \\\n",
       "0  NaN            NAN  9.782378e+12   \n",
       "1  NaN            NAN  9.782378e+12   \n",
       "2   RL            NON  9.782080e+12   \n",
       "3   RL  PREMIER ROMAN  9.782383e+12   \n",
       "4  NaN            NAN  9.782226e+12   \n",
       "\n",
       "                                               titre               auteur  \\\n",
       "0  Shades  - Tome 1, De sang et de chair- Grand F...     Angéline Richard   \n",
       "1                        Saraya Tome 5- Grand Format             Marylise   \n",
       "2                   Marchands de sable- Grand Format  Agnès Mathieu-Daudé   \n",
       "3                               Au sol- Grand Format   Charlotte Milandri   \n",
       "4      La saison des débutantes Tome 3- Grand Format           M-C Beaton   \n",
       "\n",
       "             TYPES GENRE              Editeur    PAYS   latitude  ...  \\\n",
       "0              NaN   NaN  Alter Real éditions     NAN  46.314475  ...   \n",
       "1              NaN   NaN  Alter Real éditions     NAN  46.314475  ...   \n",
       "2  Romans français     F           Flammarion  FRANCE  46.603354  ...   \n",
       "3  Romans français     F            Equateurs  FRANCE  46.603354  ...   \n",
       "4              NaN   NaN         Albin Michel     NAN  46.314475  ...   \n",
       "\n",
       "   prix_ebook                                         couverture  \\\n",
       "0      5,99 €  https://products-images.di-static.com/image/ha...   \n",
       "1      5,99 €  https://products-images.di-static.com/image/ha...   \n",
       "2     14,99 €  https://products-images.di-static.com/image/ag...   \n",
       "3     14,99 €  https://products-images.di-static.com/image/ch...   \n",
       "4      9,99 €  https://products-images.di-static.com/image/m-...   \n",
       "\n",
       "                                    caracteristiques               ISBN  \\\n",
       "0  Date de parution|30/08/2023|Editeur|Alter Real...  978-2-37812-870-8   \n",
       "1  Date de parution|30/08/2023|Editeur|Alter Real...  978-2-37812-908-8   \n",
       "2  Date de parution|30/08/2023|Editeur|Flammarion...  978-2-08-041169-3   \n",
       "3  Date de parution|30/08/2023|Editeur|Equateurs|...  978-2-38284-605-6   \n",
       "4  Date de parution|30/08/2023|Editeur|Albin Mich...  978-2-226-46854-3   \n",
       "\n",
       "         Format Présentation  Nb. de pages     Poids  \\\n",
       "0  Grand Format       Broché     368 pages   0.52 Kg   \n",
       "1  Grand Format       Broché     188 pages  0.438 Kg   \n",
       "2  Grand Format       Broché     336 pages  0.342 Kg   \n",
       "3  Grand Format       Broché     248 pages   0.32 Kg   \n",
       "4  Grand Format       Broché     224 pages   0.21 Kg   \n",
       "\n",
       "                   Dimensions             Collection  \n",
       "0  14,8 cm × 21,0 cm × 0,0 cm             Imaginaire  \n",
       "1  14,8 cm × 21,0 cm × 0,0 cm             Imaginaire  \n",
       "2  15,0 cm × 22,0 cm × 2,1 cm  Littérature française  \n",
       "3  14,0 cm × 20,3 cm × 2,0 cm                    NaN  \n",
       "4  12,6 cm × 18,4 cm × 1,7 cm                    NaN  \n",
       "\n",
       "[5 rows x 30 columns]"
      ]
     },
     "metadata": {},
     "output_type": "display_data"
    },
    {
     "data": {
      "text/plain": [
       "RL                                                                  RL\n",
       "PREMIER_ROMAN                                                      NON\n",
       "EAN                                                    9782818058268.0\n",
       "titre                                       Triste tigre- Grand Format\n",
       "auteur                                                     Neige Sinno\n",
       "TYPES                                                           Essais\n",
       "GENRE                                                                F\n",
       "Editeur                                                          P.O.L\n",
       "PAYS                                                            FRANCE\n",
       "latitude                                                     46.603354\n",
       "longitude                                                     1.888334\n",
       "CONTINENT                                                       EUROPE\n",
       "Traduit de                                                          VF\n",
       "Traduit par                                                          -\n",
       "Date de parution                                            2023-08-17\n",
       "MOIS                                                            August\n",
       "ANNEE_PUBLICATION                                               2023.0\n",
       "url                  https://www.decitre.fr/livres/triste-tigre-978...\n",
       "categorie            ['Livres', 'Littérature', 'Romans', 'Littératu...\n",
       "prix_gf                                                        20,00 €\n",
       "prix_ebook                                                     14,99 €\n",
       "couverture           https://products-images.di-static.com/image/ne...\n",
       "caracteristiques     Date de parution|17/08/2023|Editeur|P.O.L|ISBN...\n",
       "ISBN                                                 978-2-8180-5826-8\n",
       "Format                                                    Grand Format\n",
       "Présentation                                           Dos carré collé\n",
       "Nb. de pages                                                 283 pages\n",
       "Poids                                                         0.288 Kg\n",
       "Dimensions                                  14,0 cm × 20,5 cm × 1,9 cm\n",
       "Collection                                                         NaN\n",
       "Name: 1289, dtype: object"
      ]
     },
     "metadata": {},
     "output_type": "display_data"
    }
   ],
   "source": [
    "df_doublon = pd.read_csv(\"liste_rl_total_sans_doublon.csv\", sep=\";\")#pd.read_pickle(\"liste_rl_total_sans_doublon.pkl\")\n",
    "display(df_doublon.head(), df_doublon.iloc[1289])"
   ]
  },
  {
   "cell_type": "code",
   "execution_count": 10,
   "metadata": {},
   "outputs": [
    {
     "data": {
      "text/plain": [
       "1239    22,2 x 14,4 cm\n",
       "Name: Dimensions, dtype: object"
      ]
     },
     "metadata": {},
     "output_type": "display_data"
    }
   ],
   "source": [
    "df_doublon.loc[df_doublon['EAN'] == 9782259316989, 'Dimensions'] = '22,2 x 14,4 cm'\n",
    "#df_doublon.loc[df_doublon.RL == 'RL']['Nb. de pages'].value_counts()\n",
    "display(df_doublon.loc[(df_doublon['EAN'] == 9782259316989) & (df_doublon['RL'] == 'RL')]['Dimensions'])\n",
    "#df_doublon[['EAN','Dimensions']].to_csv('dimension_to_clean.csv', index = False)"
   ]
  },
  {
   "cell_type": "code",
   "execution_count": 11,
   "metadata": {},
   "outputs": [],
   "source": [
    "df_doublon.to_csv(\"liste_rl_total_sans_doublon.csv\", sep=\";\", index=False)"
   ]
  },
  {
   "cell_type": "code",
   "execution_count": 114,
   "metadata": {},
   "outputs": [],
   "source": [
    "df_doublon.to_pickle(\"liste_rl_total_sans_doublon.pkl\")"
   ]
  },
  {
   "cell_type": "code",
   "execution_count": 9,
   "metadata": {},
   "outputs": [
    {
     "data": {
      "text/plain": [
       "9782259316989"
      ]
     },
     "execution_count": 9,
     "metadata": {},
     "output_type": "execute_result"
    }
   ],
   "source": [
    "test = pd.read_pickle(\"liste_rl_total_sans_doublon.pkl\")\n",
    "itest.loc[test['EAN'] == '3014,2 cm × 22,6 cm × 3,2 cm']['EAN'])"
   ]
  },
  {
   "cell_type": "markdown",
   "metadata": {},
   "source": [
    "## Dico"
   ]
  },
  {
   "cell_type": "markdown",
   "metadata": {},
   "source": [
    "dict_rl_23 = {\"id\" : \"\",\n",
    "\"nom\": \"\",\n",
    "\"prenom\" : \"\",\n",
    "\"nom_complet\" : \"\",\n",
    "\"genre\" : \"\",\n",
    "\"pays\" : \"\",\n",
    "\"continent\" : \"\",\n",
    "\"livre\" : {\"id\": \"\",\n",
    "\t\"titre\": \"\",\n",
    "\t\"ean\" : \"\",\n",
    "\t\"maison_edition\" : \"\",\n",
    "\t\"type\" : \"\",\n",
    "\t\"premier_roman\" : \"\",\n",
    "\t\"mois de parution\" : \"\",\n",
    "\t\"annee_parution\" : \"\" ,\n",
    "\t\"traduit_de\" :\"\",\n",
    "\t\"traduit_par\" : \"\",\n",
    "\t\"resume\" : \"test\",\n",
    "\t\"caracteristiques\" : {\n",
    "\t\t\t\"nombre_pages\": \"\",\n",
    "\t\t\t\"prix_indicatif\" : \"\",\n",
    "\t\t\t\"reliure\" : \"\",\n",
    "\t\t\t\"format\" : \"\"},\n",
    "\t\"autres_infos\" : {\n",
    "\t\t\t\"preface\":\"\",\n",
    "\t\t\t\"texte_autre\":\"\",\n",
    "\t\t\t\"illustration_photo_image\":\"\",\n",
    "\t\t\t\"oeuvre_original\" : \"\"}},\n",
    "\"prix_litteraire\" : \n",
    "\t{\"id_prix\" : \"\",\n",
    "\t \"nom_prix\" :\"\",\n",
    "\t \"annee\" : \"\",\n",
    "\t \"premiere_selection\" : \"\",\n",
    "\t \"deuxieme_selection\" : \"\",\n",
    "\t \"troisieme_selection\" : \"\",\n",
    "\t \"lauréat\" : \"\"}}\n",
    "dict_rl_23['livre']['resume']"
   ]
  },
  {
   "cell_type": "code",
   "execution_count": null,
   "metadata": {},
   "outputs": [],
   "source": []
  },
  {
   "cell_type": "code",
   "execution_count": 46,
   "metadata": {
    "scrolled": true
   },
   "outputs": [],
   "source": [
    "dict_rl_23 = {}\n",
    "\n",
    "for i in df_doublon.reset_index().index:\n",
    "    temp = {}\n",
    "    temp[\"id\"] = \"\"\n",
    "    temp[\"nom\"]= \"\"\n",
    "    temp[\"prenom\"] = \"\"\n",
    "    temp[\"nom_complet\"] = df_doublon['auteur'][i]\n",
    "    temp[\"genre\"] = df_doublon['GENRE'][i]\n",
    "    temp[\"pays\"] = df_doublon['PAYS'][i]\n",
    "    temp[\"latitude\"] = df_doublon['latitude'][i]\n",
    "    temp[\"longitude\"] = df_doublon['longitude'][i]\n",
    "    temp[\"continent\"] = df_doublon['CONTINENT'][i]\n",
    "    temp[\"livre\"] = {}\n",
    "    temp[\"livre\"][\"id\"] = \"\" \n",
    "    temp[\"livre\"][\"titre\"]= df_doublon['titre'][i]\n",
    "    temp[\"livre\"][\"ean\"] = df_doublon['EAN'][i]\n",
    "    temp[\"livre\"][\"maison_edition\"] = df_doublon['Editeur'][i]\n",
    "    temp[\"livre\"][\"type\"] = df_doublon['TYPES'][i]\n",
    "    temp[\"livre\"][\"premier_roman\"] = df_doublon['PREMIER_ROMAN'][i]\n",
    "    temp[\"livre\"][\"date de parution\"] = df_doublon['Date de parution'][i]       \n",
    "    temp[\"livre\"][\"mois de parution\"] = df_doublon['MOIS'][i]\n",
    "    temp[\"livre\"][\"annee_parution\"] = df_doublon['ANNEE_PUBLICATION'][i]\n",
    "    temp[\"livre\"][\"traduit_de\"] = df_doublon['Traduit de'][i]\n",
    "    temp[\"livre\"][\"traduit_par\"] = df_doublon['Traduit par'][i]\n",
    "    temp[\"livre\"][\"resume\"] = \"\"\n",
    "    temp[\"livre\"][\"caracteristiques\"] = {}\n",
    "    temp[\"livre\"][\"caracteristiques\"][\"nombre_pages\"] = df_doublon['Nb. de pages'][i]\n",
    "    temp[\"livre\"][\"caracteristiques\"][\"prix_indicatif\"] = df_doublon['prix_gf'][i]\n",
    "    temp[\"livre\"][\"caracteristiques\"][\"prix_ebook_indicatif\"] = df_doublon['prix_ebook'][i]\n",
    "    temp[\"livre\"][\"caracteristiques\"][\"reliure\"] = df_doublon['Présentation'][i]\n",
    "    temp[\"livre\"][\"caracteristiques\"][\"format\"] = df_doublon['Format'][i]\n",
    "    temp[\"livre\"][\"autres_infos\"] = {}\n",
    "    temp[\"livre\"][\"autres_infos\"][\"couverture\"] = df_doublon['couverture'][i]\n",
    "    temp[\"livre\"][\"autres_infos\"][\"preface\"] = \"\"\n",
    "    temp[\"livre\"][\"autres_infos\"][\"texte_autre\"] = \"\"\n",
    "    temp[\"livre\"][\"autres_infos\"][\"illustration_photo_image\"] = \"\"\n",
    "    temp[\"livre\"][\"autres_infos\"][\"oeuvre_original\"] = \"\"\n",
    "    temp[\"livre\"][\"prix_litteraire\"] = {}\n",
    "    #temp[\"livre\"][\"prix_litteraire\"][\"id_prix\"] = \"\"\n",
    "    #temp[\"livre\"][\"prix_litteraire\"][\"nom_prix\"] = \"\"\n",
    "    #temp[\"livre\"][\"prix_litteraire\"][\"annee\"] = \"\"\n",
    "    #temp[\"livre\"][\"prix_litteraire\"][\"premiere_selection\"] = \"\"\n",
    "    #temp[\"livre\"][\"prix_litteraire\"][\"deuxieme_selection\"] = \"\"\n",
    "    #temp[\"livre\"][\"prix_litteraire\"][\"troisieme_selection\"] = \"\"\n",
    "    #temp[\"livre\"][\"prix_litteraire\"][\"lauréat\"] = \"\"\n",
    "    dict_rl_23[i] = temp\n",
    "    "
   ]
  },
  {
   "cell_type": "code",
   "execution_count": 44,
   "metadata": {},
   "outputs": [
    {
     "ename": "EOFError",
     "evalue": "Ran out of input",
     "output_type": "error",
     "traceback": [
      "\u001b[0;31m---------------------------------------------------------------------------\u001b[0m",
      "\u001b[0;31mEOFError\u001b[0m                                  Traceback (most recent call last)",
      "Cell \u001b[0;32mIn[44], line 3\u001b[0m\n\u001b[1;32m      1\u001b[0m \u001b[38;5;66;03m# Read dictionary pkl file\u001b[39;00m\n\u001b[1;32m      2\u001b[0m \u001b[38;5;28;01mwith\u001b[39;00m \u001b[38;5;28mopen\u001b[39m(\u001b[38;5;124m'\u001b[39m\u001b[38;5;124mdict_rl_23.pkl\u001b[39m\u001b[38;5;124m'\u001b[39m, \u001b[38;5;124m'\u001b[39m\u001b[38;5;124mrb\u001b[39m\u001b[38;5;124m'\u001b[39m) \u001b[38;5;28;01mas\u001b[39;00m fp:\n\u001b[0;32m----> 3\u001b[0m     dict_rl_23 \u001b[38;5;241m=\u001b[39m \u001b[43mpickle\u001b[49m\u001b[38;5;241;43m.\u001b[39;49m\u001b[43mload\u001b[49m\u001b[43m(\u001b[49m\u001b[43mfp\u001b[49m\u001b[43m)\u001b[49m\n\u001b[1;32m      4\u001b[0m     \u001b[38;5;66;03m#df_dict_rl_23 = pd.read_json(dict_rl_23, orient='index')   \u001b[39;00m\n\u001b[1;32m      5\u001b[0m dict_rl_23[\u001b[38;5;241m379\u001b[39m][\u001b[38;5;124m\"\u001b[39m\u001b[38;5;124mlivre\u001b[39m\u001b[38;5;124m\"\u001b[39m][\u001b[38;5;124m\"\u001b[39m\u001b[38;5;124mprix_litteraire\u001b[39m\u001b[38;5;124m\"\u001b[39m]\u001b[38;5;66;03m#['1']['nom_prix']= 'Prix Goncourt'\u001b[39;00m\n",
      "\u001b[0;31mEOFError\u001b[0m: Ran out of input"
     ]
    }
   ],
   "source": [
    "# Read dictionary pkl file\n",
    "with open('dict_rl_23.pkl', 'rb') as fp:\n",
    "    dict_rl_23 = pickle.load(fp)\n",
    "    #df_dict_rl_23 = pd.read_json(dict_rl_23, orient='index')   \n",
    "dict_rl_23[379][\"livre\"][\"prix_litteraire\"]#['1']['nom_prix']= 'Prix Goncourt'"
   ]
  },
  {
   "cell_type": "code",
   "execution_count": 9,
   "metadata": {},
   "outputs": [
    {
     "data": {
      "text/plain": [
       "1289    {'id': '', 'titre': 'Triste tigre- Grand Forma...\n",
       "Name: livre, dtype: object"
      ]
     },
     "execution_count": 9,
     "metadata": {},
     "output_type": "execute_result"
    }
   ],
   "source": [
    "df_dict_rl_23 = pd.DataFrame(dict_rl_23).T#,columns=[\"id\",\"nom\",\"prenom\",\"nom_complet\",\"genre\",\"pays\",\"latitude\",\"longitude\",\"continent\",\"livre\"])\n",
    "\n",
    "df_dict_rl_23\n",
    "df_dict_rl_23.loc[df_dict_rl_23['nom_complet'] == 'Neige Sinno')]['livre']"
   ]
  },
  {
   "cell_type": "code",
   "execution_count": 46,
   "metadata": {},
   "outputs": [
    {
     "data": {
      "text/plain": [
       "{'id_prix': '2FE',\n",
       " 'nom_prix': 'FEMINA',\n",
       " 'id_prix_detail': '2FE1FR',\n",
       " 'nom_prix_detail': 'FEMINA_FRANCAIS',\n",
       " 'annee': '2023',\n",
       " 'premiere_selection': 'OUI',\n",
       " 'deuxieme_selection': 'NON',\n",
       " 'troisieme_selection': 'NON',\n",
       " 'lauréat': 'NON'}"
      ]
     },
     "execution_count": 46,
     "metadata": {},
     "output_type": "execute_result"
    }
   ],
   "source": [
    "dict_rl_23[165][\"livre\"][\"prix_litteraire\"].setdefault( '0',\n",
    "{'id_prix': '2FE',\n",
    " 'nom_prix': 'FEMINA',\n",
    " 'id_prix_detail': '2FE1FR',\n",
    " 'nom_prix_detail': 'FEMINA_FRANCAIS',\n",
    " 'annee': '2023',\n",
    " 'premiere_selection': 'OUI',\n",
    " 'deuxieme_selection': 'NON',\n",
    " 'troisieme_selection': 'NON',\n",
    " 'lauréat': 'NON'}\n",
    ")\n",
    "\n",
    "#dict_rl_23[249][\"livre\"][\"prix_litteraire\"].setdefault( '1',\n",
    "#{'id_prix': '2FE',\n",
    "# 'nom_prix': 'FEMINA',\n",
    "# 'id_prix_detail': '2FE2ET',\n",
    "# 'nom_prix_detail': 'FEMINA_ETRANGER',\n",
    "# 'annee': '2023',\n",
    "# 'premiere_selection': 'OUI',\n",
    "# 'deuxieme_selection': 'NON',\n",
    "# 'troisieme_selection': 'NON',\n",
    "# 'lauréat': 'NON'}\n",
    "#)\n",
    "#dict_rl_23[330][\"livre\"][\"prix_litteraire\"].update PAS DE SELECTION SUPP"
   ]
  },
  {
   "cell_type": "markdown",
   "metadata": {},
   "source": [
    "|PRIX|PRIX_DETAIL|ID_PRIX|ID_PRIX_DETAIL|PREM_SELECTION|SEC_SELECTION|TROIS_SELECTION|RESULTAT|\n",
    "|---|---|---|---|---|---|---|---|\n",
    "FEMINA|FEMINA_FRANCAIS|2FE|2FE1FR|OUI|OUI|OUI|NON\n",
    "FEMINA|FEMINA_LYCEENS|2FE|2FE4LY|OUI|NON|NON|NON\n",
    "\n",
    "\n",
    "'0', {'id_prix': '2FE',\n",
    "  'nom_prix': 'FEMINA',\n",
    "  'id_prix_detail': '2FE4LY',\n",
    "  'nom_prix_detail': 'FEMINA_LYCEENS',\n",
    "  'annee': '2023',\n",
    "  'premiere_selection': 'OUI',\n",
    "  'deuxieme_selection': 'NON',\n",
    "  'troisieme_selection': 'NON',\n",
    "  'lauréat': 'NON'},\n",
    "  \n",
    " '1', {'id_prix': '2FE',\n",
    "  'nom_prix': 'FEMINA',\n",
    "  'id_prix_detail': '2FE1FR',\n",
    "  'nom_prix_detail': 'FEMINA_FRANCAIS',\n",
    "  'annee': '2023',\n",
    "  'premiere_selection': 'OUI',\n",
    "  'deuxieme_selection': 'OUI',\n",
    "  'troisieme_selection': 'NON',\n",
    "  'lauréat': 'NON'}}\n",
    "\n",
    "\n",
    "\n",
    "'2',\n",
    "{'id_prix': '10RE',\n",
    " 'nom_prix': 'RENAUDOT',\n",
    " 'id_prix_detail': '10RE2ES',\n",
    " 'nom_prix_detail': 'RENAUDOT_ESSAI',\n",
    " 'annee': '2023',\n",
    " 'premiere_selection': 'OUI',\n",
    " 'deuxieme_selection': 'NON',\n",
    " 'troisieme_selection': 'NON',\n",
    " 'lauréat': 'NON'}\n"
   ]
  },
  {
   "cell_type": "code",
   "execution_count": 19,
   "metadata": {},
   "outputs": [
    {
     "data": {
      "text/plain": [
       "{}"
      ]
     },
     "execution_count": 19,
     "metadata": {},
     "output_type": "execute_result"
    }
   ],
   "source": [
    "dict_rl_23[256][\"livre\"][\"prix_litteraire\"]#['1']['nom_prix']= 'Prix Goncourt'"
   ]
  },
  {
   "cell_type": "code",
   "execution_count": 47,
   "metadata": {},
   "outputs": [
    {
     "name": "stdout",
     "output_type": "stream",
     "text": [
      "dictionary saved successfully to file\n"
     ]
    }
   ],
   "source": [
    "# save dictionary to person_data.pkl file\n",
    "with open('dict_rl_23.pkl', 'wb') as fp:\n",
    "    pickle.dump(dict_rl_23, fp)\n",
    "    print('dictionary saved successfully to file')"
   ]
  },
  {
   "cell_type": "code",
   "execution_count": null,
   "metadata": {},
   "outputs": [],
   "source": []
  },
  {
   "cell_type": "markdown",
   "metadata": {
    "id": "XaZCbScCO8km",
    "jp-MarkdownHeadingCollapsed": true
   },
   "source": [
    "## A paraître"
   ]
  },
  {
   "cell_type": "code",
   "execution_count": null,
   "metadata": {
    "id": "tCDYlbDfO8kn",
    "scrolled": true
   },
   "outputs": [],
   "source": [
    "# url à scraper\n",
    "url = 'https://www.decitre.fr/livres/litterature/romans/top-a-paraitre.html?dctr_format[1]=GF&order=dctr_publication_date&dir=asc&p='\n",
    "#'https://www.decitre.fr/livres/litterature/romans/litterature-francaise/top-a-paraitre.html?dctr_format%5B0%5D=GF&dctr_publication_date%5B3%5D=%2B3months&dir=asc&order=dctr_publisher_sort&p='\n",
    "#nb pages = 23\n",
    "liste_rl = []\n",
    "\n",
    "#your code\n",
    "for nb in range(30):\n",
    "    nb = nb+1\n",
    "    trend = requests.get(url+str(nb)).content\n",
    "    trend_soup = BeautifulSoup(trend,\"html.parser\")\n",
    "    livre = trend_soup.findAll('li', attrs={\"class\" : \"dct-product\"})\n",
    "    for x in livre :\n",
    "        #for y in x.find('picture', attrs={\"class\" : \"lozad\"}):\n",
    "        #    print (y['data-srcset'])\n",
    "        url_data_livre = x.find('a')['href']\n",
    "        #print(\"url : \", url_data_livre, \"\\n\")\n",
    "\n",
    "        data_livre = requests.get(url_data_livre).content\n",
    "        data_livre_soup = BeautifulSoup(data_livre,\"html.parser\")\n",
    "\n",
    "        #### infos du livre ###\n",
    "\n",
    "        ## Catégories\n",
    "        data_livre_cat = trend_soup.find('div', attrs={\"id\" : \"main_breadcrumb\",\n",
    "                                      \"class\" : \"breadcrumbs\"}).findAll('span')\n",
    "        liste_cat = [cat.get_text(strip=True) for cat in data_livre_cat]\n",
    "        liste_cat_final = [c for c in liste_cat if c !='›']\n",
    "\n",
    "        ## Titre\n",
    "        data_livre_titre = data_livre_soup.find('h1', attrs={\"class\" : \"product-title\"}).get_text(strip=True)\n",
    "        #print(\"titre : \", data_livre_titre, \"\\n\")\n",
    "\n",
    "        ### Auteur\n",
    "        data_livre_auteur = data_livre_soup.find('a', attrs={\"class\" : \"author author--main trackme\"}).get_text(strip=True)\n",
    "        #print(\"auteur : \", data_livre_auteur, \"\\n\")\n",
    "\n",
    "\n",
    "        ### prix grand format\n",
    "        data_livre_prix_gf = data_livre_soup.find('div', attrs={\"class\" : \"price fp-wide--margin-bottom\"}).find('span').get_text(strip=True)#.findAll('span', attrs={\"class\" : \"final-price\"})\n",
    "        #print(\"prix grand format : \", data_livre_prix_gf, \"\\n\")\n",
    "\n",
    "        ### prix ebook\n",
    "        try :\n",
    "            data_livre_prix_ebook = data_livre_soup.find('a', attrs={\"class\" : \"ebook\"}).get_text(strip=True)\n",
    "            #print(\"prix ebook : \", data_livre_prix_ebook, \"\\n\")\n",
    "        except AttributeError:\n",
    "            #print(\"pas de prix ebook\", \"\\n\")\n",
    "            data_livre_prix_ebook = \"pas de prix ebook\"\n",
    "\n",
    "\n",
    "        ## Couverture\n",
    "        data_livre_couv = data_livre_soup.find('source', attrs={\"class\" : \"lozad\"})['data-srcset']\n",
    "        #print(\"couv\", data_livre_couv, \"\\n\")\n",
    "\n",
    "\n",
    "        ## Caractéristique\n",
    "        data_livre_carac = data_livre_soup.find('ul', attrs={\"class\" :\"informations-container\"}).get_text(\"|\",strip=True)#.find_all('li',attrs={\"class\" :\"information\"}).get_text()\n",
    "        #print(\"caracteristiques : \", data_livre_carac.get_text(),\"\\n\")\n",
    "\n",
    "\n",
    "        dic_rl = {'url' : url_data_livre,\n",
    "           'categorie' : liste_cat_final,\n",
    "           'titre':data_livre_titre,\n",
    "           'auteur':data_livre_auteur,\n",
    "           'prix_gf':data_livre_prix_gf,\n",
    "           'prix_ebook':data_livre_prix_ebook,\n",
    "            #'caracteristiques_bis' : temp_dict,\n",
    "           'couverture':data_livre_couv,\n",
    "           'caracteristiques':data_livre_carac}\n",
    "\n",
    "\n",
    "        ## Caractéristique\n",
    "        data_livre_carac_dict = data_livre_soup.find('ul', attrs={\"class\" :\"informations-container\"}).findAll('li', attrs={\"class\" : \"information\"})\n",
    "        for c in data_livre_carac_dict :\n",
    "            try :\n",
    "                k = c.find('span').get_text(strip=True)\n",
    "                v = c.find('div', attrs={\"class\" :\"value\"}).get_text(strip=True)\n",
    "            except AttributeError:\n",
    "                print(\"NC\")\n",
    "            dic_rl[k]=v\n",
    "\n",
    "        liste_rl.append(dic_rl)"
   ]
  },
  {
   "cell_type": "code",
   "execution_count": null,
   "metadata": {
    "id": "0kiXx78bO8ko"
   },
   "outputs": [],
   "source": [
    "# création du dataFrame\n",
    "df_rl_a_paraitre = pd.DataFrame(liste_rl)\n",
    "\n",
    "# changement du format des dates de dd/mm/yyyy à YYYY-MM-DD\n",
    "df_rl_a_paraitre[\"Date de parution\"] = pd.to_datetime(df_rl_a_paraitre[\"Date de parution\"], dayfirst=True)\n",
    "\n",
    "# Ajout de colonnes\n",
    "df_rl_a_paraitre = pd.concat((df_rl_a_paraitre,pd.DataFrame(columns=['TYPES','GENRE','PREMIER_ROMAN','MOIS','ANNEE_PUBLICATION','PAYS','CONTINENT','Traduit de','Traduit par'])), axis=1)\n",
    "\n",
    "# export en CSV\n",
    "df_rl_a_paraitre.to_csv('liste_rl.csv', sep=\";\", index = False)\n",
    "\n",
    "# export au format pickle\n",
    "df_rl_a_paraitre.to_pickle(\"liste_rl.pkl\")\n",
    "df_rl_a_paraitre = pd.read_pickle(\"liste_rl.pkl\")"
   ]
  },
  {
   "cell_type": "code",
   "execution_count": null,
   "metadata": {
    "id": "39yO7Oi9O8kp",
    "outputId": "950f02b3-a6a2-4bd2-db1f-be8c431fdc93"
   },
   "outputs": [
    {
     "data": {
      "text/html": [
       "<div>\n",
       "<style scoped>\n",
       "    .dataframe tbody tr th:only-of-type {\n",
       "        vertical-align: middle;\n",
       "    }\n",
       "\n",
       "    .dataframe tbody tr th {\n",
       "        vertical-align: top;\n",
       "    }\n",
       "\n",
       "    .dataframe thead th {\n",
       "        text-align: right;\n",
       "    }\n",
       "</style>\n",
       "<table border=\"1\" class=\"dataframe\">\n",
       "  <thead>\n",
       "    <tr style=\"text-align: right;\">\n",
       "      <th></th>\n",
       "      <th>url</th>\n",
       "      <th>categorie</th>\n",
       "      <th>titre</th>\n",
       "      <th>auteur</th>\n",
       "      <th>prix_gf</th>\n",
       "      <th>prix_ebook</th>\n",
       "      <th>couverture</th>\n",
       "      <th>caracteristiques</th>\n",
       "      <th>Date de parution</th>\n",
       "      <th>Editeur</th>\n",
       "      <th>...</th>\n",
       "      <th>Dimensions</th>\n",
       "      <th>TYPES</th>\n",
       "      <th>GENRE</th>\n",
       "      <th>PREMIER_ROMAN</th>\n",
       "      <th>MOIS</th>\n",
       "      <th>ANNEE_PUBLICATION</th>\n",
       "      <th>PAYS</th>\n",
       "      <th>CONTINENT</th>\n",
       "      <th>Traduit de</th>\n",
       "      <th>Traduit par</th>\n",
       "    </tr>\n",
       "  </thead>\n",
       "  <tbody>\n",
       "    <tr>\n",
       "      <th>0</th>\n",
       "      <td>https://www.decitre.fr/livres/le-dernier-eunuq...</td>\n",
       "      <td>[Livres, Littérature, Romans]</td>\n",
       "      <td>LE DERNIER EUNUQUE- Grand Format</td>\n",
       "      <td>Freidoune Sahebjam</td>\n",
       "      <td>16,77 €</td>\n",
       "      <td>pas de prix ebook</td>\n",
       "      <td>https://products-images.di-static.com/image/fr...</td>\n",
       "      <td>Date de parution|01/12/1997|Editeur|Flammarion...</td>\n",
       "      <td>1997-12-01</td>\n",
       "      <td>Flammarion</td>\n",
       "      <td>...</td>\n",
       "      <td>NaN</td>\n",
       "      <td>NaN</td>\n",
       "      <td>NaN</td>\n",
       "      <td>NaN</td>\n",
       "      <td>NaN</td>\n",
       "      <td>NaN</td>\n",
       "      <td>NaN</td>\n",
       "      <td>NaN</td>\n",
       "      <td>NaN</td>\n",
       "      <td>NaN</td>\n",
       "    </tr>\n",
       "    <tr>\n",
       "      <th>1</th>\n",
       "      <td>https://www.decitre.fr/livres/fourmis-mode-d-e...</td>\n",
       "      <td>[Livres, Littérature, Romans]</td>\n",
       "      <td>Fourmis mode d'emploi- Grand Format</td>\n",
       "      <td>Bernard Werber</td>\n",
       "      <td>5,95 €</td>\n",
       "      <td>pas de prix ebook</td>\n",
       "      <td>https://products-images.di-static.com/image/be...</td>\n",
       "      <td>Date de parution|01/02/1998|Editeur|Flammarion...</td>\n",
       "      <td>1998-02-01</td>\n",
       "      <td>Flammarion</td>\n",
       "      <td>...</td>\n",
       "      <td>NaN</td>\n",
       "      <td>NaN</td>\n",
       "      <td>NaN</td>\n",
       "      <td>NaN</td>\n",
       "      <td>NaN</td>\n",
       "      <td>NaN</td>\n",
       "      <td>NaN</td>\n",
       "      <td>NaN</td>\n",
       "      <td>NaN</td>\n",
       "      <td>NaN</td>\n",
       "    </tr>\n",
       "    <tr>\n",
       "      <th>2</th>\n",
       "      <td>https://www.decitre.fr/livres/tapis-d-artistes...</td>\n",
       "      <td>[Livres, Littérature, Romans]</td>\n",
       "      <td>Tapis d'artistes- Grand Format</td>\n",
       "      <td>Suzanne Day</td>\n",
       "      <td>15,24 €</td>\n",
       "      <td>pas de prix ebook</td>\n",
       "      <td>https://products-images.di-static.com/image/ce...</td>\n",
       "      <td>Date de parution|01/01/1999|Editeur|Flammarion...</td>\n",
       "      <td>1999-01-01</td>\n",
       "      <td>Flammarion</td>\n",
       "      <td>...</td>\n",
       "      <td>NaN</td>\n",
       "      <td>NaN</td>\n",
       "      <td>NaN</td>\n",
       "      <td>NaN</td>\n",
       "      <td>NaN</td>\n",
       "      <td>NaN</td>\n",
       "      <td>NaN</td>\n",
       "      <td>NaN</td>\n",
       "      <td>NaN</td>\n",
       "      <td>NaN</td>\n",
       "    </tr>\n",
       "    <tr>\n",
       "      <th>3</th>\n",
       "      <td>https://www.decitre.fr/livres/dominique-de-rou...</td>\n",
       "      <td>[Livres, Littérature, Romans]</td>\n",
       "      <td>Dominique de Roux- Grand Format</td>\n",
       "      <td>Jean-Luc Barré</td>\n",
       "      <td>17,00 €</td>\n",
       "      <td>pas de prix ebook</td>\n",
       "      <td>https://products-images.di-static.com/image/je...</td>\n",
       "      <td>Date de parution|01/01/1999|Editeur|Flammarion...</td>\n",
       "      <td>1999-01-01</td>\n",
       "      <td>Flammarion</td>\n",
       "      <td>...</td>\n",
       "      <td>NaN</td>\n",
       "      <td>NaN</td>\n",
       "      <td>NaN</td>\n",
       "      <td>NaN</td>\n",
       "      <td>NaN</td>\n",
       "      <td>NaN</td>\n",
       "      <td>NaN</td>\n",
       "      <td>NaN</td>\n",
       "      <td>NaN</td>\n",
       "      <td>NaN</td>\n",
       "    </tr>\n",
       "    <tr>\n",
       "      <th>4</th>\n",
       "      <td>https://www.decitre.fr/livres/helena-rubinstei...</td>\n",
       "      <td>[Livres, Littérature, Romans]</td>\n",
       "      <td>Héléna Rubinstein- Grand Format</td>\n",
       "      <td>Dumeige</td>\n",
       "      <td>18,29 €</td>\n",
       "      <td>pas de prix ebook</td>\n",
       "      <td>https://products-images.di-static.com/image/ce...</td>\n",
       "      <td>Date de parution|01/01/1999|Editeur|Flammarion...</td>\n",
       "      <td>1999-01-01</td>\n",
       "      <td>Flammarion</td>\n",
       "      <td>...</td>\n",
       "      <td>NaN</td>\n",
       "      <td>NaN</td>\n",
       "      <td>NaN</td>\n",
       "      <td>NaN</td>\n",
       "      <td>NaN</td>\n",
       "      <td>NaN</td>\n",
       "      <td>NaN</td>\n",
       "      <td>NaN</td>\n",
       "      <td>NaN</td>\n",
       "      <td>NaN</td>\n",
       "    </tr>\n",
       "  </tbody>\n",
       "</table>\n",
       "<p>5 rows × 27 columns</p>\n",
       "</div>"
      ],
      "text/plain": [
       "                                                 url  \\\n",
       "0  https://www.decitre.fr/livres/le-dernier-eunuq...   \n",
       "1  https://www.decitre.fr/livres/fourmis-mode-d-e...   \n",
       "2  https://www.decitre.fr/livres/tapis-d-artistes...   \n",
       "3  https://www.decitre.fr/livres/dominique-de-rou...   \n",
       "4  https://www.decitre.fr/livres/helena-rubinstei...   \n",
       "\n",
       "                       categorie                                titre  \\\n",
       "0  [Livres, Littérature, Romans]     LE DERNIER EUNUQUE- Grand Format   \n",
       "1  [Livres, Littérature, Romans]  Fourmis mode d'emploi- Grand Format   \n",
       "2  [Livres, Littérature, Romans]       Tapis d'artistes- Grand Format   \n",
       "3  [Livres, Littérature, Romans]      Dominique de Roux- Grand Format   \n",
       "4  [Livres, Littérature, Romans]      Héléna Rubinstein- Grand Format   \n",
       "\n",
       "               auteur  prix_gf         prix_ebook  \\\n",
       "0  Freidoune Sahebjam  16,77 €  pas de prix ebook   \n",
       "1      Bernard Werber   5,95 €  pas de prix ebook   \n",
       "2         Suzanne Day  15,24 €  pas de prix ebook   \n",
       "3      Jean-Luc Barré  17,00 €  pas de prix ebook   \n",
       "4             Dumeige  18,29 €  pas de prix ebook   \n",
       "\n",
       "                                          couverture  \\\n",
       "0  https://products-images.di-static.com/image/fr...   \n",
       "1  https://products-images.di-static.com/image/be...   \n",
       "2  https://products-images.di-static.com/image/ce...   \n",
       "3  https://products-images.di-static.com/image/je...   \n",
       "4  https://products-images.di-static.com/image/ce...   \n",
       "\n",
       "                                    caracteristiques Date de parution  \\\n",
       "0  Date de parution|01/12/1997|Editeur|Flammarion...       1997-12-01   \n",
       "1  Date de parution|01/02/1998|Editeur|Flammarion...       1998-02-01   \n",
       "2  Date de parution|01/01/1999|Editeur|Flammarion...       1999-01-01   \n",
       "3  Date de parution|01/01/1999|Editeur|Flammarion...       1999-01-01   \n",
       "4  Date de parution|01/01/1999|Editeur|Flammarion...       1999-01-01   \n",
       "\n",
       "      Editeur  ... Dimensions TYPES GENRE PREMIER_ROMAN MOIS  \\\n",
       "0  Flammarion  ...        NaN   NaN   NaN           NaN  NaN   \n",
       "1  Flammarion  ...        NaN   NaN   NaN           NaN  NaN   \n",
       "2  Flammarion  ...        NaN   NaN   NaN           NaN  NaN   \n",
       "3  Flammarion  ...        NaN   NaN   NaN           NaN  NaN   \n",
       "4  Flammarion  ...        NaN   NaN   NaN           NaN  NaN   \n",
       "\n",
       "  ANNEE_PUBLICATION PAYS CONTINENT Traduit de Traduit par  \n",
       "0               NaN  NaN       NaN        NaN         NaN  \n",
       "1               NaN  NaN       NaN        NaN         NaN  \n",
       "2               NaN  NaN       NaN        NaN         NaN  \n",
       "3               NaN  NaN       NaN        NaN         NaN  \n",
       "4               NaN  NaN       NaN        NaN         NaN  \n",
       "\n",
       "[5 rows x 27 columns]"
      ]
     },
     "execution_count": 7,
     "metadata": {},
     "output_type": "execute_result"
    }
   ],
   "source": [
    "#df_rl_tout_cat = pd.read_csv('liste_rl.csv', sep=\";\")#.drop(columns=['Unnamed: 0'])\n",
    "df_rl_a_paraitre = pd.read_pickle(\"liste_rl.pkl\")\n",
    "df_rl_a_paraitre.head()"
   ]
  },
  {
   "cell_type": "code",
   "execution_count": null,
   "metadata": {
    "id": "UGG2fcvLO8kq",
    "outputId": "ed93281c-2c13-4a6f-daea-dccbce4e8422"
   },
   "outputs": [
    {
     "data": {
      "text/plain": [
       "Index(['url', 'categorie', 'titre', 'auteur', 'prix_gf', 'prix_ebook',\n",
       "       'couverture', 'caracteristiques', 'Date de parution', 'Editeur', 'ISBN',\n",
       "       'EAN', 'Format', 'Présentation', 'Poids', 'Collection', 'Nb. de pages',\n",
       "       'Dimensions', 'TYPES', 'GENRE', 'PREMIER_ROMAN', 'MOIS',\n",
       "       'ANNEE_PUBLICATION', 'PAYS', 'CONTINENT', 'Traduit de', 'Traduit par'],\n",
       "      dtype='object')"
      ]
     },
     "execution_count": 135,
     "metadata": {},
     "output_type": "execute_result"
    }
   ],
   "source": [
    "# Split string column into new columns\n",
    "# Ajout de colonnes\n",
    "df_rl_a_paraitre.columns"
   ]
  },
  {
   "cell_type": "code",
   "execution_count": null,
   "metadata": {
    "id": "f7WLxUvGO8kq",
    "outputId": "e62b1ffa-f752-4f82-c891-b4a6ff750c6e"
   },
   "outputs": [
    {
     "data": {
      "text/html": [
       "<div>\n",
       "<style scoped>\n",
       "    .dataframe tbody tr th:only-of-type {\n",
       "        vertical-align: middle;\n",
       "    }\n",
       "\n",
       "    .dataframe tbody tr th {\n",
       "        vertical-align: top;\n",
       "    }\n",
       "\n",
       "    .dataframe thead th {\n",
       "        text-align: right;\n",
       "    }\n",
       "</style>\n",
       "<table border=\"1\" class=\"dataframe\">\n",
       "  <thead>\n",
       "    <tr style=\"text-align: right;\">\n",
       "      <th></th>\n",
       "      <th>url</th>\n",
       "      <th>categorie</th>\n",
       "      <th>titre</th>\n",
       "      <th>auteur</th>\n",
       "      <th>prix_gf</th>\n",
       "      <th>prix_ebook</th>\n",
       "      <th>couverture</th>\n",
       "      <th>caracteristiques</th>\n",
       "      <th>Date de parution</th>\n",
       "      <th>Editeur</th>\n",
       "      <th>...</th>\n",
       "      <th>Dimensions</th>\n",
       "      <th>TYPES</th>\n",
       "      <th>GENRE</th>\n",
       "      <th>PREMIER_ROMAN</th>\n",
       "      <th>MOIS</th>\n",
       "      <th>ANNEE_PUBLICATION</th>\n",
       "      <th>PAYS</th>\n",
       "      <th>CONTINENT</th>\n",
       "      <th>Traduit de</th>\n",
       "      <th>Traduit par</th>\n",
       "    </tr>\n",
       "  </thead>\n",
       "  <tbody>\n",
       "    <tr>\n",
       "      <th>60</th>\n",
       "      <td>https://www.decitre.fr/livres/batouala-9782810...</td>\n",
       "      <td>[Livres, Littérature, Romans]</td>\n",
       "      <td>Batouala- Grand Format</td>\n",
       "      <td>René Maran</td>\n",
       "      <td>12,90 €</td>\n",
       "      <td>pas de prix ebook</td>\n",
       "      <td>https://products-images.di-static.com/image/re...</td>\n",
       "      <td>Date de parution|31/08/2023|Editeur|Le Figaro ...</td>\n",
       "      <td>2023-08-31</td>\n",
       "      <td>Le Figaro Editions</td>\n",
       "      <td>...</td>\n",
       "      <td>12,5 cm × 20,5 cm × 1,5 cm</td>\n",
       "      <td>NaN</td>\n",
       "      <td>NaN</td>\n",
       "      <td>NaN</td>\n",
       "      <td>NaN</td>\n",
       "      <td>NaN</td>\n",
       "      <td>NaN</td>\n",
       "      <td>NaN</td>\n",
       "      <td>NaN</td>\n",
       "      <td>NaN</td>\n",
       "    </tr>\n",
       "    <tr>\n",
       "      <th>61</th>\n",
       "      <td>https://www.decitre.fr/livres/juliette-9782221...</td>\n",
       "      <td>[Livres, Littérature, Romans]</td>\n",
       "      <td>Juliette- Grand Format</td>\n",
       "      <td>Al malik Abd</td>\n",
       "      <td>18,00 €</td>\n",
       "      <td>Ebook12,99 €</td>\n",
       "      <td>https://products-images.di-static.com/image/al...</td>\n",
       "      <td>Date de parution|31/08/2023|Editeur|Robert Laf...</td>\n",
       "      <td>2023-08-31</td>\n",
       "      <td>Robert Laffont</td>\n",
       "      <td>...</td>\n",
       "      <td>13,4 cm × 20,2 cm × 1,4 cm</td>\n",
       "      <td>NaN</td>\n",
       "      <td>NaN</td>\n",
       "      <td>NaN</td>\n",
       "      <td>NaN</td>\n",
       "      <td>NaN</td>\n",
       "      <td>NaN</td>\n",
       "      <td>NaN</td>\n",
       "      <td>NaN</td>\n",
       "      <td>NaN</td>\n",
       "    </tr>\n",
       "    <tr>\n",
       "      <th>62</th>\n",
       "      <td>https://www.decitre.fr/livres/la-danse-des-dam...</td>\n",
       "      <td>[Livres, Littérature, Romans]</td>\n",
       "      <td>La danse des damnées- Grand Format</td>\n",
       "      <td>Kiran Millwood Hargrave</td>\n",
       "      <td>22,00 €</td>\n",
       "      <td>Ebook14,99 €</td>\n",
       "      <td>https://products-images.di-static.com/image/ki...</td>\n",
       "      <td>Date de parution|31/08/2023|Editeur|Robert Laf...</td>\n",
       "      <td>2023-08-31</td>\n",
       "      <td>Robert Laffont</td>\n",
       "      <td>...</td>\n",
       "      <td>13,7 cm × 21,7 cm × 2,6 cm</td>\n",
       "      <td>NaN</td>\n",
       "      <td>NaN</td>\n",
       "      <td>NaN</td>\n",
       "      <td>NaN</td>\n",
       "      <td>NaN</td>\n",
       "      <td>NaN</td>\n",
       "      <td>NaN</td>\n",
       "      <td>NaN</td>\n",
       "      <td>NaN</td>\n",
       "    </tr>\n",
       "    <tr>\n",
       "      <th>63</th>\n",
       "      <td>https://www.decitre.fr/livres/une-journee-de-c...</td>\n",
       "      <td>[Livres, Littérature, Romans]</td>\n",
       "      <td>Une journée de chien- Grand Format</td>\n",
       "      <td>Sander Kollaard</td>\n",
       "      <td>19,00 €</td>\n",
       "      <td>Ebook12,99 €</td>\n",
       "      <td>https://products-images.di-static.com/image/sa...</td>\n",
       "      <td>Date de parution|31/08/2023|Editeur|Héloïse d'...</td>\n",
       "      <td>2023-08-31</td>\n",
       "      <td>Héloïse d'Ormesson</td>\n",
       "      <td>...</td>\n",
       "      <td>14,2 cm × 20,8 cm × 1,8 cm</td>\n",
       "      <td>NaN</td>\n",
       "      <td>NaN</td>\n",
       "      <td>NaN</td>\n",
       "      <td>NaN</td>\n",
       "      <td>NaN</td>\n",
       "      <td>NaN</td>\n",
       "      <td>NaN</td>\n",
       "      <td>NaN</td>\n",
       "      <td>NaN</td>\n",
       "    </tr>\n",
       "    <tr>\n",
       "      <th>64</th>\n",
       "      <td>https://www.decitre.fr/livres/sous-les-strates...</td>\n",
       "      <td>[Livres, Littérature, Romans]</td>\n",
       "      <td>Sous les strates- Grand Format</td>\n",
       "      <td>Lou Eve</td>\n",
       "      <td>20,00 €</td>\n",
       "      <td>Ebook12,99 €</td>\n",
       "      <td>https://products-images.di-static.com/image/lo...</td>\n",
       "      <td>Date de parution|31/08/2023|Editeur|Les Escale...</td>\n",
       "      <td>2023-08-31</td>\n",
       "      <td>Les Escales (Editions)</td>\n",
       "      <td>...</td>\n",
       "      <td>14,4 cm × 22,9 cm × 2,2 cm</td>\n",
       "      <td>NaN</td>\n",
       "      <td>NaN</td>\n",
       "      <td>NaN</td>\n",
       "      <td>NaN</td>\n",
       "      <td>NaN</td>\n",
       "      <td>NaN</td>\n",
       "      <td>NaN</td>\n",
       "      <td>NaN</td>\n",
       "      <td>NaN</td>\n",
       "    </tr>\n",
       "  </tbody>\n",
       "</table>\n",
       "<p>5 rows × 27 columns</p>\n",
       "</div>"
      ],
      "text/plain": [
       "                                                  url  \\\n",
       "60  https://www.decitre.fr/livres/batouala-9782810...   \n",
       "61  https://www.decitre.fr/livres/juliette-9782221...   \n",
       "62  https://www.decitre.fr/livres/la-danse-des-dam...   \n",
       "63  https://www.decitre.fr/livres/une-journee-de-c...   \n",
       "64  https://www.decitre.fr/livres/sous-les-strates...   \n",
       "\n",
       "                        categorie                               titre  \\\n",
       "60  [Livres, Littérature, Romans]              Batouala- Grand Format   \n",
       "61  [Livres, Littérature, Romans]              Juliette- Grand Format   \n",
       "62  [Livres, Littérature, Romans]  La danse des damnées- Grand Format   \n",
       "63  [Livres, Littérature, Romans]  Une journée de chien- Grand Format   \n",
       "64  [Livres, Littérature, Romans]      Sous les strates- Grand Format   \n",
       "\n",
       "                     auteur  prix_gf         prix_ebook  \\\n",
       "60               René Maran  12,90 €  pas de prix ebook   \n",
       "61             Al malik Abd  18,00 €       Ebook12,99 €   \n",
       "62  Kiran Millwood Hargrave  22,00 €       Ebook14,99 €   \n",
       "63          Sander Kollaard  19,00 €       Ebook12,99 €   \n",
       "64                  Lou Eve  20,00 €       Ebook12,99 €   \n",
       "\n",
       "                                           couverture  \\\n",
       "60  https://products-images.di-static.com/image/re...   \n",
       "61  https://products-images.di-static.com/image/al...   \n",
       "62  https://products-images.di-static.com/image/ki...   \n",
       "63  https://products-images.di-static.com/image/sa...   \n",
       "64  https://products-images.di-static.com/image/lo...   \n",
       "\n",
       "                                     caracteristiques Date de parution  \\\n",
       "60  Date de parution|31/08/2023|Editeur|Le Figaro ...       2023-08-31   \n",
       "61  Date de parution|31/08/2023|Editeur|Robert Laf...       2023-08-31   \n",
       "62  Date de parution|31/08/2023|Editeur|Robert Laf...       2023-08-31   \n",
       "63  Date de parution|31/08/2023|Editeur|Héloïse d'...       2023-08-31   \n",
       "64  Date de parution|31/08/2023|Editeur|Les Escale...       2023-08-31   \n",
       "\n",
       "                   Editeur  ...                  Dimensions TYPES GENRE  \\\n",
       "60      Le Figaro Editions  ...  12,5 cm × 20,5 cm × 1,5 cm   NaN   NaN   \n",
       "61          Robert Laffont  ...  13,4 cm × 20,2 cm × 1,4 cm   NaN   NaN   \n",
       "62          Robert Laffont  ...  13,7 cm × 21,7 cm × 2,6 cm   NaN   NaN   \n",
       "63      Héloïse d'Ormesson  ...  14,2 cm × 20,8 cm × 1,8 cm   NaN   NaN   \n",
       "64  Les Escales (Editions)  ...  14,4 cm × 22,9 cm × 2,2 cm   NaN   NaN   \n",
       "\n",
       "   PREMIER_ROMAN MOIS ANNEE_PUBLICATION PAYS CONTINENT Traduit de Traduit par  \n",
       "60           NaN  NaN               NaN  NaN       NaN        NaN         NaN  \n",
       "61           NaN  NaN               NaN  NaN       NaN        NaN         NaN  \n",
       "62           NaN  NaN               NaN  NaN       NaN        NaN         NaN  \n",
       "63           NaN  NaN               NaN  NaN       NaN        NaN         NaN  \n",
       "64           NaN  NaN               NaN  NaN       NaN        NaN         NaN  \n",
       "\n",
       "[5 rows x 27 columns]"
      ]
     },
     "execution_count": 136,
     "metadata": {},
     "output_type": "execute_result"
    }
   ],
   "source": [
    "df_rl_a_paraitre_2023 = df_rl_a_paraitre[df_rl_a_paraitre['Date de parution'] >= '2023-08-01']\n",
    "\n",
    "df_rl_a_paraitre_2023.head()"
   ]
  },
  {
   "cell_type": "code",
   "execution_count": null,
   "metadata": {
    "id": "23HqB_umO8kr",
    "outputId": "380964bc-d13f-4033-c0cf-43dfcfeb4009"
   },
   "outputs": [
    {
     "data": {
      "text/html": [
       "<div>\n",
       "<style scoped>\n",
       "    .dataframe tbody tr th:only-of-type {\n",
       "        vertical-align: middle;\n",
       "    }\n",
       "\n",
       "    .dataframe tbody tr th {\n",
       "        vertical-align: top;\n",
       "    }\n",
       "\n",
       "    .dataframe thead th {\n",
       "        text-align: right;\n",
       "    }\n",
       "</style>\n",
       "<table border=\"1\" class=\"dataframe\">\n",
       "  <thead>\n",
       "    <tr style=\"text-align: right;\">\n",
       "      <th></th>\n",
       "      <th>url</th>\n",
       "      <th>categorie</th>\n",
       "      <th>titre</th>\n",
       "      <th>auteur</th>\n",
       "      <th>prix_gf</th>\n",
       "      <th>prix_ebook</th>\n",
       "      <th>couverture</th>\n",
       "      <th>caracteristiques</th>\n",
       "      <th>Date de parution</th>\n",
       "      <th>Editeur</th>\n",
       "      <th>...</th>\n",
       "      <th>Dimensions</th>\n",
       "      <th>TYPES</th>\n",
       "      <th>GENRE</th>\n",
       "      <th>PREMIER_ROMAN</th>\n",
       "      <th>MOIS</th>\n",
       "      <th>ANNEE_PUBLICATION</th>\n",
       "      <th>PAYS</th>\n",
       "      <th>CONTINENT</th>\n",
       "      <th>Traduit de</th>\n",
       "      <th>Traduit par</th>\n",
       "    </tr>\n",
       "  </thead>\n",
       "  <tbody>\n",
       "  </tbody>\n",
       "</table>\n",
       "<p>0 rows × 27 columns</p>\n",
       "</div>"
      ],
      "text/plain": [
       "Empty DataFrame\n",
       "Columns: [url, categorie, titre, auteur, prix_gf, prix_ebook, couverture, caracteristiques, Date de parution, Editeur, ISBN, EAN, Format, Présentation, Poids, Collection, Nb. de pages, Dimensions, TYPES, GENRE, PREMIER_ROMAN, MOIS, ANNEE_PUBLICATION, PAYS, CONTINENT, Traduit de, Traduit par]\n",
       "Index: []\n",
       "\n",
       "[0 rows x 27 columns]"
      ]
     },
     "execution_count": 138,
     "metadata": {},
     "output_type": "execute_result"
    }
   ],
   "source": [
    "df_rl_a_paraitre.loc[df_rl_a_paraitre['titre'].str.contains('Jeanne')]"
   ]
  },
  {
   "cell_type": "markdown",
   "metadata": {
    "id": "qqJK3SBNO8kr",
    "jp-MarkdownHeadingCollapsed": true
   },
   "source": [
    "## Parus"
   ]
  },
  {
   "cell_type": "code",
   "execution_count": null,
   "metadata": {
    "id": "gVe4uJXqO8kr"
   },
   "outputs": [],
   "source": [
    "# url à scraper\n",
    "url_parus = 'https://www.decitre.fr/livres/litterature/romans/nouveautes.html?dctr_format[0]=GF&dir=desc&order=dctr_publication_date&p='\n",
    "#'https://www.decitre.fr/livres/litterature/romans/litterature-francaise/top-a-paraitre.html?dctr_format%5B0%5D=GF&dctr_publication_date%5B3%5D=%2B3months&dir=asc&order=dctr_publisher_sort&p='\n",
    "#nb pages = 30\n",
    "liste_rl_parus = []\n",
    "\n",
    "#your code\n",
    "for nb in range(30):\n",
    "    nb = nb+1\n",
    "    trend = requests.get(url_parus+str(nb)).content\n",
    "    trend_soup = BeautifulSoup(trend,\"html.parser\")\n",
    "    livre = trend_soup.findAll('li', attrs={\"class\" : \"dct-product\"})\n",
    "    for x in livre :\n",
    "        #for y in x.find('picture', attrs={\"class\" : \"lozad\"}):\n",
    "        #    print (y['data-srcset'])\n",
    "        url_data_livre = x.find('a')['href']\n",
    "        #print(\"url : \", url_data_livre, \"\\n\")\n",
    "\n",
    "        data_livre = requests.get(url_data_livre).content\n",
    "        data_livre_soup = BeautifulSoup(data_livre,\"html.parser\")\n",
    "\n",
    "        #### infos du livre ###\n",
    "\n",
    "        ## Catégories\n",
    "        data_livre_cat = trend_soup.find('div', attrs={\"id\" : \"main_breadcrumb\",\n",
    "                                      \"class\" : \"breadcrumbs\"}).findAll('span')\n",
    "        liste_cat = [cat.get_text(strip=True) for cat in data_livre_cat]\n",
    "        liste_cat_final = [c for c in liste_cat if c !='›']\n",
    "\n",
    "        ## Titre\n",
    "        data_livre_titre = data_livre_soup.find('h1', attrs={\"class\" : \"product-title\"}).get_text(strip=True)\n",
    "        #print(\"titre : \", data_livre_titre, \"\\n\")\n",
    "\n",
    "        ### Auteur\n",
    "        data_livre_auteur = data_livre_soup.find('a', attrs={\"class\" : \"author author--main trackme\"}).get_text(strip=True)\n",
    "        #print(\"auteur : \", data_livre_auteur, \"\\n\")\n",
    "\n",
    "\n",
    "        ### prix grand format\n",
    "        data_livre_prix_gf = data_livre_soup.find('div', attrs={\"class\" : \"price fp-wide--margin-bottom\"}).find('span').get_text(strip=True)#.findAll('span', attrs={\"class\" : \"final-price\"})\n",
    "        #print(\"prix grand format : \", data_livre_prix_gf, \"\\n\")\n",
    "\n",
    "        ### prix ebook\n",
    "        try :\n",
    "            data_livre_prix_ebook = data_livre_soup.find('a', attrs={\"class\" : \"ebook\"}).get_text(strip=True)\n",
    "            #print(\"prix ebook : \", data_livre_prix_ebook, \"\\n\")\n",
    "        except AttributeError:\n",
    "            #print(\"pas de prix ebook\", \"\\n\")\n",
    "            data_livre_prix_ebook = \"pas de prix ebook\"\n",
    "\n",
    "\n",
    "        ## Couverture\n",
    "        data_livre_couv = data_livre_soup.find('source', attrs={\"class\" : \"lozad\"})['data-srcset']\n",
    "        #print(\"couv\", data_livre_couv, \"\\n\")\n",
    "\n",
    "\n",
    "        ## Caractéristique\n",
    "        data_livre_carac = data_livre_soup.find('ul', attrs={\"class\" :\"informations-container\"}).get_text(\"|\",strip=True)#.find_all('li',attrs={\"class\" :\"information\"}).get_text()\n",
    "        #print(\"caracteristiques : \", data_livre_carac.get_text(),\"\\n\")\n",
    "\n",
    "\n",
    "        dic_rl_parus = {'url' : url_data_livre,\n",
    "           'categorie' : liste_cat_final,\n",
    "           'titre':data_livre_titre,\n",
    "           'auteur':data_livre_auteur,\n",
    "           'prix_gf':data_livre_prix_gf,\n",
    "           'prix_ebook':data_livre_prix_ebook,\n",
    "            #'caracteristiques_bis' : temp_dict,\n",
    "           'couverture':data_livre_couv,\n",
    "           'caracteristiques':data_livre_carac}\n",
    "\n",
    "\n",
    "        ## Caractéristique\n",
    "        data_livre_carac_dict = data_livre_soup.find('ul', attrs={\"class\" :\"informations-container\"}).findAll('li', attrs={\"class\" : \"information\"})\n",
    "        for c in data_livre_carac_dict :\n",
    "            try :\n",
    "                k = c.find('span').get_text(strip=True)\n",
    "                v = c.find('div', attrs={\"class\" :\"value\"}).get_text(strip=True)\n",
    "            except AttributeError:\n",
    "                print(\"NC\")\n",
    "            dic_rl_parus[k]=v\n",
    "\n",
    "        liste_rl_parus.append(dic_rl_parus)"
   ]
  },
  {
   "cell_type": "code",
   "execution_count": null,
   "metadata": {
    "id": "fW8gNQpTO8kt"
   },
   "outputs": [],
   "source": [
    "# création du dataFrame\n",
    "df_rl_parus = pd.DataFrame(liste_rl_parus)\n",
    "\n",
    "# changement du format des dates de dd/mm/yyyy à YYYY-MM-DD\n",
    "df_rl_parus[\"Date de parution\"] = pd.to_datetime(df_rl_parus[\"Date de parution\"], dayfirst=True)\n",
    "\n",
    "# Ajout de colonnes\n",
    "df_rl_parus = pd.concat((df_rl_parus,pd.DataFrame(columns=['RL','TYPES','GENRE','PREMIER_ROMAN','MOIS','ANNEE_PUBLICATION','PAYS','CONTINENT','Traduit de','Traduit par'])), axis=1)\n",
    "\n",
    "# Changement d'ordre des colonnes\n",
    "df_rl_parus = df_rl_parus[['RL', 'PREMIER_ROMAN', 'EAN', 'titre', 'auteur', 'Date de parution', 'MOIS',\n",
    "       'ANNEE_PUBLICATION', 'url', 'categorie','prix_gf', 'prix_ebook',\n",
    "       'couverture', 'caracteristiques', 'Editeur', 'ISBN',\n",
    "       'Format', 'Présentation', 'Nb. de pages', 'Poids', 'Dimensions',\n",
    "       'Collection', 'TYPES', 'GENRE', 'PAYS', 'CONTINENT', 'Traduit de', 'Traduit par']]\n",
    "\n",
    "df_rl_parus['MOIS'] = df_rl_parus['Date de parution'].apply(lambda x : x.month_name())\n",
    "df_rl_parus['ANNEE_PUBLICATION'] = df_rl_parus['Date de parution'].apply(lambda x : x.year)\n",
    "\n",
    "# export en CSV\n",
    "df_rl_parus.to_csv('liste_rl_parus.csv', sep=\";\", index = False)\n",
    "\n",
    "# export au format pickle\n",
    "df_rl_parus.to_pickle(\"liste_rl_parus.pkl\")\n",
    "df_rl_parus = pd.read_pickle(\"liste_rl_parus.pkl\")"
   ]
  },
  {
   "cell_type": "code",
   "execution_count": null,
   "metadata": {
    "id": "hC43ijwsO8kt",
    "outputId": "7e063cce-a497-42ac-e7ee-7b0b4f438584"
   },
   "outputs": [
    {
     "data": {
      "text/html": [
       "<div>\n",
       "<style scoped>\n",
       "    .dataframe tbody tr th:only-of-type {\n",
       "        vertical-align: middle;\n",
       "    }\n",
       "\n",
       "    .dataframe tbody tr th {\n",
       "        vertical-align: top;\n",
       "    }\n",
       "\n",
       "    .dataframe thead th {\n",
       "        text-align: right;\n",
       "    }\n",
       "</style>\n",
       "<table border=\"1\" class=\"dataframe\">\n",
       "  <thead>\n",
       "    <tr style=\"text-align: right;\">\n",
       "      <th></th>\n",
       "      <th>RL</th>\n",
       "      <th>PREMIER_ROMAN</th>\n",
       "      <th>EAN</th>\n",
       "      <th>titre</th>\n",
       "      <th>auteur</th>\n",
       "      <th>TYPES</th>\n",
       "      <th>GENRE</th>\n",
       "      <th>PAYS</th>\n",
       "      <th>CONTINENT</th>\n",
       "      <th>Traduit de</th>\n",
       "      <th>...</th>\n",
       "      <th>couverture</th>\n",
       "      <th>caracteristiques</th>\n",
       "      <th>Editeur</th>\n",
       "      <th>ISBN</th>\n",
       "      <th>Format</th>\n",
       "      <th>Présentation</th>\n",
       "      <th>Nb. de pages</th>\n",
       "      <th>Poids</th>\n",
       "      <th>Dimensions</th>\n",
       "      <th>Collection</th>\n",
       "    </tr>\n",
       "  </thead>\n",
       "  <tbody>\n",
       "    <tr>\n",
       "      <th>0</th>\n",
       "      <td>NaN</td>\n",
       "      <td>NaN</td>\n",
       "      <td>9782226484871</td>\n",
       "      <td>De l'inconvénient d'être Russe- Grand Format</td>\n",
       "      <td>Diana Filippova</td>\n",
       "      <td>NaN</td>\n",
       "      <td>NaN</td>\n",
       "      <td>NaN</td>\n",
       "      <td>NaN</td>\n",
       "      <td>NaN</td>\n",
       "      <td>...</td>\n",
       "      <td>https://products-images.di-static.com/image/di...</td>\n",
       "      <td>Date de parution|30/08/2023|Editeur|Albin Mich...</td>\n",
       "      <td>Albin Michel</td>\n",
       "      <td>978-2-226-48487-1</td>\n",
       "      <td>Grand Format</td>\n",
       "      <td>Broché</td>\n",
       "      <td>208 pages</td>\n",
       "      <td>0.296 Kg</td>\n",
       "      <td>14,2 cm × 20,5 cm × 2,0 cm</td>\n",
       "      <td>NaN</td>\n",
       "    </tr>\n",
       "    <tr>\n",
       "      <th>1</th>\n",
       "      <td>NaN</td>\n",
       "      <td>NaN</td>\n",
       "      <td>9782246803829</td>\n",
       "      <td>Comédie d'automne  - (La vie poétique, 6 et fi...</td>\n",
       "      <td>Jean Rouaud</td>\n",
       "      <td>NaN</td>\n",
       "      <td>NaN</td>\n",
       "      <td>NaN</td>\n",
       "      <td>NaN</td>\n",
       "      <td>NaN</td>\n",
       "      <td>...</td>\n",
       "      <td>https://products-images.di-static.com/image/je...</td>\n",
       "      <td>Date de parution|30/08/2023|Editeur|Grasset|IS...</td>\n",
       "      <td>Grasset</td>\n",
       "      <td>978-2-246-80382-9</td>\n",
       "      <td>Grand Format</td>\n",
       "      <td>Broché</td>\n",
       "      <td>288 pages</td>\n",
       "      <td>0.308 Kg</td>\n",
       "      <td>14,1 cm × 20,6 cm × 1,8 cm</td>\n",
       "      <td>NaN</td>\n",
       "    </tr>\n",
       "    <tr>\n",
       "      <th>2</th>\n",
       "      <td>NaN</td>\n",
       "      <td>NaN</td>\n",
       "      <td>9782378128708</td>\n",
       "      <td>Shades  - Tome 1, De sang et de chair- Grand F...</td>\n",
       "      <td>Angéline Richard</td>\n",
       "      <td>NaN</td>\n",
       "      <td>NaN</td>\n",
       "      <td>NaN</td>\n",
       "      <td>NaN</td>\n",
       "      <td>NaN</td>\n",
       "      <td>...</td>\n",
       "      <td>https://products-images.di-static.com/image/ha...</td>\n",
       "      <td>Date de parution|30/08/2023|Editeur|Alter Real...</td>\n",
       "      <td>Alter Real éditions</td>\n",
       "      <td>978-2-37812-870-8</td>\n",
       "      <td>Grand Format</td>\n",
       "      <td>Broché</td>\n",
       "      <td>368 pages</td>\n",
       "      <td>0.52 Kg</td>\n",
       "      <td>14,8 cm × 21,0 cm × 0,0 cm</td>\n",
       "      <td>Imaginaire</td>\n",
       "    </tr>\n",
       "    <tr>\n",
       "      <th>3</th>\n",
       "      <td>NaN</td>\n",
       "      <td>NaN</td>\n",
       "      <td>9782378129088</td>\n",
       "      <td>Saraya Tome 5- Grand Format</td>\n",
       "      <td>Marylise</td>\n",
       "      <td>NaN</td>\n",
       "      <td>NaN</td>\n",
       "      <td>NaN</td>\n",
       "      <td>NaN</td>\n",
       "      <td>NaN</td>\n",
       "      <td>...</td>\n",
       "      <td>https://products-images.di-static.com/image/ha...</td>\n",
       "      <td>Date de parution|30/08/2023|Editeur|Alter Real...</td>\n",
       "      <td>Alter Real éditions</td>\n",
       "      <td>978-2-37812-908-8</td>\n",
       "      <td>Grand Format</td>\n",
       "      <td>Broché</td>\n",
       "      <td>188 pages</td>\n",
       "      <td>0.438 Kg</td>\n",
       "      <td>14,8 cm × 21,0 cm × 0,0 cm</td>\n",
       "      <td>Imaginaire</td>\n",
       "    </tr>\n",
       "    <tr>\n",
       "      <th>4</th>\n",
       "      <td>NaN</td>\n",
       "      <td>NaN</td>\n",
       "      <td>9782080411693</td>\n",
       "      <td>Marchands de sable- Grand Format</td>\n",
       "      <td>Agnès Mathieu-Daudé</td>\n",
       "      <td>NaN</td>\n",
       "      <td>NaN</td>\n",
       "      <td>NaN</td>\n",
       "      <td>NaN</td>\n",
       "      <td>NaN</td>\n",
       "      <td>...</td>\n",
       "      <td>https://products-images.di-static.com/image/ag...</td>\n",
       "      <td>Date de parution|30/08/2023|Editeur|Flammarion...</td>\n",
       "      <td>Flammarion</td>\n",
       "      <td>978-2-08-041169-3</td>\n",
       "      <td>Grand Format</td>\n",
       "      <td>Broché</td>\n",
       "      <td>336 pages</td>\n",
       "      <td>0.342 Kg</td>\n",
       "      <td>15,0 cm × 22,0 cm × 2,1 cm</td>\n",
       "      <td>Littérature française</td>\n",
       "    </tr>\n",
       "  </tbody>\n",
       "</table>\n",
       "<p>5 rows × 28 columns</p>\n",
       "</div>"
      ],
      "text/plain": [
       "    RL PREMIER_ROMAN            EAN  \\\n",
       "0  NaN           NaN  9782226484871   \n",
       "1  NaN           NaN  9782246803829   \n",
       "2  NaN           NaN  9782378128708   \n",
       "3  NaN           NaN  9782378129088   \n",
       "4  NaN           NaN  9782080411693   \n",
       "\n",
       "                                               titre               auteur  \\\n",
       "0       De l'inconvénient d'être Russe- Grand Format      Diana Filippova   \n",
       "1  Comédie d'automne  - (La vie poétique, 6 et fi...          Jean Rouaud   \n",
       "2  Shades  - Tome 1, De sang et de chair- Grand F...     Angéline Richard   \n",
       "3                        Saraya Tome 5- Grand Format             Marylise   \n",
       "4                   Marchands de sable- Grand Format  Agnès Mathieu-Daudé   \n",
       "\n",
       "  TYPES GENRE PAYS CONTINENT Traduit de  ...  \\\n",
       "0   NaN   NaN  NaN       NaN        NaN  ...   \n",
       "1   NaN   NaN  NaN       NaN        NaN  ...   \n",
       "2   NaN   NaN  NaN       NaN        NaN  ...   \n",
       "3   NaN   NaN  NaN       NaN        NaN  ...   \n",
       "4   NaN   NaN  NaN       NaN        NaN  ...   \n",
       "\n",
       "                                          couverture  \\\n",
       "0  https://products-images.di-static.com/image/di...   \n",
       "1  https://products-images.di-static.com/image/je...   \n",
       "2  https://products-images.di-static.com/image/ha...   \n",
       "3  https://products-images.di-static.com/image/ha...   \n",
       "4  https://products-images.di-static.com/image/ag...   \n",
       "\n",
       "                                    caracteristiques              Editeur  \\\n",
       "0  Date de parution|30/08/2023|Editeur|Albin Mich...         Albin Michel   \n",
       "1  Date de parution|30/08/2023|Editeur|Grasset|IS...              Grasset   \n",
       "2  Date de parution|30/08/2023|Editeur|Alter Real...  Alter Real éditions   \n",
       "3  Date de parution|30/08/2023|Editeur|Alter Real...  Alter Real éditions   \n",
       "4  Date de parution|30/08/2023|Editeur|Flammarion...           Flammarion   \n",
       "\n",
       "                ISBN        Format Présentation Nb. de pages     Poids  \\\n",
       "0  978-2-226-48487-1  Grand Format       Broché    208 pages  0.296 Kg   \n",
       "1  978-2-246-80382-9  Grand Format       Broché    288 pages  0.308 Kg   \n",
       "2  978-2-37812-870-8  Grand Format       Broché    368 pages   0.52 Kg   \n",
       "3  978-2-37812-908-8  Grand Format       Broché    188 pages  0.438 Kg   \n",
       "4  978-2-08-041169-3  Grand Format       Broché    336 pages  0.342 Kg   \n",
       "\n",
       "                   Dimensions             Collection  \n",
       "0  14,2 cm × 20,5 cm × 2,0 cm                    NaN  \n",
       "1  14,1 cm × 20,6 cm × 1,8 cm                    NaN  \n",
       "2  14,8 cm × 21,0 cm × 0,0 cm             Imaginaire  \n",
       "3  14,8 cm × 21,0 cm × 0,0 cm             Imaginaire  \n",
       "4  15,0 cm × 22,0 cm × 2,1 cm  Littérature française  \n",
       "\n",
       "[5 rows x 28 columns]"
      ]
     },
     "execution_count": 15,
     "metadata": {},
     "output_type": "execute_result"
    }
   ],
   "source": [
    "df_rl_parus.head()"
   ]
  },
  {
   "cell_type": "code",
   "execution_count": null,
   "metadata": {
    "id": "syGOy2IsO8ku",
    "outputId": "43a172d8-a50a-4d4f-9c08-a94cf9da46f9"
   },
   "outputs": [
    {
     "data": {
      "text/plain": [
       "Index(['RL', 'PREMIER_ROMAN', 'EAN', 'titre', 'auteur', 'TYPES', 'GENRE',\n",
       "       'PAYS', 'CONTINENT', 'Traduit de', 'Traduit par', 'Date de parution',\n",
       "       'MOIS', 'ANNEE_PUBLICATION', 'url', 'categorie', 'prix_gf',\n",
       "       'prix_ebook', 'couverture', 'caracteristiques', 'Editeur', 'ISBN',\n",
       "       'Format', 'Présentation', 'Nb. de pages', 'Poids', 'Dimensions',\n",
       "       'Collection'],\n",
       "      dtype='object')"
      ]
     },
     "execution_count": 3,
     "metadata": {},
     "output_type": "execute_result"
    }
   ],
   "source": [
    "df_rl_parus.columns"
   ]
  },
  {
   "cell_type": "markdown",
   "metadata": {
    "id": "JQeJpiESO8ku"
   },
   "source": [
    "## Fusion"
   ]
  },
  {
   "cell_type": "markdown",
   "metadata": {
    "jp-MarkdownHeadingCollapsed": true
   },
   "source": [
    "### pour Google Colab"
   ]
  },
  {
   "cell_type": "code",
   "execution_count": 2,
   "metadata": {
    "colab": {
     "base_uri": "https://localhost:8080/"
    },
    "executionInfo": {
     "elapsed": 33663,
     "status": "ok",
     "timestamp": 1698752344893,
     "user": {
      "displayName": "sandrine henry",
      "userId": "01374054069161657240"
     },
     "user_tz": -60
    },
    "id": "2TPr3yr7hwwl",
    "outputId": "ad1c0e5b-fe51-443c-a8b2-9f86a402d1a0"
   },
   "outputs": [
    {
     "name": "stdout",
     "output_type": "stream",
     "text": [
      "Mounted at /content/drive\n"
     ]
    }
   ],
   "source": [
    "from google.colab import drive\n",
    "drive.mount('/content/drive')\n",
    "#/content/drive/MyDrive/Data4Good/rentree_litteraire/2023/"
   ]
  },
  {
   "cell_type": "markdown",
   "metadata": {},
   "source": [
    "### pour Jupyter Notebook"
   ]
  },
  {
   "cell_type": "markdown",
   "metadata": {
    "jp-MarkdownHeadingCollapsed": true
   },
   "source": [
    "### Pour Streamlit"
   ]
  },
  {
   "cell_type": "code",
   "execution_count": 62,
   "metadata": {},
   "outputs": [
    {
     "name": "stdout",
     "output_type": "stream",
     "text": [
      "Overwriting RL_2023.py\n"
     ]
    }
   ],
   "source": [
    "%%writefile RL_2023.py\n",
    "\n",
    "# 1.Importation des librairies nécessaires pour le script\n",
    "from urllib.request import Request, urlopen\n",
    "from bs4 import BeautifulSoup\n",
    "#import scrapy\n",
    "import re\n",
    "import requests\n",
    "\n",
    "import json\n",
    "from pandas.io.json import json_normalize\n",
    "\n",
    "import pandas as pd\n",
    "import numpy as np\n",
    "import datetime as dt  #pour l'ajout de la date de l'extraction de données\n",
    "from datetime import datetime, date\n",
    "from dateutil.relativedelta import relativedelta\n",
    "\n",
    "import os\n",
    "\n",
    "import time\n",
    "\n",
    "from plotly.subplots import make_subplots\n",
    "import plotly.graph_objects as go\n",
    "import plotly.express as px\n",
    "\n",
    "import streamlit as st\n",
    "from streamlit_option_menu import option_menu\n",
    "\n",
    "\n",
    "# 3.Setup de l'application Streamlit  - Streamlit webpage properties / set up the app with wide view preset and a title\n",
    "st.set_page_config(page_title=\"Rentree Litteraire\", page_icon=\"books\", layout=\"wide\")\n",
    "\n",
    "st.write(\"RL_2023 GO\")\n",
    "\n",
    "#df_rl_total = pd.read_pickle(\"liste_rl_total.pkl\") #/content/drive/MyDrive/Data4Good/rentree_litteraire/2023/\n",
    "#df_rl_total.tail(2)\n",
    "\n",
    "\n",
    "\n",
    "#### Import pickel pour test\n",
    "\n",
    "df_rl_total_test = pd.read_pickle(\"liste_rl_total_test.pkl\") #/content/drive/MyDrive/Data4Good/rentree_litteraire/2023/\n",
    "\n",
    "st.sidebar.success(\"Select an add method.\")\n",
    "\n",
    "\n",
    "row_nb = int(st.number_input('which row number ?'))\n",
    "\n",
    "if st.button('drop index'):\n",
    "    df_rl_total_test = df_rl_total_test.drop(index = row_nb)\n",
    "    \n",
    "if st.button(\"drop duplicate\") :\n",
    "    df_rl_total_test = df_rl_total_test[~df_rl_total_test.index.duplicated(keep='first')]\n",
    "\n",
    "st.dataframe(df_rl_total_test.tail())\n",
    "\n",
    "\n",
    "# 1. Find a book by the Editor name \"Emmanuelle\"\n",
    "editeur = st.selectbox(\"Pick one\", list(df_rl_total_test['Editeur'].unique()))\n",
    "\n",
    "find_editeur = df_rl_total_test.loc[df_rl_total_test['Editeur'] == editeur] #, ['Genre']] = 'F'\n",
    "st.dataframe(find_editeur)\n",
    "\n",
    "# 2. choice of a method to add info for a book or add a book\n",
    "#tab1, tab2, tab3 = st.tabs([\"Ajout infos manquantes\", \"Ajout Automatique (url)\", \"Ajout Manuel\"])\n",
    "#tab1.write(\"this is tab 1\")\n",
    "#tab2.write(\"this is tab 2\")\n",
    "\n",
    "\n",
    "#with tab1:\n",
    "#    with st.form(\"my_form\"):\n",
    "#        st.write(\"Inside the form\")\n",
    "#        nb_index = st.number_input('index')\n",
    "#        prem_roman = st.selectbox('PREMIER ROMAN', ['OUI', 'NON'])\n",
    "#        quel_genre = st.selectbox('genre', ['F', 'M'])\n",
    "#        quel_pays = st.selectbox(\"Pays\", list(df_rl_total_test['PAYS'].unique()), index = None)\n",
    "#        quel_continent = st.selectbox(\"Continent\", list(df_rl_total_test['CONTINENT'].unique()))\n",
    "#        trad_de = st.selectbox(\"Traduit de\", list(df_rl_total_test['Traduit de'].unique()), index = None)\n",
    "#        trad_par = st.text_input('Traduit par')\n",
    "#        st.form_submit_button('Submit my picks')\n",
    "#\n",
    "#    if quel_pays == None:\n",
    "#        quel_pays = st.text_input(\"ajout pays\")\n",
    "#    \n",
    "#    if trad_de == None :\n",
    "#        trad_de = st.text_input(\"ajout langue\")\n",
    "#\n",
    "#    #nb_index = float(nb_index)\n",
    "#    df_rl_total_test.loc[int(nb_index),'RL'] = 'RL'\n",
    "#    df_rl_total_test.loc[int(nb_index),'PREMIER_ROMAN'] = prem_roman #'PREMIER ROMAN'\n",
    "#    df_rl_total_test.loc[int(nb_index),'TYPES'] = 'Romans étrangers'\n",
    "#    df_rl_total_test.loc[int(nb_index),'GENRE'] = quel_genre\n",
    "#    df_rl_total_test.loc[int(nb_index),'PAYS'] = quel_pays\n",
    "#    df_rl_total_test.loc[int(nb_index),'CONTINENT'] = quel_continent #'EUROPE'\n",
    "#    df_rl_total_test.loc[int(nb_index),'Traduit de'] = trad_de\n",
    "#    df_rl_total_test.loc[int(nb_index),'Traduit par'] = trad_par\n",
    "\n",
    "\n",
    "#with tab2 : \n",
    "#    #Pour ajout automatique\n",
    "#    # url à scraper\n",
    "#    with st.form(\"ajout auto\"):\n",
    "#        url_titre = st.text_input('url')\n",
    "#        premier_roman = st.selectbox('PREMIER ROMAN', ['OUI', 'NON'])\n",
    "#        types_livre = st.selectbox(\"type livre\", ['Romans français' , 'Essais', 'Romans étrangers'])\n",
    "#        genre = st.selectbox('genre', ['F', 'M'])\n",
    "#        \n",
    "#        pays = st.selectbox(\"Pays\", list(df_rl_total_test['PAYS'].unique()))\n",
    "#        continent = st.selectbox(\"Continent\", list(df_rl_total_test['CONTINENT'].unique()))\n",
    "#        langue_traduction = st.selectbox(\"Traduit de\", list(df_rl_total_test['Traduit de'].unique()))\n",
    "#        traducteurice = st.text_input('Traduit par')\n",
    "#        \n",
    "#        nb_index = st.number_input(\"index\")\n",
    "#        \n",
    "#        submit_utl = st.form_submit_button('Submit my picks')\n",
    "#    \n",
    "#    liste_rl_titre = []\n",
    "#\n",
    "#    if pays == None :\n",
    "#        pays = st.text_input(\"ajout pays\")\n",
    "#    \n",
    "#    if traducteurice == None :\n",
    "#        traducteurice = st.text_input(\"ajout langue\")\n",
    "#        \n",
    "#    #your code\n",
    "#    if submit_utl : \n",
    "#        data_livre = requests.get(url_titre).content\n",
    "#        data_livre_soup = BeautifulSoup(data_livre,\"html.parser\")\n",
    "#        \n",
    "#        #### infos du livre ###\n",
    "#        \n",
    "#        ## Catégories\n",
    "#        data_livre_cat = data_livre_soup.find('div', attrs={\"id\" : \"main_breadcrumb\",\n",
    "#                                      \"class\" : \"breadcrumbs\"}).findAll('span')\n",
    "#        liste_cat = [cat.get_text(strip=True) for cat in data_livre_cat]\n",
    "#        liste_cat_final = [c for c in liste_cat if c !='›']\n",
    "#        \n",
    "#        ## Titre\n",
    "#        data_livre_titre = data_livre_soup.find('h1', attrs={\"class\" : \"product-title\"}).get_text(strip=True)\n",
    "#        #print(\"titre : \", data_livre_titre, \"\\n\")\n",
    "#        \n",
    "#        ### Auteur\n",
    "#        try :\n",
    "#            data_livre_auteur = data_livre_soup.find('span', attrs={\"class\" : \"author author--main\"}).get_text(strip=True)\n",
    "#        except :\n",
    "#            data_livre_auteur = data_livre_soup.find('a', attrs={\"class\" : \"author author--main trackme\"}).get_text(strip=True)\n",
    "#        #print(\"auteur : \", data_livre_auteur, \"\\n\")\n",
    "#        \n",
    "#        \n",
    "#        ### prix grand format\n",
    "#        data_livre_prix_gf = data_livre_soup.find('div', attrs={\"class\" : \"price fp-wide--margin-bottom\"}).find('span').get_text(strip=True)#.findAll('span', attrs={\"class\" : \"final-price\"})\n",
    "#        #print(\"prix grand format : \", data_livre_prix_gf, \"\\n\")\n",
    "#        \n",
    "#        ### prix ebook\n",
    "#        try :\n",
    "#            data_livre_prix_ebook = data_livre_soup.find('a', attrs={\"class\" : \"ebook\"}).get_text(strip=True)\n",
    "#            #print(\"prix ebook : \", data_livre_prix_ebook, \"\\n\")\n",
    "#        except AttributeError:\n",
    "#            #print(\"pas de prix ebook\", \"\\n\")\n",
    "#            data_livre_prix_ebook = \"pas de prix ebook\"\n",
    "#        \n",
    "#        \n",
    "#        ## Couverture\n",
    "#        data_livre_couv = data_livre_soup.find('source', attrs={\"class\" : \"lozad\"})['data-srcset']\n",
    "#        #print(\"couv\", data_livre_couv, \"\\n\")\n",
    "#        \n",
    "#        \n",
    "#        ## Caractéristique\n",
    "#        data_livre_carac = data_livre_soup.find('ul', attrs={\"class\" :\"informations-container\"}).get_text(\"|\",strip=True)#.find_all('li',attrs={\"class\" :\"information\"}).get_text()\n",
    "#        #print(\"caracteristiques : \", data_livre_carac.get_text(),\"\\n\")\n",
    "#        \n",
    "#        \n",
    "#        dic_rl_parus = {'url' : url_titre, #https://www.decitre.fr/livres/la-femme-a-la-valise-9782376650959.html\n",
    "#            'categorie' : liste_cat_final,\n",
    "#            'titre':data_livre_titre,\n",
    "#            'auteur':data_livre_auteur,\n",
    "#            'prix_gf':data_livre_prix_gf,\n",
    "#            'prix_ebook':data_livre_prix_ebook,\n",
    "#            #'caracteristiques_bis' : temp_dict,\n",
    "#            'couverture':data_livre_couv,\n",
    "#            'caracteristiques':data_livre_carac,\n",
    "#            'RL' : 'RL',\n",
    "#            'PREMIER_ROMAN' : premier_roman,\n",
    "#            'TYPES' : types_livre,\n",
    "#            'GENRE' : genre,\n",
    "#            'PAYS' : pays,\n",
    "#            'CONTINENT' : continent,\n",
    "#            'Traduit de' : langue_traduction,\n",
    "#            'Traduit par' : traducteurice,\n",
    "#            }\n",
    "#        \n",
    "#        \n",
    "#        ## Caractéristique\n",
    "#        data_livre_carac_dict = data_livre_soup.find('ul', attrs={\"class\" :\"informations-container\"}).findAll('li', attrs={\"class\" : \"information\"})\n",
    "#        for c in data_livre_carac_dict :\n",
    "#            try :\n",
    "#                k = c.find('span').get_text(strip=True)\n",
    "#                v = c.find('div', attrs={\"class\" :\"value\"}).get_text(strip=True)\n",
    "#            except AttributeError:\n",
    "#                print(\"NC\")\n",
    "#            dic_rl_parus[k]=v\n",
    "#        \n",
    "#        liste_rl_titre.append(dic_rl_parus)\n",
    "#    \n",
    "#        df_rl_total_test = pd.concat([df_rl_total_test,pd.DataFrame(liste_rl_titre, index=[int(nb_index)])])\n",
    "\n",
    "\n",
    "#with tab3 :\n",
    "#    with st.form(\"ajout_manuel\"):\n",
    "#        nb_index = st.number_input('index')\n",
    "#        prem_roman = st.selectbox('PREMIER ROMAN', ['OUI', 'NON'])\n",
    "#        quel_genre = st.selectbox('genre', ['F', 'M'])\n",
    "#        quel_pays = st.selectbox(\"Pays\", list(df_rl_total_test['PAYS'].unique()))\n",
    "#        quel_continent = st.selectbox(\"Continent\", list(df_rl_total_test['CONTINENT'].unique()))\n",
    "#        trad_de = st.selectbox(\"Traduit de\", list(df_rl_total_test['Traduit de'].unique()))\n",
    "#        trad_par = st.text_input('Traduit par')\n",
    "#        ean = st.text_input('EAN')\n",
    "#        titre = st.text_input('titre')\n",
    "#        auteur = st.text_input('auteur')\n",
    "#        date_parution = st.text_input('Date de parution')\n",
    "#        mois= st.selectbox('MOIS', ['August', 'September','October'])\n",
    "#        annee_parution = st.number_input('ANNEE_PUBLICATION')\n",
    "#        url = st.text_input('url')\n",
    "#        categorie = st.text_input('categorie-liste')\n",
    "#        prix_gf = st.text_input('prix_gf')\n",
    "#        prix_ebook = st.text_input('prix_ebook ou pas de prix ebook')\n",
    "#        couverture= st.text_input('url couv ou pas de visuel')\n",
    "#        editeur = st.text_input('Editeur')\n",
    "#        isbn = st.text_input('ISBN')\n",
    "#        format = st.selectbox('genre', ['Grand Format', 'Poche'])\n",
    "#        presentation = st.text_input('Présentation')\n",
    "#        nb_pages = st.text_input('nb pages')\n",
    "#        poids = st.text_input('Poids')\n",
    "#        dimension= st.text_input('Dimensions')\n",
    "#        collection = st.text_input('Collection') \n",
    "#        st.form_submit_button('Submit my picks')\n",
    "#\n",
    "#    if quel_pays == None :\n",
    "#        quel_pays = st.text_input(\"ajout pays\")\n",
    "#    \n",
    "#    if trad_de == None :\n",
    "#        trad_de = st.text_input(\"ajout langue\")\n",
    "#    \n",
    "#    dict_manuel = {'RL' : ['RL'],\n",
    "#                   'PREMIER_ROMAN' : [prem_roman], #PREMIER ROMAN NON\n",
    "#                    'TYPES' : ['Romans étrangers'], #Essais Romans étrangers Romans français\n",
    "#                    'GENRE' : [quel_genre],\n",
    "#                    'PAYS' : [quel_pays],\n",
    "#                    'CONTINENT' : [quel_continent],\n",
    "#                    'Traduit de' : [trad_de],\n",
    "#                    'Traduit par' : [trad_par],\n",
    "#                    'EAN' : [ean],\n",
    "#                    'titre' : [titre],\n",
    "#                    'auteur' : [auteur],\n",
    "#                    'Date de parution' : [date_parution],\n",
    "#                    'MOIS' : [mois], #August September October\n",
    "#                    'ANNEE_PUBLICATION' : [annee_parution],\n",
    "#                    'url' : [url],\n",
    "#                    'categorie' : [[categorie]],\n",
    "#                    'prix_gf' : [prix_gf + ' €'],\n",
    "#                    'prix_ebook' : [prix_ebook], #pas de prix ebook 15,99 €\n",
    "#                    'couverture' : [couverture], #pas de visuel\n",
    "#                    'caracteristiques' : ['Date de parution|'+date_parution+'|editeur|'+editeur+'|ISBN|'+isbn+'|EAN|'+ean+'|Format|'+format+'|Présentation|'+presentation+'|Nb. de pages|'+nb_pages+' pages|Poids|'+poids+' kg|Dimensions|'+dimension+'|Collection|'+collection],\n",
    "#                    'Editeur' : [editeur],\n",
    "#                    'ISBN' : [isbn],\n",
    "#                    'Format' : [format], #Grand Format Poche\n",
    "#                    'Présentation' : [presentation],\n",
    "#                    'Nb. de pages' : [nb_pages+'pages'],\n",
    "#                    'Poids' : [poids+'kg'],\n",
    "#                    'Dimensions' : [dimension], #14cm x 22cm\n",
    "#                    'Collection' : [collection]}\n",
    "#    \n",
    "#    df1 = pd.DataFrame(dict_manuel, index=[int(nb_index)])\n",
    "#    \n",
    "#    df_rl_total_test = pd.concat([df_rl_total_test, df1])\n",
    "\n",
    "#st.dataframe(df_rl_total_test(int(nb_index)))\n",
    "\n",
    "# export au format pickle\n",
    "df_rl_total_test.to_pickle(\"liste_rl_total_test.pkl\") #/content/drive/MyDrive/Data4Good/rentree_litteraire/2023/\n",
    "\n",
    "#df_rl_total_test = pd.read_pickle(\"liste_rl_total_test.pkl\") #/content/drive/MyDrive/Data4Good/rentree_litteraire/2023/\n",
    "#st.dataframe(df_rl_total_test.tail(2))\n",
    "\n",
    "\n"
   ]
  },
  {
   "cell_type": "code",
   "execution_count": 24,
   "metadata": {
    "colab": {
     "base_uri": "https://localhost:8080/",
     "height": 335
    },
    "executionInfo": {
     "elapsed": 505,
     "status": "ok",
     "timestamp": 1698756580885,
     "user": {
      "displayName": "sandrine henry",
      "userId": "01374054069161657240"
     },
     "user_tz": -60
    },
    "id": "9lyMi89DO8ku",
    "outputId": "c0af1061-f6df-460c-fe31-be3bb505e962"
   },
   "outputs": [
    {
     "data": {
      "text/html": [
       "<div>\n",
       "<style scoped>\n",
       "    .dataframe tbody tr th:only-of-type {\n",
       "        vertical-align: middle;\n",
       "    }\n",
       "\n",
       "    .dataframe tbody tr th {\n",
       "        vertical-align: top;\n",
       "    }\n",
       "\n",
       "    .dataframe thead th {\n",
       "        text-align: right;\n",
       "    }\n",
       "</style>\n",
       "<table border=\"1\" class=\"dataframe\">\n",
       "  <thead>\n",
       "    <tr style=\"text-align: right;\">\n",
       "      <th></th>\n",
       "      <th>RL</th>\n",
       "      <th>PREMIER_ROMAN</th>\n",
       "      <th>EAN</th>\n",
       "      <th>titre</th>\n",
       "      <th>auteur</th>\n",
       "      <th>TYPES</th>\n",
       "      <th>GENRE</th>\n",
       "      <th>Editeur</th>\n",
       "      <th>PAYS</th>\n",
       "      <th>CONTINENT</th>\n",
       "      <th>...</th>\n",
       "      <th>prix_ebook</th>\n",
       "      <th>couverture</th>\n",
       "      <th>caracteristiques</th>\n",
       "      <th>ISBN</th>\n",
       "      <th>Format</th>\n",
       "      <th>Présentation</th>\n",
       "      <th>Nb. de pages</th>\n",
       "      <th>Poids</th>\n",
       "      <th>Dimensions</th>\n",
       "      <th>Collection</th>\n",
       "    </tr>\n",
       "  </thead>\n",
       "  <tbody>\n",
       "    <tr>\n",
       "      <th>1346</th>\n",
       "      <td>RL</td>\n",
       "      <td>NON</td>\n",
       "      <td>9782378561802</td>\n",
       "      <td>Respire- Poche</td>\n",
       "      <td>Marielle Macé</td>\n",
       "      <td>Essais</td>\n",
       "      <td>F</td>\n",
       "      <td>Verdier Editions</td>\n",
       "      <td>FRANCE</td>\n",
       "      <td>EUROPE</td>\n",
       "      <td>...</td>\n",
       "      <td>Ebook6,99 €</td>\n",
       "      <td>https://products-images.di-static.com/image/ma...</td>\n",
       "      <td>Date de parution|24/08/2023|Editeur|Verdier Ed...</td>\n",
       "      <td>978-2-37856-180-2</td>\n",
       "      <td>Poche</td>\n",
       "      <td>Broché</td>\n",
       "      <td>128 pages</td>\n",
       "      <td>0.09 Kg</td>\n",
       "      <td>10,0 cm × 15,7 cm × 1,1 cm</td>\n",
       "      <td>La petite jaune</td>\n",
       "    </tr>\n",
       "    <tr>\n",
       "      <th>1347</th>\n",
       "      <td>RL</td>\n",
       "      <td>NON</td>\n",
       "      <td>9782356541222</td>\n",
       "      <td>Nouveau départ</td>\n",
       "      <td>May Ayim</td>\n",
       "      <td>Essais</td>\n",
       "      <td>F</td>\n",
       "      <td>YPSILON</td>\n",
       "      <td>ALLEMAGNE</td>\n",
       "      <td>EUROPE</td>\n",
       "      <td>...</td>\n",
       "      <td>pas de prix ebook</td>\n",
       "      <td>https://products-images.di-static.com/image/ma...</td>\n",
       "      <td>Date de parution|06/10/2023|Editeur|YPSILON|IS...</td>\n",
       "      <td>978-2-35654-122-2</td>\n",
       "      <td>NaN</td>\n",
       "      <td>Broché</td>\n",
       "      <td>168 pages</td>\n",
       "      <td>0.152 Kg</td>\n",
       "      <td>11,5 cm × 17,0 cm × 1,0 cm</td>\n",
       "      <td>NaN</td>\n",
       "    </tr>\n",
       "  </tbody>\n",
       "</table>\n",
       "<p>2 rows × 28 columns</p>\n",
       "</div>"
      ],
      "text/plain": [
       "      RL PREMIER_ROMAN            EAN           titre         auteur   TYPES  \\\n",
       "1346  RL           NON  9782378561802  Respire- Poche  Marielle Macé  Essais   \n",
       "1347  RL           NON  9782356541222  Nouveau départ       May Ayim  Essais   \n",
       "\n",
       "     GENRE           Editeur       PAYS CONTINENT  ...         prix_ebook  \\\n",
       "1346     F  Verdier Editions     FRANCE    EUROPE  ...        Ebook6,99 €   \n",
       "1347     F           YPSILON  ALLEMAGNE    EUROPE  ...  pas de prix ebook   \n",
       "\n",
       "                                             couverture  \\\n",
       "1346  https://products-images.di-static.com/image/ma...   \n",
       "1347  https://products-images.di-static.com/image/ma...   \n",
       "\n",
       "                                       caracteristiques               ISBN  \\\n",
       "1346  Date de parution|24/08/2023|Editeur|Verdier Ed...  978-2-37856-180-2   \n",
       "1347  Date de parution|06/10/2023|Editeur|YPSILON|IS...  978-2-35654-122-2   \n",
       "\n",
       "      Format Présentation Nb. de pages     Poids                  Dimensions  \\\n",
       "1346   Poche       Broché    128 pages   0.09 Kg  10,0 cm × 15,7 cm × 1,1 cm   \n",
       "1347     NaN       Broché    168 pages  0.152 Kg  11,5 cm × 17,0 cm × 1,0 cm   \n",
       "\n",
       "           Collection  \n",
       "1346  La petite jaune  \n",
       "1347              NaN  \n",
       "\n",
       "[2 rows x 28 columns]"
      ]
     },
     "execution_count": 24,
     "metadata": {},
     "output_type": "execute_result"
    }
   ],
   "source": [
    "df_rl_total = pd.read_pickle(\"liste_rl_total_test.pkl\") #/content/drive/MyDrive/Data4Good/rentree_litteraire/2023/\n",
    "df_rl_total.tail(2)\n",
    "\n"
   ]
  },
  {
   "cell_type": "code",
   "execution_count": 27,
   "metadata": {
    "id": "33vqgwviO8kv",
    "outputId": "a02a257c-003b-4086-c230-9deec61f3d1f"
   },
   "outputs": [
    {
     "ename": "ModuleNotFoundError",
     "evalue": "No module named 'geopy'",
     "output_type": "error",
     "traceback": [
      "\u001b[0;31m---------------------------------------------------------------------------\u001b[0m",
      "\u001b[0;31mModuleNotFoundError\u001b[0m                       Traceback (most recent call last)",
      "Cell \u001b[0;32mIn[27], line 2\u001b[0m\n\u001b[1;32m      1\u001b[0m \u001b[38;5;66;03m## Import the required library\u001b[39;00m\n\u001b[0;32m----> 2\u001b[0m \u001b[38;5;28;01mfrom\u001b[39;00m \u001b[38;5;21;01mgeopy\u001b[39;00m\u001b[38;5;21;01m.\u001b[39;00m\u001b[38;5;21;01mgeocoders\u001b[39;00m \u001b[38;5;28;01mimport\u001b[39;00m Nominatim\n\u001b[1;32m      4\u001b[0m \u001b[38;5;66;03m# Initialize Nominatim API\u001b[39;00m\n\u001b[1;32m      5\u001b[0m geolocator \u001b[38;5;241m=\u001b[39m Nominatim(user_agent\u001b[38;5;241m=\u001b[39m\u001b[38;5;124m\"\u001b[39m\u001b[38;5;124mMyApp\u001b[39m\u001b[38;5;124m\"\u001b[39m)\n",
      "\u001b[0;31mModuleNotFoundError\u001b[0m: No module named 'geopy'"
     ]
    }
   ],
   "source": [
    "\n",
    "\n",
    "#df_rl_total.to_pickle(\"liste_rl_total_test.pkl\") #/content/drive/MyDrive/Data4Good/rentree_litteraire/2023/\n"
   ]
  },
  {
   "cell_type": "code",
   "execution_count": 22,
   "metadata": {
    "colab": {
     "base_uri": "https://localhost:8080/",
     "height": 724
    },
    "executionInfo": {
     "elapsed": 400,
     "status": "ok",
     "timestamp": 1698759196796,
     "user": {
      "displayName": "sandrine henry",
      "userId": "01374054069161657240"
     },
     "user_tz": -60
    },
    "id": "lkhBcJfTO8kv",
    "outputId": "23786b7d-cd99-4fec-fbd2-6bed6e448579"
   },
   "outputs": [
    {
     "data": {
      "text/html": [
       "<div>\n",
       "<style scoped>\n",
       "    .dataframe tbody tr th:only-of-type {\n",
       "        vertical-align: middle;\n",
       "    }\n",
       "\n",
       "    .dataframe tbody tr th {\n",
       "        vertical-align: top;\n",
       "    }\n",
       "\n",
       "    .dataframe thead th {\n",
       "        text-align: right;\n",
       "    }\n",
       "</style>\n",
       "<table border=\"1\" class=\"dataframe\">\n",
       "  <thead>\n",
       "    <tr style=\"text-align: right;\">\n",
       "      <th></th>\n",
       "      <th>RL</th>\n",
       "      <th>PREMIER_ROMAN</th>\n",
       "      <th>EAN</th>\n",
       "      <th>titre</th>\n",
       "      <th>auteur</th>\n",
       "      <th>TYPES</th>\n",
       "      <th>GENRE</th>\n",
       "      <th>Editeur</th>\n",
       "      <th>PAYS</th>\n",
       "      <th>CONTINENT</th>\n",
       "      <th>...</th>\n",
       "      <th>prix_ebook</th>\n",
       "      <th>couverture</th>\n",
       "      <th>caracteristiques</th>\n",
       "      <th>ISBN</th>\n",
       "      <th>Format</th>\n",
       "      <th>Présentation</th>\n",
       "      <th>Nb. de pages</th>\n",
       "      <th>Poids</th>\n",
       "      <th>Dimensions</th>\n",
       "      <th>Collection</th>\n",
       "    </tr>\n",
       "  </thead>\n",
       "  <tbody>\n",
       "    <tr>\n",
       "      <th>53</th>\n",
       "      <td>RL</td>\n",
       "      <td>NON</td>\n",
       "      <td>9782490155804</td>\n",
       "      <td>Les femmes de Bidibidi- Grand Format</td>\n",
       "      <td>Charline Effah</td>\n",
       "      <td>Romans français</td>\n",
       "      <td>F</td>\n",
       "      <td>Collas Emmanuelle</td>\n",
       "      <td>FRANCE</td>\n",
       "      <td>EUROPE</td>\n",
       "      <td>...</td>\n",
       "      <td>Ebook12,99 €</td>\n",
       "      <td>https://products-images.di-static.com/image/ch...</td>\n",
       "      <td>Date de parution|25/08/2023|Editeur|Collas Emm...</td>\n",
       "      <td>978-2-490155-80-4</td>\n",
       "      <td>Grand Format</td>\n",
       "      <td>Broché</td>\n",
       "      <td>228 pages</td>\n",
       "      <td>0.246 Kg</td>\n",
       "      <td>12,6 cm × 19,2 cm × 2,1 cm</td>\n",
       "      <td>NaN</td>\n",
       "    </tr>\n",
       "    <tr>\n",
       "      <th>763</th>\n",
       "      <td>RL</td>\n",
       "      <td>NON</td>\n",
       "      <td>9782490155835</td>\n",
       "      <td>Nos destins sont liés- Grand Format</td>\n",
       "      <td>Walid Hajar Rachedi</td>\n",
       "      <td>Romans français</td>\n",
       "      <td>M</td>\n",
       "      <td>Collas Emmanuelle</td>\n",
       "      <td>FRANCE</td>\n",
       "      <td>EUROPE</td>\n",
       "      <td>...</td>\n",
       "      <td>Ebook14,99 €</td>\n",
       "      <td>https://products-images.di-static.com/image/wa...</td>\n",
       "      <td>Date de parution|01/09/2023|Editeur|Collas Emm...</td>\n",
       "      <td>978-2-490155-83-5</td>\n",
       "      <td>Grand Format</td>\n",
       "      <td>Broché</td>\n",
       "      <td>NaN</td>\n",
       "      <td>0.36 Kg</td>\n",
       "      <td>12,9 cm × 19,0 cm × 3,7 cm</td>\n",
       "      <td>NaN</td>\n",
       "    </tr>\n",
       "    <tr>\n",
       "      <th>770</th>\n",
       "      <td>NaN</td>\n",
       "      <td>NaN</td>\n",
       "      <td>9782490155729</td>\n",
       "      <td>Le Bunker de Tbilissi- Grand Format</td>\n",
       "      <td>Iva Pezuashvili</td>\n",
       "      <td>NaN</td>\n",
       "      <td>NaN</td>\n",
       "      <td>Collas Emmanuelle</td>\n",
       "      <td>NaN</td>\n",
       "      <td>NaN</td>\n",
       "      <td>...</td>\n",
       "      <td>Ebook11,99 €</td>\n",
       "      <td>https://products-images.di-static.com/image/mi...</td>\n",
       "      <td>Date de parution|01/09/2023|Editeur|Collas Emm...</td>\n",
       "      <td>978-2-490155-72-9</td>\n",
       "      <td>Grand Format</td>\n",
       "      <td>Broché</td>\n",
       "      <td>156 pages</td>\n",
       "      <td>0.18 Kg</td>\n",
       "      <td>12,8 cm × 19,1 cm × 2,1 cm</td>\n",
       "      <td>NaN</td>\n",
       "    </tr>\n",
       "  </tbody>\n",
       "</table>\n",
       "<p>3 rows × 28 columns</p>\n",
       "</div>"
      ],
      "text/plain": [
       "      RL PREMIER_ROMAN            EAN                                 titre  \\\n",
       "53    RL           NON  9782490155804  Les femmes de Bidibidi- Grand Format   \n",
       "763   RL           NON  9782490155835   Nos destins sont liés- Grand Format   \n",
       "770  NaN           NaN  9782490155729   Le Bunker de Tbilissi- Grand Format   \n",
       "\n",
       "                  auteur            TYPES GENRE            Editeur    PAYS  \\\n",
       "53        Charline Effah  Romans français     F  Collas Emmanuelle  FRANCE   \n",
       "763  Walid Hajar Rachedi  Romans français     M  Collas Emmanuelle  FRANCE   \n",
       "770      Iva Pezuashvili              NaN   NaN  Collas Emmanuelle     NaN   \n",
       "\n",
       "    CONTINENT  ...    prix_ebook  \\\n",
       "53     EUROPE  ...  Ebook12,99 €   \n",
       "763    EUROPE  ...  Ebook14,99 €   \n",
       "770       NaN  ...  Ebook11,99 €   \n",
       "\n",
       "                                            couverture  \\\n",
       "53   https://products-images.di-static.com/image/ch...   \n",
       "763  https://products-images.di-static.com/image/wa...   \n",
       "770  https://products-images.di-static.com/image/mi...   \n",
       "\n",
       "                                      caracteristiques               ISBN  \\\n",
       "53   Date de parution|25/08/2023|Editeur|Collas Emm...  978-2-490155-80-4   \n",
       "763  Date de parution|01/09/2023|Editeur|Collas Emm...  978-2-490155-83-5   \n",
       "770  Date de parution|01/09/2023|Editeur|Collas Emm...  978-2-490155-72-9   \n",
       "\n",
       "           Format Présentation Nb. de pages     Poids  \\\n",
       "53   Grand Format       Broché    228 pages  0.246 Kg   \n",
       "763  Grand Format       Broché          NaN   0.36 Kg   \n",
       "770  Grand Format       Broché    156 pages   0.18 Kg   \n",
       "\n",
       "                     Dimensions Collection  \n",
       "53   12,6 cm × 19,2 cm × 2,1 cm        NaN  \n",
       "763  12,9 cm × 19,0 cm × 3,7 cm        NaN  \n",
       "770  12,8 cm × 19,1 cm × 2,1 cm        NaN  \n",
       "\n",
       "[3 rows x 28 columns]"
      ]
     },
     "execution_count": 22,
     "metadata": {},
     "output_type": "execute_result"
    }
   ],
   "source": [
    "df_rl_total.loc[df_rl_total['Editeur'].str.contains(\"Emmanuelle\") ==True] #, ['Genre']] = 'F'"
   ]
  },
  {
   "cell_type": "code",
   "execution_count": 23,
   "metadata": {
    "colab": {
     "base_uri": "https://localhost:8080/"
    },
    "executionInfo": {
     "elapsed": 45726,
     "status": "ok",
     "timestamp": 1698758181734,
     "user": {
      "displayName": "sandrine henry",
      "userId": "01374054069161657240"
     },
     "user_tz": -60
    },
    "id": "h9oxG_ERO8kv",
    "outputId": "4685034d-79a5-456f-bf3e-280e28a86acf"
   },
   "outputs": [
    {
     "name": "stdin",
     "output_type": "stream",
     "text": [
      "index 770\n",
      "PREMIER ROMAN NON\n",
      "genre M\n",
      "Pays GEORGIE\n",
      "continent EUROPE\n",
      "langue traduite GEORGIEN\n",
      "traducteur Marika Megrelishvili\n"
     ]
    }
   ],
   "source": [
    "nb_index = int(input('index'))\n",
    "prem_roman = input('PREMIER ROMAN')\n",
    "quel_genre = input('genre')\n",
    "quel_pays = input('Pays')\n",
    "quel_continent = input('continent')\n",
    "trad_de = input('langue traduite')\n",
    "trad_par = input('traducteur')\n",
    "\n",
    "df_rl_total.loc[nb_index,'RL'] = 'RL'\n",
    "df_rl_total.loc[nb_index,'PREMIER_ROMAN'] = prem_roman #'PREMIER ROMAN'\n",
    "df_rl_total.loc[nb_index,'TYPES'] = 'Romans étrangers'\n",
    "df_rl_total.loc[nb_index,'GENRE'] = quel_genre\n",
    "df_rl_total.loc[nb_index,'PAYS'] = quel_pays\n",
    "df_rl_total.loc[nb_index,'CONTINENT'] = quel_continent #'EUROPE'\n",
    "df_rl_total.loc[nb_index,'Traduit de'] = trad_de\n",
    "df_rl_total.loc[nb_index,'Traduit par'] = trad_par"
   ]
  },
  {
   "cell_type": "markdown",
   "metadata": {
    "id": "_UxKAb5fO8kw"
   },
   "source": [
    "#### Ajout Automatique"
   ]
  },
  {
   "cell_type": "code",
   "execution_count": 3,
   "metadata": {
    "colab": {
     "base_uri": "https://localhost:8080/",
     "height": 457
    },
    "executionInfo": {
     "elapsed": 44063,
     "status": "ok",
     "timestamp": 1698759106714,
     "user": {
      "displayName": "sandrine henry",
      "userId": "01374054069161657240"
     },
     "user_tz": -60
    },
    "id": "LdOeiKWIO8kw",
    "outputId": "9958f795-8f88-4190-b368-3858d94d44b2",
    "scrolled": true
   },
   "outputs": [
    {
     "name": "stdin",
     "output_type": "stream",
     "text": [
      "url https://www.decitre.fr/livres/l-odeur-des-clementines-grillees-9782367271163.html\n",
      "'PREMIER_ROMAN' ou 'NON' N\n",
      "'Romans français' ou 'Essais' 'Romans étrangers' N\n",
      "'M' ou 'F' N\n",
      "'pays  N\n",
      "continent  N\n",
      "Traduit de  N\n",
      "Traduit par'  N\n",
      "index 9999\n"
     ]
    },
    {
     "name": "stdout",
     "output_type": "stream",
     "text": [
      "titre :  L'Odeur des clémentines grillées- Grand Format \n",
      "\n"
     ]
    },
    {
     "ename": "AttributeError",
     "evalue": "'NoneType' object has no attribute 'get_text'",
     "output_type": "error",
     "traceback": [
      "\u001b[0;31m---------------------------------------------------------------------------\u001b[0m",
      "\u001b[0;31mAttributeError\u001b[0m                            Traceback (most recent call last)",
      "Cell \u001b[0;32mIn[3], line 35\u001b[0m\n\u001b[1;32m     32\u001b[0m \u001b[38;5;28mprint\u001b[39m(\u001b[38;5;124m\"\u001b[39m\u001b[38;5;124mtitre : \u001b[39m\u001b[38;5;124m\"\u001b[39m, data_livre_titre, \u001b[38;5;124m\"\u001b[39m\u001b[38;5;130;01m\\n\u001b[39;00m\u001b[38;5;124m\"\u001b[39m)\n\u001b[1;32m     34\u001b[0m \u001b[38;5;66;03m### Auteur\u001b[39;00m\n\u001b[0;32m---> 35\u001b[0m data_livre_auteur \u001b[38;5;241m=\u001b[39m \u001b[43mdata_livre_soup\u001b[49m\u001b[38;5;241;43m.\u001b[39;49m\u001b[43mfind\u001b[49m\u001b[43m(\u001b[49m\u001b[38;5;124;43m'\u001b[39;49m\u001b[38;5;124;43ma\u001b[39;49m\u001b[38;5;124;43m'\u001b[39;49m\u001b[43m,\u001b[49m\u001b[43m \u001b[49m\u001b[43mattrs\u001b[49m\u001b[38;5;241;43m=\u001b[39;49m\u001b[43m{\u001b[49m\u001b[38;5;124;43m\"\u001b[39;49m\u001b[38;5;124;43mclass\u001b[39;49m\u001b[38;5;124;43m\"\u001b[39;49m\u001b[43m \u001b[49m\u001b[43m:\u001b[49m\u001b[43m \u001b[49m\u001b[38;5;124;43m\"\u001b[39;49m\u001b[38;5;124;43mauthor author--main trackme\u001b[39;49m\u001b[38;5;124;43m\"\u001b[39;49m\u001b[43m}\u001b[49m\u001b[43m)\u001b[49m\u001b[38;5;241;43m.\u001b[39;49m\u001b[43mget_text\u001b[49m(strip\u001b[38;5;241m=\u001b[39m\u001b[38;5;28;01mTrue\u001b[39;00m)\n\u001b[1;32m     36\u001b[0m \u001b[38;5;66;03m#print(\"auteur : \", data_livre_auteur, \"\\n\")\u001b[39;00m\n\u001b[1;32m     37\u001b[0m \n\u001b[1;32m     38\u001b[0m \n\u001b[1;32m     39\u001b[0m \u001b[38;5;66;03m### prix grand format\u001b[39;00m\n\u001b[1;32m     40\u001b[0m data_livre_prix_gf \u001b[38;5;241m=\u001b[39m data_livre_soup\u001b[38;5;241m.\u001b[39mfind(\u001b[38;5;124m'\u001b[39m\u001b[38;5;124mdiv\u001b[39m\u001b[38;5;124m'\u001b[39m, attrs\u001b[38;5;241m=\u001b[39m{\u001b[38;5;124m\"\u001b[39m\u001b[38;5;124mclass\u001b[39m\u001b[38;5;124m\"\u001b[39m : \u001b[38;5;124m\"\u001b[39m\u001b[38;5;124mprice fp-wide--margin-bottom\u001b[39m\u001b[38;5;124m\"\u001b[39m})\u001b[38;5;241m.\u001b[39mfind(\u001b[38;5;124m'\u001b[39m\u001b[38;5;124mspan\u001b[39m\u001b[38;5;124m'\u001b[39m)\u001b[38;5;241m.\u001b[39mget_text(strip\u001b[38;5;241m=\u001b[39m\u001b[38;5;28;01mTrue\u001b[39;00m)\u001b[38;5;66;03m#.findAll('span', attrs={\"class\" : \"final-price\"})\u001b[39;00m\n",
      "\u001b[0;31mAttributeError\u001b[0m: 'NoneType' object has no attribute 'get_text'"
     ]
    }
   ],
   "source": [
    "#Pour ajout automatique\n",
    "# url à scraper\n",
    "url_titre = input('url')\n",
    "premier_roman = input(\"'PREMIER_ROMAN' ou 'NON'\")\n",
    "types_livre = input(\"'Romans français' ou 'Essais' 'Romans étrangers'\")\n",
    "genre = input(\"'M' ou 'F'\")\n",
    "\n",
    "pays = input(\"'pays \")\n",
    "continent = input(\"continent \")\n",
    "langue_traduction = input(\"Traduit de \")\n",
    "traducteurice = input(\"Traduit par' \")\n",
    "\n",
    "pour_index = input(\"index\")\n",
    "\n",
    "liste_rl_titre = []\n",
    "\n",
    "#your code\n",
    "\n",
    "data_livre = requests.get(url_titre).content\n",
    "data_livre_soup = BeautifulSoup(data_livre,\"html.parser\")\n",
    "\n",
    "#### infos du livre ###\n",
    "\n",
    "## Catégories\n",
    "data_livre_cat = data_livre_soup.find('div', attrs={\"id\" : \"main_breadcrumb\",\n",
    "                              \"class\" : \"breadcrumbs\"}).findAll('span')\n",
    "liste_cat = [cat.get_text(strip=True) for cat in data_livre_cat]\n",
    "liste_cat_final = [c for c in liste_cat if c !='›']\n",
    "\n",
    "## Titre\n",
    "data_livre_titre = data_livre_soup.find('h1', attrs={\"class\" : \"product-title\"}).get_text(strip=True)\n",
    "print(\"titre : \", data_livre_titre, \"\\n\")\n",
    "\n",
    "### Auteur\n",
    "data_livre_auteur = data_livre_soup.find('a', attrs={\"class\" : \"author author--main trackme\"}).get_text(strip=True)\n",
    "#print(\"auteur : \", data_livre_auteur, \"\\n\")\n",
    "\n",
    "\n",
    "### prix grand format\n",
    "data_livre_prix_gf = data_livre_soup.find('div', attrs={\"class\" : \"price fp-wide--margin-bottom\"}).find('span').get_text(strip=True)#.findAll('span', attrs={\"class\" : \"final-price\"})\n",
    "#print(\"prix grand format : \", data_livre_prix_gf, \"\\n\")\n",
    "\n",
    "### prix ebook\n",
    "try :\n",
    "    data_livre_prix_ebook = data_livre_soup.find('a', attrs={\"class\" : \"ebook\"}).get_text(strip=True)\n",
    "    #print(\"prix ebook : \", data_livre_prix_ebook, \"\\n\")\n",
    "except AttributeError:\n",
    "    #print(\"pas de prix ebook\", \"\\n\")\n",
    "    data_livre_prix_ebook = \"pas de prix ebook\"\n",
    "\n",
    "\n",
    "## Couverture\n",
    "data_livre_couv = data_livre_soup.find('source', attrs={\"class\" : \"lozad\"})['data-srcset']\n",
    "#print(\"couv\", data_livre_couv, \"\\n\")\n",
    "\n",
    "\n",
    "## Caractéristique\n",
    "data_livre_carac = data_livre_soup.find('ul', attrs={\"class\" :\"informations-container\"}).get_text(\"|\",strip=True)#.find_all('li',attrs={\"class\" :\"information\"}).get_text()\n",
    "#print(\"caracteristiques : \", data_livre_carac.get_text(),\"\\n\")\n",
    "\n",
    "\n",
    "dic_rl_parus = {'url' : url_titre,\n",
    "    'categorie' : liste_cat_final,\n",
    "    'titre':data_livre_titre,\n",
    "    'auteur':data_livre_auteur,\n",
    "    'prix_gf':data_livre_prix_gf,\n",
    "    'prix_ebook':data_livre_prix_ebook,\n",
    "    #'caracteristiques_bis' : temp_dict,\n",
    "    'couverture':data_livre_couv,\n",
    "    'caracteristiques':data_livre_carac,\n",
    "    'RL' : 'RL',\n",
    "    'PREMIER_ROMAN' : premier_roman,\n",
    "    'TYPES' : types_livre,\n",
    "    'GENRE' : genre,\n",
    "    'PAYS' : pays,\n",
    "    'CONTINENT' : continent,\n",
    "    'Traduit de' : langue_traduction,\n",
    "    'Traduit par' : traducteurice,\n",
    "    }\n",
    "\n",
    "\n",
    "## Caractéristique\n",
    "data_livre_carac_dict = data_livre_soup.find('ul', attrs={\"class\" :\"informations-container\"}).findAll('li', attrs={\"class\" : \"information\"})\n",
    "for c in data_livre_carac_dict :\n",
    "    try :\n",
    "        k = c.find('span').get_text(strip=True)\n",
    "        v = c.find('div', attrs={\"class\" :\"value\"}).get_text(strip=True)\n",
    "    except AttributeError:\n",
    "        print(\"NC\")\n",
    "    dic_rl_parus[k]=v\n",
    "\n",
    "liste_rl_titre.append(dic_rl_parus)\n",
    "\n",
    "\n",
    "df_rl_total = pd.concat([df_rl_total,pd.DataFrame(liste_rl_titre, index=[pour_index])])\n",
    "df_rl_total.tail(2)"
   ]
  },
  {
   "cell_type": "code",
   "execution_count": 9,
   "metadata": {},
   "outputs": [
    {
     "name": "stdout",
     "output_type": "stream",
     "text": [
      "titre :  L'Odeur des clémentines grillées- Grand Format \n",
      "\n"
     ]
    },
    {
     "ename": "AttributeError",
     "evalue": "'NoneType' object has no attribute 'get_text'",
     "output_type": "error",
     "traceback": [
      "\u001b[0;31m---------------------------------------------------------------------------\u001b[0m",
      "\u001b[0;31mAttributeError\u001b[0m                            Traceback (most recent call last)",
      "Cell \u001b[0;32mIn[9], line 18\u001b[0m\n\u001b[1;32m     15\u001b[0m \u001b[38;5;28mprint\u001b[39m(\u001b[38;5;124m\"\u001b[39m\u001b[38;5;124mtitre : \u001b[39m\u001b[38;5;124m\"\u001b[39m, data_livre_titre, \u001b[38;5;124m\"\u001b[39m\u001b[38;5;130;01m\\n\u001b[39;00m\u001b[38;5;124m\"\u001b[39m)\n\u001b[1;32m     17\u001b[0m \u001b[38;5;66;03m### Auteur\u001b[39;00m\n\u001b[0;32m---> 18\u001b[0m data_livre_auteur \u001b[38;5;241m=\u001b[39m \u001b[43mdata_livre_soup\u001b[49m\u001b[38;5;241;43m.\u001b[39;49m\u001b[43mfind\u001b[49m\u001b[43m(\u001b[49m\u001b[38;5;124;43m'\u001b[39;49m\u001b[38;5;124;43ma\u001b[39;49m\u001b[38;5;124;43m'\u001b[39;49m\u001b[43m,\u001b[49m\u001b[43m \u001b[49m\u001b[43mattrs\u001b[49m\u001b[38;5;241;43m=\u001b[39;49m\u001b[43m{\u001b[49m\u001b[38;5;124;43m\"\u001b[39;49m\u001b[38;5;124;43mclass\u001b[39;49m\u001b[38;5;124;43m\"\u001b[39;49m\u001b[43m \u001b[49m\u001b[43m:\u001b[49m\u001b[43m \u001b[49m\u001b[38;5;124;43m\"\u001b[39;49m\u001b[38;5;124;43mauthor author--main\u001b[39;49m\u001b[38;5;124;43m\"\u001b[39;49m\u001b[43m}\u001b[49m\u001b[43m)\u001b[49m\u001b[38;5;241;43m.\u001b[39;49m\u001b[43mget_text\u001b[49m(strip\u001b[38;5;241m=\u001b[39m\u001b[38;5;28;01mTrue\u001b[39;00m)\n\u001b[1;32m     19\u001b[0m \u001b[38;5;28mprint\u001b[39m(\u001b[38;5;124m\"\u001b[39m\u001b[38;5;124mauteur : \u001b[39m\u001b[38;5;124m\"\u001b[39m, data_livre_auteur, \u001b[38;5;124m\"\u001b[39m\u001b[38;5;130;01m\\n\u001b[39;00m\u001b[38;5;124m\"\u001b[39m)\n\u001b[1;32m     22\u001b[0m \u001b[38;5;66;03m### prix grand format\u001b[39;00m\n",
      "\u001b[0;31mAttributeError\u001b[0m: 'NoneType' object has no attribute 'get_text'"
     ]
    }
   ],
   "source": [
    "data_livre = requests.get(\"https://www.decitre.fr/livres/l-odeur-des-clementines-grillees-9782367271163.html\").content\n",
    "data_livre_soup = BeautifulSoup(data_livre,\"html.parser\")\n",
    "#print(data_livre_soup)\n",
    "\n",
    "#### infos du livre ###\n",
    "\n",
    "## Catégories\n",
    "data_livre_cat = data_livre_soup.find('div', attrs={\"id\" : \"main_breadcrumb\",\n",
    "                              \"class\" : \"breadcrumbs\"}).findAll('span')\n",
    "liste_cat = [cat.get_text(strip=True) for cat in data_livre_cat]\n",
    "liste_cat_final = [c for c in liste_cat if c !='›']\n",
    "\n",
    "## Titre\n",
    "data_livre_titre = data_livre_soup.find('h1', attrs={\"class\" : \"product-title\"}).get_text(strip=True)\n",
    "print(\"titre : \", data_livre_titre, \"\\n\")\n",
    "\n",
    "### Auteur\n",
    "data_livre_auteur = data_livre_soup.find('span', attrs={\"class\" : \"author author--main\"}).get_text(strip=True)\n",
    "print(\"auteur : \", data_livre_auteur, \"\\n\")\n",
    "\n",
    "\n",
    "### prix grand format\n",
    "data_livre_prix_gf = data_livre_soup.find('div', attrs={\"class\" : \"price fp-wide--margin-bottom\"}).find('span').get_text(strip=True)#.findAll('span', attrs={\"class\" : \"final-price\"})\n",
    "#print(\"prix grand format : \", data_livre_prix_gf, \"\\n\")\n",
    "\n",
    "### prix ebook\n",
    "try :\n",
    "    data_livre_prix_ebook = data_livre_soup.find('a', attrs={\"class\" : \"ebook\"}).get_text(strip=True)\n",
    "    #print(\"prix ebook : \", data_livre_prix_ebook, \"\\n\")\n",
    "except AttributeError:\n",
    "    #print(\"pas de prix ebook\", \"\\n\")\n",
    "    data_livre_prix_ebook = \"pas de prix ebook\"\n",
    "\n",
    "\n",
    "## Couverture\n",
    "data_livre_couv = data_livre_soup.find('source', attrs={\"class\" : \"lozad\"})['data-srcset']\n",
    "#print(\"couv\", data_livre_couv, \"\\n\")\n",
    "\n",
    "\n",
    "## Caractéristique\n",
    "data_livre_carac = data_livre_soup.find('ul', attrs={\"class\" :\"informations-container\"}).get_text(\"|\",strip=True)#.find_all('li',attrs={\"class\" :\"information\"}).get_text()\n",
    "#print(\"caracteristiques : \", data_livre_carac.get_text(),\"\\n\")\n"
   ]
  },
  {
   "cell_type": "markdown",
   "metadata": {
    "id": "8JvBLNCbO8kw"
   },
   "source": [
    "#### Export pickel et CSV"
   ]
  },
  {
   "cell_type": "code",
   "execution_count": 24,
   "metadata": {
    "colab": {
     "base_uri": "https://localhost:8080/",
     "height": 370
    },
    "executionInfo": {
     "elapsed": 366,
     "status": "ok",
     "timestamp": 1698759121437,
     "user": {
      "displayName": "sandrine henry",
      "userId": "01374054069161657240"
     },
     "user_tz": -60
    },
    "id": "VIzAPGiBO8kw",
    "outputId": "fe6463d8-5f04-458c-e8f7-b08e978aed9a"
   },
   "outputs": [
    {
     "data": {
      "text/html": [
       "<div>\n",
       "<style scoped>\n",
       "    .dataframe tbody tr th:only-of-type {\n",
       "        vertical-align: middle;\n",
       "    }\n",
       "\n",
       "    .dataframe tbody tr th {\n",
       "        vertical-align: top;\n",
       "    }\n",
       "\n",
       "    .dataframe thead th {\n",
       "        text-align: right;\n",
       "    }\n",
       "</style>\n",
       "<table border=\"1\" class=\"dataframe\">\n",
       "  <thead>\n",
       "    <tr style=\"text-align: right;\">\n",
       "      <th></th>\n",
       "      <th>RL</th>\n",
       "      <th>PREMIER_ROMAN</th>\n",
       "      <th>EAN</th>\n",
       "      <th>titre</th>\n",
       "      <th>auteur</th>\n",
       "      <th>TYPES</th>\n",
       "      <th>GENRE</th>\n",
       "      <th>Editeur</th>\n",
       "      <th>PAYS</th>\n",
       "      <th>CONTINENT</th>\n",
       "      <th>...</th>\n",
       "      <th>prix_ebook</th>\n",
       "      <th>couverture</th>\n",
       "      <th>caracteristiques</th>\n",
       "      <th>ISBN</th>\n",
       "      <th>Format</th>\n",
       "      <th>Présentation</th>\n",
       "      <th>Nb. de pages</th>\n",
       "      <th>Poids</th>\n",
       "      <th>Dimensions</th>\n",
       "      <th>Collection</th>\n",
       "    </tr>\n",
       "  </thead>\n",
       "  <tbody>\n",
       "    <tr>\n",
       "      <th>1263</th>\n",
       "      <td>RL</td>\n",
       "      <td>OUI</td>\n",
       "      <td>9782385290313</td>\n",
       "      <td>Le rêve de la couturière- Grand Format</td>\n",
       "      <td>Bianca Pitzorno</td>\n",
       "      <td>Romans étrangers</td>\n",
       "      <td>F</td>\n",
       "      <td>Charleston éditions</td>\n",
       "      <td>ITALIE</td>\n",
       "      <td>EUROPE</td>\n",
       "      <td>...</td>\n",
       "      <td>Ebook16,99 €</td>\n",
       "      <td>https://products-images.di-static.com/image/bi...</td>\n",
       "      <td>Date de parution|19/09/2023|Editeur|Charleston...</td>\n",
       "      <td>978-2-38529-031-3</td>\n",
       "      <td>Grand Format</td>\n",
       "      <td>Dos carré collé</td>\n",
       "      <td>265 pages</td>\n",
       "      <td>0.336 Kg</td>\n",
       "      <td>14,7 cm × 23,0 cm × 2,2 cm</td>\n",
       "      <td>NaN</td>\n",
       "    </tr>\n",
       "    <tr>\n",
       "      <th>1264</th>\n",
       "      <td>RL</td>\n",
       "      <td>NON</td>\n",
       "      <td>9782824622606</td>\n",
       "      <td>Un dernier été avant la guerre</td>\n",
       "      <td>Merryn Allingham</td>\n",
       "      <td>Romans étrangers</td>\n",
       "      <td>F</td>\n",
       "      <td>City Editions</td>\n",
       "      <td>ANGLETERRE</td>\n",
       "      <td>EUROPE</td>\n",
       "      <td>...</td>\n",
       "      <td>12,99 €</td>\n",
       "      <td>https://products-images.di-static.com/image/me...</td>\n",
       "      <td>Date de parution|(2023-09-06|Editeur|City Edit...</td>\n",
       "      <td>978-2-8246-2260-6</td>\n",
       "      <td>Grand Format</td>\n",
       "      <td>Dos carré collé</td>\n",
       "      <td>382 pages</td>\n",
       "      <td>0.516 kg</td>\n",
       "      <td>14,4 cm × 22,6 cm × 2,9 cm</td>\n",
       "      <td>Romans</td>\n",
       "    </tr>\n",
       "  </tbody>\n",
       "</table>\n",
       "<p>2 rows × 28 columns</p>\n",
       "</div>"
      ],
      "text/plain": [
       "      RL PREMIER_ROMAN            EAN                                   titre  \\\n",
       "1263  RL           OUI  9782385290313  Le rêve de la couturière- Grand Format   \n",
       "1264  RL           NON  9782824622606          Un dernier été avant la guerre   \n",
       "\n",
       "                auteur             TYPES GENRE              Editeur  \\\n",
       "1263   Bianca Pitzorno  Romans étrangers     F  Charleston éditions   \n",
       "1264  Merryn Allingham  Romans étrangers     F        City Editions   \n",
       "\n",
       "            PAYS CONTINENT  ...    prix_ebook  \\\n",
       "1263      ITALIE    EUROPE  ...  Ebook16,99 €   \n",
       "1264  ANGLETERRE    EUROPE  ...       12,99 €   \n",
       "\n",
       "                                             couverture  \\\n",
       "1263  https://products-images.di-static.com/image/bi...   \n",
       "1264  https://products-images.di-static.com/image/me...   \n",
       "\n",
       "                                       caracteristiques                ISBN  \\\n",
       "1263  Date de parution|19/09/2023|Editeur|Charleston...   978-2-38529-031-3   \n",
       "1264  Date de parution|(2023-09-06|Editeur|City Edit...  978-2-8246-2260-6    \n",
       "\n",
       "            Format     Présentation Nb. de pages      Poids  \\\n",
       "1263  Grand Format  Dos carré collé    265 pages   0.336 Kg   \n",
       "1264  Grand Format  Dos carré collé    382 pages  0.516 kg    \n",
       "\n",
       "                      Dimensions Collection  \n",
       "1263  14,7 cm × 23,0 cm × 2,2 cm        NaN  \n",
       "1264  14,4 cm × 22,6 cm × 2,9 cm     Romans  \n",
       "\n",
       "[2 rows x 28 columns]"
      ]
     },
     "execution_count": 24,
     "metadata": {},
     "output_type": "execute_result"
    }
   ],
   "source": [
    "# export en CSV\n",
    "df_rl_total.to_csv('liste_rl_total.csv', sep=\";\", index = False) #/content/drive/MyDrive/Data4Good/rentree_litteraire/2023/\n",
    "\n",
    "# export au format pickle\n",
    "df_rl_total.to_pickle(\"liste_rl_total.pkl\") #/content/drive/MyDrive/Data4Good/rentree_litteraire/2023/\n",
    "\n",
    "pd.read_pickle(\"liste_rl_total.pkl\").tail(2) #/content/drive/MyDrive/Data4Good/rentree_litteraire/2023/"
   ]
  },
  {
   "cell_type": "code",
   "execution_count": null,
   "metadata": {
    "id": "NOULN-Y5O8kw",
    "outputId": "ce70a026-0b33-4e85-94ca-39161a536369"
   },
   "outputs": [
    {
     "data": {
      "text/plain": [
       "Index(['RL', 'PREMIER_ROMAN', 'EAN', 'titre', 'auteur', 'TYPES', 'GENRE',\n",
       "       'PAYS', 'CONTINENT', 'Traduit de', 'Traduit par', 'Date de parution',\n",
       "       'MOIS', 'ANNEE_PUBLICATION', 'url', 'categorie', 'prix_gf',\n",
       "       'prix_ebook', 'couverture', 'caracteristiques', 'Editeur', 'ISBN',\n",
       "       'Format', 'Présentation', 'Nb. de pages', 'Poids', 'Dimensions',\n",
       "       'Collection'],\n",
       "      dtype='object')"
      ]
     },
     "execution_count": 70,
     "metadata": {},
     "output_type": "execute_result"
    }
   ],
   "source": [
    "df_rl_total.columns"
   ]
  },
  {
   "cell_type": "markdown",
   "metadata": {
    "id": "X8LPLf0TO8kx"
   },
   "source": [
    "#### Ajout Manuel"
   ]
  },
  {
   "cell_type": "code",
   "execution_count": 20,
   "metadata": {
    "executionInfo": {
     "elapsed": 221,
     "status": "ok",
     "timestamp": 1698755022718,
     "user": {
      "displayName": "sandrine henry",
      "userId": "01374054069161657240"
     },
     "user_tz": -60
    },
    "id": "GwSaomLDO8kx"
   },
   "outputs": [],
   "source": [
    "# pour ajout titre manquant manuel\n",
    "\n",
    "# Append one or more rows of another dataframe\n",
    "#\n",
    "df1 = pd.DataFrame({'RL' : ['RL'],\n",
    "'PREMIER_ROMAN' : ['NON'], #PREMIER ROMAN NON\n",
    "'TYPES' : ['Romans étrangers'], #Essais Romans étrangers Romans français\n",
    "'GENRE' : ['F'],\n",
    "'PAYS' : ['ANGLETERRE'],\n",
    "'CONTINENT' : ['EUROPE'],\n",
    "'Traduit de' : ['ANGLAIS'],\n",
    "'Traduit par' : ['Marion Boclet'],\n",
    "'EAN' : ['9782824622606'],\n",
    "'titre' : [\"Un dernier été avant la guerre\"],\n",
    "'auteur' : ['Merryn Allingham'],\n",
    "'Date de parution' : ['2023-09-06'],\n",
    "'MOIS' : ['September'], #August September October\n",
    "'ANNEE_PUBLICATION' : [2023],\n",
    "'url' : ['https://www.decitre.fr/livres/l-heritiere-de-summerhayes-9782824622606.html'],\n",
    "'categorie' : [['Livres', 'Romance', 'Romance historique']],\n",
    "'prix_gf' : [' 20,00 €'],\n",
    "'prix_ebook' : ['12,99 €'], #pas de prix ebook 15,99 €\n",
    "'couverture' : ['https://products-images.di-static.com/image/merryn-allingham-l-heritiere-de-summerhayes/9782824622606-475x500-2.webp'], #pas de visuel\n",
    "'caracteristiques' : ['Date de parution|(2023-09-06|Editeur|City Editions|ISBN|978-2-8246-2260-6 |EAN|9782824622606|Format|Grand Format|Présentation|Dos carré collé |Nb. de pages|382 pages|Poids|0.516 kg|Dimensions|14,4 cm × 22,6 cm × 2,9 cm|Collection|Romans'],\n",
    "'Editeur' : ['City Editions'],\n",
    "'ISBN' : ['978-2-8246-2260-6 '],\n",
    "'Format' : ['Grand Format'], #Grand Format Poche\n",
    "'Présentation' : ['Dos carré collé'],\n",
    "'Nb. de pages' : ['382 pages'],\n",
    "'Poids' : ['0.516 kg '],\n",
    "'Dimensions' : ['14,4 cm × 22,6 cm × 2,9 cm'], #14cm x 22cm\n",
    "'Collection' : ['Romans']\n",
    "}, index=[1264])\n",
    "#\n",
    "# Append a dataframe\n",
    "#\n",
    "\n",
    "df_rl_total = pd.concat([df_rl_total, df1])\n",
    "\n",
    "\n"
   ]
  },
  {
   "cell_type": "markdown",
   "metadata": {
    "id": "HQP7gWmCO8ky"
   },
   "source": [
    "***"
   ]
  },
  {
   "cell_type": "markdown",
   "metadata": {
    "jp-MarkdownHeadingCollapsed": true
   },
   "source": [
    "## Prix littéraire 2023\n",
    "|PRIX|PRIX_DETAIL|\n",
    "|---|---|\n",
    "|Prix Wepler|Prix Wepler-Fondation La Poste|\n",
    "|RENAUDOT|RENAUDOT_ROMAN|\n",
    "|RENAUDOT|RENAUDOT_ESSAI|\n",
    "|RENAUDOT|Prix Renaudot des lycéens|\n",
    "|Prix Goncourt|Prix Goncourt des Lycéens|\n",
    "|Prix Goncourt|Prix Goncourt|\n",
    "|Prix Medicis|Prix Medicis_FR|\n",
    "|Prix Medicis|Prix Medicis_ET|\n",
    "|Prix André Malraux|Prix André Malraux_ESSAI_ART|\n",
    "|Prix André Malraux|Prix André Malraux_LITT_ENGAGEE|\n",
    "|Prix Interallié|Prix Interallié|\n",
    "|Grand Prix de l'Académie Française|Grand Prix de l'Académie Française|\n",
    "|Prix Décembre|Prix Décembre|\n",
    "| Prix Alain Spiess|Prix Alain Spiess|\n",
    "|FEMINA|FEMINA_FRANCAIS|\n",
    "|FEMINA|FEMINA_ETRANGER|\n",
    "|FEMINA|FEMINA_LYCEENS|\n",
    "|FEMINA|FEMINA_ESSAI|\n",
    "|Prix Medicis|Prix Medicis_ESSAIS|\n",
    "|Prix de Flore|Prix de Flore|\n",
    "\n",
    "\n",
    "### Prix Décembre\n",
    "\n",
    "Le Canadien Kevin Lambert a remporté mardi 31 octobre le prix Décembre pour Que notre joie demeure (éditions du Nouvel Attila), une fiction sur la chute d’une architecte accusée de chasser les pauvres de Montréal. Voici les auteurs qui étaient en lice :\n",
    "\n",
    "- Kevin Lambert, Que notre joie demeure (Nouvel Attila)\n",
    "- Geneviève Damas, Strange (Grasset)\n",
    "- Laure Murat, Proust, roman familial (Robert Laffont)\n",
    "- Neige Sinno, Triste Tigre (P.O.L)\n",
    "\n",
    "### Prix Femina\n",
    "\n",
    "Neige Sinno a remporté lundi 6 novembre le prix Femina du roman français pour Triste tigre (éditions POL), récit de l’inceste dont elle a été victime enfant, et essai sur les violences sexuelles. Le prix Femina du roman étranger a été décerné à l’Américaine Louise Erdrich, pour La Sentence (Albin Michel), histoire d’une libraire amérindienne confrontée aux fantômes du passé et au racisme du présent. Enfin, le jury a attribué son prix de l’essai au chercheur français Hugo Micheron, spécialiste du jihadisme, pour La Colère et l’Oubli (Gallimard). L’essai se penche sur les mouvements islamistes radicaux et violents en Europe après l’effondrement de l’organisation Etat islamique en Syrie. Voici la liste des derniers auteurs qui étaient en lice :\n",
    "\n",
    "Romans français\n",
    "- Jean-Baptiste Andrea, Veiller sur elle (L’Iconoclaste)\n",
    "- Pierric Bailly, La Foudre (P.O.L)\n",
    "- Guy Boley, À ma sœur et unique (Grasset)\n",
    "- Agnès Mathieu-Daudé, Marchands de sable (Flammarion)\n",
    "- Neige Sinno, Triste Tigre (P.O.L)\n",
    "\n",
    "Romans étrangers \n",
    "- Louise Erdrich, La Sentence (Albin Michel)\n",
    "- Lidia Jorge, Misericordia (Métailié)\n",
    "- Han Kang, Impossibles adieux (Grasset)\n",
    "- Maggie O’Farrell, Le Portrait de mariage (Belfond)\n",
    "- Robert Seethaler, Le Café sans nom (Sabine Wespieser)\n",
    "\n",
    "Essais\n",
    "- Négar Djavadi, La Dernière Place (éd. Stock)\n",
    "- Hugo Micheron, La Colère et l’Oubli (éd. Gallimard)\n",
    "- Nathalie Piegay, 3 Nanas. Saint Phalle, Bourgeois, Messager (éd. Seuil)\n",
    "- Perrine Simon-Nahum, Sagesse du politique (éd. L’Observatoire)\n",
    "- Marion van Renterghem, Le Piège Nord Stream (éd. Les Arènes)\n",
    "- Joëlle Zask, Se tenir quelque part sur la Terre (éd. Premier parallèle)\n",
    "Cet article est régulièrement mis à jour.\n",
    "\n",
    "### Prix Goncourt\n",
    "\n",
    "Le prix Goncourt a été décerné mardi 7 novembre à Jean-Baptiste Andrea pour Veiller sur elle (éditions L’Iconoclaste), une histoire d’amour au temps du fascisme en Italie.\n",
    "\n",
    "Voici les auteurs qui étaient en lice sur la troisième liste :\n",
    "- Jean-Baptiste Andrea, Veiller sur elle (L’Iconoclaste)\n",
    "- Gaspard Kœnig, Humus (L’Observatoire)\n",
    "- Éric Reinhardt, Sarah, Susanne et l’écrivain (Gallimard)\n",
    "- Neige Sinno, Triste Tigre (P.O.L)\n",
    "\n",
    "### Prix Renaudot\n",
    "\n",
    "Le prix Renaudot a été attribué mardi 7 novembre à Ann Scott pour son roman Les Insolents (éditions Calman-Lévy), sur une quadragénaire quittant Paris. Les jurés du Renaudot ont attribué leur prix de l’essai à De Gaulle, une vie, de Jean-Luc Barré. Voici la liste des derniers auteurs qui étaient en lice :\n",
    "\n",
    "\n",
    "\n",
    "#### Sélection de romans \n",
    "- François Bégaudeau, L’Amour (Verticales)\n",
    "- Éric Chacour, Ce que je sais de toi (Philippe Rey)\n",
    "- Sorj Chalandon, L’Enragé (Grasset)\n",
    "- Lilia Hassaine, Panorama (Gallimard)\n",
    "- Gaspard Koenig, Humus (L’Observatoire)\n",
    "- Maria Pourchet, Western (Stock)\n",
    "- Alexis Salatko, Jules et Joe (Denoël)\n",
    "- Ann Scott, Les Insolents (Calmann-Lévy)\n",
    "- Fred Vargas, Sur la dalle (Flammarion)\n",
    "\n",
    "#### Sélection d’essais \n",
    "- Nathacha Appanah, La Mémoire délavée (Mercure de France)\n",
    "- Jean-Luc Barré, De Gaulle, une vie : l’homme de personne (Grasset)\n",
    "- Hubert Haddad, L’art et son miroir (Zulma)\n",
    "- Bruno de Cessole, Le Sceptre et la Plume (Perrin)\n",
    "- Paul Pavlowitch, Tous immortels (Buchet-Chastel)\n",
    "- Cédric Sapin-Dufour, Son odeur après la pluie (Stock)\n",
    "\n",
    "### Prix de Flore\n",
    "\n",
    "Maria Pourchet a remporté mercredi 8 novembre le prix de Flore pour Western (éditions Stock), dans lequel elle observe la fuite d’un acteur accusé de violences. Voici les auteurs qui étaient en lice :\n",
    "\n",
    "- François Bégaudeau, L’amour (Verticales)\n",
    "- Clément Camar-Mercier, Le roman de Jeanne et Nathan (Actes-Sud)\n",
    "- Jean Carrère, Perdre (Allia)\n",
    "- Eva Ionesco, La bague au doigt (Robert Laffont)\n",
    "- Maria Pourchet, Western (Stock)\n",
    "\n",
    "### Prix Médicis\n",
    "\n",
    "Le prix Médicis Étranger 2023 a été décerné jeudi 9 novembre à Han Kang pour Impossibles Adieux, traduit du coréen, ex-aequo avec Lidia Jorge, autrice de Misericordia. Le prix de l’essai a été remis à Laure Murat pour Proust, roman familial. Enfin Kevin Lambert double la mise puisqu’il avait déjà reçu le prix Décembre et a obtenu le prix du roman francophone pour Que notre joie demeure. Voici les auteurs qui étaient en lice :\n",
    "\n",
    "#### Romans francophones\n",
    "\n",
    "- Dominique Barbéris, Une façon d’aimer (éd. Gallimard)\n",
    "- Salma El Moumni, Adieu Tanger (éd. Grasset)\n",
    "- Kevin Lambert, Que notre joie demeure (éd. Le Nouvel Attila)\n",
    "- Lisette Lombé, Eunice (éd. du Seuil)\n",
    "- Richard Morgiève, La fête des mères (éd. Joëlle Losfeld)\n",
    "- Eric Reinhardt, Sarah, Suzanne et l’écrivain (éd. Gallimard)\n",
    "- Neige Sinno, Triste tigre (éd. P.O.L.)\n",
    "- Elisa Shua Dusapin, Le vieil incendie (éd. Zoé)\n",
    "\n",
    "#### Romans étrangers \n",
    "\n",
    "- Nina Allan, Conquest (éd. Tristram)\n",
    "- Hila Blum, Comment aimer sa fille (éd. Robert Laffont)\n",
    "- David Grann, Les Naufragés du Wager (éd. du Sous-sol)\n",
    "- Lidia Jorge, Misericordia (éd. Métailié)\n",
    "- Han Kang, Impossibles adieux (éd. Grasset)\n",
    "- László Krasznahorkai, Le Baron Weinckein est de retour (éd. Cambourakis)\n",
    "- Kim de L’Horizon, Hêtre pourpre (éd. Julliard)\n",
    "- Robert Seethaler, Le Café sans nom (éd. Sabine Wespieser)\n",
    "- Chris de Stoop, Le Livre de Daniel (éd. Globe)\n",
    "\n",
    "#### Essais \n",
    "\n",
    "- Daniel Andler, Intelligence artificielle, intelligence humaine : La double énigme (éd. Gallimard)\n",
    "- Nathacha Appanah, La Mémoire délavée (éd. Mercure de France)\n",
    "- Robert Bober, Il y a quand même dans la rue des gens qui passent (éd. P.O.L.)\n",
    "- Benoît Chantre, René Girard. Biographie (éd. Grasset)\n",
    "- Ariane Chemin, Ne réveille pas les enfants (éd. du sous-sol)\n",
    "- Marie Favereau, La Horde. Comment les mongols ont changé le monde (éd. Perrin)\n",
    "- Hélène Frappat, Le Gaslighting ou l’art de faire taire les femmes (éd. de L’Observatoire)\n",
    "- Anouche Kunth, Au bord de l’effacement. Sur les pas d’exilés arméniens dans l’entre-deux-guerres (éd. La Découverte)\n",
    "- Valérie Mréjen, La Jeune artiste (éd. P.O.L.)\n",
    "- Laure Murat, Proust, roman familial (éd. Robert Laffont)\n",
    "- Nathalie Piégay, 3 Nanas : Saint-Phalle, Bourgeois, Messager (éd. du Seuil)\n",
    "- Judith Schalansky, Inventaire de choses perdues (éd. Ypsilon)\n",
    "- Camille de Toledo, Une histoire du vertige (éd. Verdier)\n",
    "\n",
    "### Prix Interallié\n",
    "\n",
    "Le prix sera décerné le 22 novembre.\n",
    "\n",
    "- Jean-Baptiste Andrea, Veiller sur elle, éd. L’Iconoclaste\n",
    "- Claire Conruyt, Pour qui s’avance dans la nuit, éd. L’Observatoire\n",
    "- Régis Franc, Je vais bien, éd. Les Presses de la Cité\n",
    "- Gaspard Koenig, Humus, éd. L’Observatoire\n",
    "- David Le Bailly, Hôtel de la Folie, éd. du Seuil\n",
    "- Jessica Nelson, L’orageuse, éd. Albin Michel\n",
    "- Louis-Henri de la Rochefoucauld, Les petits farceurs, éd. Robert Laffont\n",
    "- Charlie Roquin, Les Maîtres de Bayreuth, éd. Le Cherche Midi\n",
    "- Bertrand de Saint Vincent, Une certaine désinvolture, Ed. du Rocher\n",
    "\n",
    "### Prix Goncourt des lycéens\n",
    "\n",
    "Le prix sera décerné le 23 novembre.\n",
    "\n",
    "- Mokhtar Amoudi, Les conditions idéales (Gallimard)\n",
    "- Jean-Baptiste Andrea, Veiller sur elle (L’Iconoclaste)\n",
    "- Dominique Barbéris, Une façon d’aimer (Gallimard)\n",
    "- Vincent Delecroix, Naufrage, (Gallimard)\n",
    "- Cécile Desprairies, La propagandiste (Seuil)\n",
    "- Émilie Frèche, Les amants du Lutetia (Albin Michel)\n",
    "- Dorothée Janin, La révolte des filles perdues (Stock)\n",
    "- Gaspard Koening, Humus (L’Observatoire)\n",
    "- Kevin Lambert, Que notre joie demeure (Le Nouvel Attila)\n",
    "- Akira Mizubayashi, Suite inoubliable (Gallimard)\n",
    "- Laure Murat, Proust, roman familial (Robert Laffont)\n",
    "- Léonor de Récondo, Le grand feu (Grasset)\n",
    "- Éric Reinardt, Sarah, Susanne et l’écrivain (Gallimard)\n",
    "- Antoine Sénanque, Croix de cendre (Grasset)\n",
    "- Neige Sinno, Triste tigre (P.O.L)\n",
    "- Jean-Philippe Toussaint, L’échiquier (Éditions de Minuit)"
   ]
  },
  {
   "cell_type": "code",
   "execution_count": 13,
   "metadata": {},
   "outputs": [
    {
     "data": {
      "text/html": [
       "<div>\n",
       "<style scoped>\n",
       "    .dataframe tbody tr th:only-of-type {\n",
       "        vertical-align: middle;\n",
       "    }\n",
       "\n",
       "    .dataframe tbody tr th {\n",
       "        vertical-align: top;\n",
       "    }\n",
       "\n",
       "    .dataframe thead th {\n",
       "        text-align: right;\n",
       "    }\n",
       "</style>\n",
       "<table border=\"1\" class=\"dataframe\">\n",
       "  <thead>\n",
       "    <tr style=\"text-align: right;\">\n",
       "      <th></th>\n",
       "      <th>PRIX</th>\n",
       "      <th>PRIX_DETAIL</th>\n",
       "      <th>SCORE</th>\n",
       "      <th>PREM_SELECTION</th>\n",
       "      <th>SEC_SELECTION</th>\n",
       "      <th>TROIS_SELECTION</th>\n",
       "      <th>RESULTAT</th>\n",
       "      <th>AUTEUR</th>\n",
       "      <th>TITRE</th>\n",
       "      <th>EDITEUR</th>\n",
       "      <th>IMAGE</th>\n",
       "      <th>IMAGE_URL</th>\n",
       "      <th>ISBN</th>\n",
       "      <th>RL_2022</th>\n",
       "      <th>GENRE</th>\n",
       "    </tr>\n",
       "  </thead>\n",
       "  <tbody>\n",
       "  </tbody>\n",
       "</table>\n",
       "</div>"
      ],
      "text/plain": [
       "Empty DataFrame\n",
       "Columns: [PRIX, PRIX_DETAIL, SCORE, PREM_SELECTION, SEC_SELECTION, TROIS_SELECTION, RESULTAT, AUTEUR, TITRE, EDITEUR, IMAGE, IMAGE_URL, ISBN, RL_2022, GENRE]\n",
       "Index: []"
      ]
     },
     "execution_count": 13,
     "metadata": {},
     "output_type": "execute_result"
    }
   ],
   "source": [
    "rentree_litteraire_df = pd.DataFrame(columns = [\"PRIX\",\"PRIX_DETAIL\",\"SCORE\",\"PREM_SELECTION\",\"SEC_SELECTION\",\n",
    " \"TROIS_SELECTION\",\"RESULTAT\",\"AUTEUR\",\"TITRE\",\"EDITEUR\",\"IMAGE\",\n",
    " \"IMAGE_URL\",\"ISBN\",\"RL_2022\",\"GENRE\"])\n",
    "\n",
    "{\"AUTEUR\": Mokhtar Amoudi, Les Conditions idéales, Gallimard},\n",
    "{\"AUTEUR\": Gaëlle Bélem, Le Fruit le plus rare, Gallimard},\n",
    "{\"AUTEUR\": Clément Camar-Mercier, Le Roman de Jeanne et Nathan, Actes sud},\n",
    "{\"AUTEUR\": Eric Chacour, Ce que je sais de toi, Philippe Rey},\n",
    "{\"AUTEUR\": Sorj Chalandon, L’Enragé, Grasset},\n",
    "{\"AUTEUR\": Nicolas Chemla, L’Abîme, Le Cherche-Midi},\n",
    "{\"AUTEUR\": Lionel Duroy, Mes pas dans leurs ombres, Mialet/Barrault},\n",
    "{\"AUTEUR\": Lilia Hassaine, Panorama, Gallimard},\n",
    "{\"AUTEUR\": Gaspard Koenig, Humus, L’Observatoire},\n",
    "{\"AUTEUR\": Jessica L. Nelson, L’Ombrageuse, Albin Michel}\n",
    "{\"AUTEUR\": Maria Pourchet, Western, Stock\n",
    "{\"AUTEUR\": Thomas B. Reverdy, Le Grand Secours, Flammarion}\n",
    "{\"AUTEUR\": Alexis Salatko, Jules et Jo, Denoël}\n",
    "{\"AUTEUR\": Ann Scott, Les Insolents, Calmann-Lévy}\n",
    "{\"AUTEUR\": Antoine Sénanque, Croix de cendre, Grasset}\n",
    "{\"AUTEUR\": Fred Vargas, Sur la dalle, Flammarion}\n",
    "\n",
    "rentree_litteraire_df"
   ]
  },
  {
   "cell_type": "markdown",
   "metadata": {
    "id": "AeCOIwykO8ky",
    "jp-MarkdownHeadingCollapsed": true
   },
   "source": [
    "## Autres"
   ]
  },
  {
   "cell_type": "code",
   "execution_count": null,
   "metadata": {
    "id": "a5HgpYmrO8ky"
   },
   "outputs": [],
   "source": [
    "import PyPDF2\n",
    "\n",
    "import pypdf\n",
    "\n",
    "import pdfplumber"
   ]
  },
  {
   "cell_type": "code",
   "execution_count": null,
   "metadata": {
    "id": "o1FnmzY-O8ky",
    "scrolled": true
   },
   "outputs": [],
   "source": [
    "from pdf2image import convert_from_path\n",
    "\n",
    "for img in convert_from_path(\"LH_RL_2023.pdf\", 300):\n",
    "    print(img)\n",
    "    txt = tool.image_to_string(img,\n",
    "                               lang=lang,\n",
    "                               builder=pyocr.builders.TextBuilder())\n",
    "\n",
    "\n"
   ]
  },
  {
   "cell_type": "code",
   "execution_count": null,
   "metadata": {
    "id": "OLkWsBOgO8ky"
   },
   "outputs": [],
   "source": [
    "brew install poppler"
   ]
  },
  {
   "cell_type": "code",
   "execution_count": null,
   "metadata": {
    "id": "8998Tmg7O8kz"
   },
   "outputs": [],
   "source": [
    "pdf_file = open('LH_RL_2023.pdf', 'rb')\n",
    "read_pdf = PyPDF2.PdfReader(pdf_file)"
   ]
  },
  {
   "cell_type": "code",
   "execution_count": null,
   "metadata": {
    "id": "ZCg53E4dO8kz"
   },
   "outputs": [],
   "source": [
    "page = reader.pages[0]\n",
    "page"
   ]
  },
  {
   "cell_type": "code",
   "execution_count": null,
   "metadata": {
    "id": "MZEiJW1VO8kz"
   },
   "outputs": [],
   "source": [
    "page = read_pdf.getPage(0)\n",
    "page_content = page.extractText()\n",
    "print(page_content.encode('utf-8'))"
   ]
  },
  {
   "cell_type": "code",
   "execution_count": null,
   "metadata": {
    "id": "03x3E8EoO8kz"
   },
   "outputs": [],
   "source": []
  },
  {
   "cell_type": "markdown",
   "metadata": {
    "id": "tmMsu7A_O8k0"
   },
   "source": [
    "---"
   ]
  },
  {
   "cell_type": "code",
   "execution_count": null,
   "metadata": {
    "id": "G7QFFFcvO8k1"
   },
   "outputs": [],
   "source": [
    "import spacy#.cli\n",
    "#spacy.cli.download(\"fr_core_news_md\")\n",
    "nlp = spacy.load(\"fr_core_news_md\")"
   ]
  },
  {
   "cell_type": "markdown",
   "metadata": {
    "id": "EVjjIiBeO8k1",
    "jp-MarkdownHeadingCollapsed": true
   },
   "source": [
    "## * ** ***Debut Tuto SpaCy*** ** *\n",
    "Cet objet nous informe de l’utilisation/qualification de chaque mot (pour plus de détails allez dans l’aide de SpaCy):\n",
    "\n",
    "    text: Le texte/mot original\n",
    "    lemma_: la forme de base du mot (pour un verbe conjugué par exemple on aura son infinitif)\n",
    "    pos_: Le tag part-of-speech (détail ici)\n",
    "    tag_: Les informations détaillées part-of-speech (détail ici)\n",
    "    dep_: Dépendance syntaxique (inter-token)\n",
    "    shape: format/pattern\n",
    "    is_alpha: Alphanumérique ?\n",
    "    is_stop: Le mot fait-il partie d’une Stop-List ?\n",
    "    etc."
   ]
  },
  {
   "cell_type": "code",
   "execution_count": null,
   "metadata": {
    "id": "EQrJV_6bO8k1"
   },
   "outputs": [],
   "source": [
    "doc = nlp('Demain je travaille à la maison')\n",
    "\n",
    "for token in doc:\n",
    "    print(\"{0}\\t{1}\\t{2}\\t{3}\\t{4}\\t{5}\\t{6}\\t{7}\\t{8}\".format(\n",
    "        token.text,\n",
    "        token.idx,\n",
    "        token.lemma_,\n",
    "        token.is_punct,\n",
    "        token.is_space,\n",
    "        token.shape_,\n",
    "        token.pos_,\n",
    "        token.tag_,\n",
    "        token.ent_type_\n",
    "    ))"
   ]
  },
  {
   "cell_type": "code",
   "execution_count": null,
   "metadata": {
    "id": "rCYvgKhDO8k1"
   },
   "outputs": [],
   "source": [
    "doc_p = nlp(\"Demain je travaille à la maison. Je vais pouvoir faire du NLP\")\n",
    "for sent in doc_p.sents:\n",
    "    print(sent)"
   ]
  },
  {
   "cell_type": "code",
   "execution_count": null,
   "metadata": {
    "id": "Lgc5JiFnO8k2"
   },
   "outputs": [],
   "source": [
    "doc_ner = nlp(\"Demain je travaille en France chez Tableau\")\n",
    "for ent in doc_ner.ents:\n",
    "    print(ent.text, ent.label_)"
   ]
  },
  {
   "cell_type": "code",
   "execution_count": null,
   "metadata": {
    "id": "bDXM1eGoO8k2"
   },
   "outputs": [],
   "source": [
    "from spacy import displacy\n",
    "displacy.render(doc, style='dep', jupyter=True, options={'distance': 130})"
   ]
  },
  {
   "cell_type": "markdown",
   "metadata": {
    "id": "mmzK6oq5O8k2",
    "jp-MarkdownHeadingCollapsed": true
   },
   "source": [
    "## Fin Tuto"
   ]
  },
  {
   "cell_type": "markdown",
   "metadata": {
    "id": "mPW1xUApO8k2",
    "jp-MarkdownHeadingCollapsed": true
   },
   "source": [
    "## 1) Extraction texte du fichier PDF"
   ]
  },
  {
   "cell_type": "code",
   "execution_count": null,
   "metadata": {
    "id": "5slXj1KZOdt1"
   },
   "outputs": [],
   "source": [
    "#from google.colab import drive\n",
    "#drive.mount('/content/drive')"
   ]
  },
  {
   "cell_type": "code",
   "execution_count": null,
   "metadata": {
    "id": "3vsBRkXZTxSa"
   },
   "outputs": [],
   "source": [
    "# pip install requests - > request for get the pdf\n",
    "# pip install BeautifulSoup - > for parse the html and find all url hrf with \".pdf\" final\n",
    "import PyPDF2\n",
    "\n",
    "import io\n",
    "import pdfreader\n",
    "from pdfreader import PDFDocument, SimplePDFViewer\n",
    "\n",
    "def extract_text_from_pdf(pdf_path):\n",
    "    text = \"\"\n",
    "    with open(pdf_path, \"rb\") as file:\n",
    "        reader = PyPDF2.PdfReader(file)\n",
    "        num_pages = len(reader.pages)\n",
    "        print(num_pages)\n",
    "\n",
    "        for page_number in [38,40,42,44, 46,48,50,52,53,54,56,57,58,60,61,\n",
    "                            62,63,64,65,66,67,68,69,70,71,72,73,74,75,76,77,78,79,80,\n",
    "                           81,82,83,84,85]:\n",
    "            page = reader.pages[page_number]\n",
    "            #text += page.extract_text()\n",
    "            pageObj = pdfReader.getPage(page)\n",
    "            print(pageObj.extractText().split('\\n'))\n",
    "\n",
    "    return text\n",
    "\n",
    "if __name__ == \"__main__\":\n",
    "    pdf_file_path = \"LH_RL_2023.pdf\"\n",
    "    extracted_text = extract_text_from_pdf(pdf_file_path)\n",
    "    print(extracted_text)"
   ]
  },
  {
   "cell_type": "code",
   "execution_count": null,
   "metadata": {
    "id": "oQ3XqlE3UABm",
    "scrolled": true
   },
   "outputs": [],
   "source": [
    "with open(\"LH_RL_2023.pdf\") as fp:\n",
    "    soup = BeautifulSoup(fp, 'html.parser')\n",
    "\n",
    "soup = BeautifulSoup(\"<html>a web page</html>\", 'html.parser')\n",
    "\n",
    "#soup.find(\"div\", {\"class\": \"percentage good\"}).get_text(strip=True)"
   ]
  },
  {
   "cell_type": "code",
   "execution_count": null,
   "metadata": {
    "id": "DNpunq3utIz6"
   },
   "outputs": [],
   "source": [
    "lste_lh=[]\n",
    "for page in [0,2,4,6,8,10,12,14,16,18,20,22,24,26,27,28,29,30,31,32,33,34,35,36,37,38,39,40,41,42,43,44,45,46,47,48,49,50,51,52,53,54,55]:\n",
    "  # creating a page object\n",
    "    print(page)\n",
    "    pageObj = pdfReader.getPage(page)\n",
    "    lste_lh.append(pageObj.extractText().split('\\n'))\n",
    "\n"
   ]
  },
  {
   "cell_type": "code",
   "execution_count": null,
   "metadata": {
    "id": "JyCwu_cksX59"
   },
   "outputs": [],
   "source": [
    "print(pageObj.extractText().split('\\n'))"
   ]
  },
  {
   "cell_type": "code",
   "execution_count": null,
   "metadata": {
    "id": "onEB2XBZrjGi"
   },
   "outputs": [],
   "source": [
    "#df_lh = pd.DataFrame(pageObj.extractText().split('\\n'))\n",
    "#df_lh[0].str.split(',', expand=True)"
   ]
  },
  {
   "cell_type": "code",
   "execution_count": null,
   "metadata": {
    "id": "caUF16bBQ6Qs"
   },
   "outputs": [],
   "source": [
    "df_lh = pd.DataFrame(lste_lh)"
   ]
  },
  {
   "cell_type": "code",
   "execution_count": null,
   "metadata": {
    "id": "H2keMpQEQ6Qt"
   },
   "outputs": [],
   "source": [
    "df_lh"
   ]
  },
  {
   "cell_type": "markdown",
   "metadata": {
    "id": "Tpa7LljOO8k4",
    "jp-MarkdownHeadingCollapsed": true
   },
   "source": [
    "## 2) Enrichissement fichier\n",
    "Au final, il m'a fallu retraité l'extraction car le scrapping n'a pas permis un rendu propre et ordonné.\n",
    "Je poursuis le nettoyage de données à l'aide de python pour ensuite passer à l'enrichissement des données."
   ]
  },
  {
   "cell_type": "markdown",
   "metadata": {
    "id": "OQUKVp3XO8k5"
   },
   "source": [
    "### Etape initiale où je nettoie les données"
   ]
  },
  {
   "cell_type": "code",
   "execution_count": null,
   "metadata": {
    "id": "amk7Gsk6O8k5",
    "scrolled": true
   },
   "outputs": [],
   "source": [
    "rl22=pd.read_csv(\"recap_page_20220801.csv\")\n",
    "rl22=rl22[['ISBN','TYPES', 'TITRE', 'AUTEUR*E','1ER ROMAN', 'EDITEUR', 'MOIS','ANNEE_PUBLICATION', 'PREFACE', 'TEXTE_AUTRES',\n",
    "       'ILLUSTRATIONS_PHOTO_IMAGES', 'OEUVRE ORIGINALE', 'Traduit de',\n",
    "       'Traduit par', 'RESUME','NB PAGES', 'FORMAT', 'RELIURE', 'PRIX INDICATIF', ]]\n",
    "## passer les prix au format float\n",
    "prix_to_replace=[\" €\",\"€\"]\n",
    "for tr in prix_to_replace:\n",
    "    rl22[\"PRIX INDICATIF\"] = rl22[\"PRIX INDICATIF\"].apply(lambda x : x.replace(tr,\"\"))\n",
    "    rl22[\"PRIX INDICATIF\"] = rl22[\"PRIX INDICATIF\"].apply(lambda x : x.replace(\",\",\".\"))\n",
    "rl22[\"PRIX INDICATIF\"] = rl22[\"PRIX INDICATIF\"].astype(\"float\")\n",
    "\n",
    "## passer les nb de pages au format int\n",
    "nc_to_replace=[\"NC\",\"nc\"]\n",
    "for nc in nc_to_replace:\n",
    "    rl22[\"NB PAGES\"]  = rl22[\"NB PAGES\"].apply(lambda x : x.replace(nc,\"\"))\n",
    "rl22[\"NB PAGES\"]  = rl22[\"NB PAGES\"].apply(lambda x : x.replace('2 vol. (380)',\"380\"))\n",
    "rl22[\"NB PAGES\"]  = rl22[\"NB PAGES\"].apply(lambda x : x.replace('144,0 €',\"144\"))\n",
    "rl22[\"NB PAGES\"] = [int(p) if len(p)>0 else 0 for p in rl22[\"NB PAGES\"]]\n",
    "\n",
    "rl22.head(3)"
   ]
  },
  {
   "cell_type": "markdown",
   "metadata": {
    "id": "AsW3EU4DO8k5",
    "tags": []
   },
   "source": [
    "### Etape où les données sont nettoyées.\n",
    "Ajout de la colonne GENRE fait sur Excel"
   ]
  },
  {
   "cell_type": "code",
   "execution_count": null,
   "metadata": {
    "id": "3v1WmLdHO8k5"
   },
   "outputs": [],
   "source": [
    "rl22=pd.read_csv(\"recap_page_20220825.csv\")\n",
    "#rl22=rl22[['ISBN','TYPES', 'TITRE', 'AUTEUR*E','1ER ROMAN', 'EDITEUR', 'MOIS','ANNEE_PUBLICATION', 'PREFACE', 'TEXTE_AUTRES',\n",
    "#       'ILLUSTRATIONS_PHOTO_IMAGES', 'OEUVRE ORIGINALE', 'Traduit de',\n",
    "#       'Traduit par', 'RESUME','NB PAGES', 'FORMAT', 'RELIURE', 'PRIX INDICATIF', ]]\n",
    "### passer les prix au format float\n",
    "prix_to_replace=[\" €\",\"€\"]\n",
    "for tr in prix_to_replace:\n",
    "#    rl22[\"PRIX INDICATIF\"] = rl22[\"PRIX INDICATIF\"].apply(lambda x : x.replace(tr,\"\"))\n",
    "    rl22[\"PRIX INDICATIF\"] = rl22[\"PRIX INDICATIF\"].apply(lambda x : x.replace(\",\",\".\"))\n",
    "rl22[\"PRIX INDICATIF\"] = rl22[\"PRIX INDICATIF\"].astype(\"float\")\n",
    "\n",
    "\n",
    "#colonne 1er roman : remplacer les NaN par des vides\n",
    "rl22[\"1ER ROMAN\"] = [\"NVX ROMAN\" if (pr!=\"PREMIER ROMAN\" and t!=\"Essais\") else pr for pr,t in zip(rl22[\"1ER ROMAN\"],rl22[\"TYPES\"])]\n",
    "#\n",
    "### passer les nb de pages au format int\n",
    "#nc_to_replace=[\"NC\",\"nc\"]\n",
    "#for nc in nc_to_replace:\n",
    "#    rl22[\"NB PAGES\"]  = rl22[\"NB PAGES\"].apply(lambda x : x.replace(nc,\"\"))\n",
    "#rl22[\"NB PAGES\"]  = rl22[\"NB PAGES\"].apply(lambda x : x.replace('2 vol. (380)',\"380\"))\n",
    "#rl22[\"NB PAGES\"]  = rl22[\"NB PAGES\"].apply(lambda x : x.replace('144,0 €',\"144\"))\n",
    "#rl22[\"NB PAGES\"] = [int(p) if len(p)>0 else 0 for p in rl22[\"NB PAGES\"]]\n",
    "#\n",
    "rl22.tail(3)"
   ]
  },
  {
   "cell_type": "code",
   "execution_count": null,
   "metadata": {
    "id": "tdnloei-O8k5"
   },
   "outputs": [],
   "source": [
    "rl22.info()"
   ]
  },
  {
   "cell_type": "markdown",
   "metadata": {
    "id": "1gCTFNtcO8k6"
   },
   "source": [
    "J'ai maintenant un fichier avec les colonnes suivantes :"
   ]
  },
  {
   "cell_type": "markdown",
   "metadata": {
    "id": "EyeaSmJXO8k6"
   },
   "source": [
    "| Nom colonne | type données | Description |\n",
    "|:--|:--|:--|\n",
    "|ISBN|INTEGER|ISBN de l'ouvrage <i>(peut servir d'id)</i>||\n",
    "|TYPES|SRTING|type de texte (essai, littérature française, littérature étrangère)|\n",
    "|complet|SRTING|description complète du titre <i>(non affiché dans le dataframe)</i>|\n",
    "|TITRE|SRTING|titre de l'ouvrage|\n",
    "|AUTEUR*E|SRTING|prénom, nom de l'auteur*e|\n",
    "|GENRE|SRTING|F femme, M pour homme, Mixte si collectif ou plusieurs noms facilement identifiable en termes de genre|\n",
    "|1ER ROMAN|SRTING|*PREMIER ROMAN* si c'est un premier roman, *vide* si un essai, sinon *NVX ROMAN*|\n",
    "|EDITEUR|SRTING|nom de la maison d'édition|\n",
    "|MOIS|SRTING|mois de parution|\n",
    "|ANNEE_PUBLICATION|INTEGER|année de publication <i>(ici 2022)</i>|\n",
    "|PREFACE|SRTING|rempli (nom du préfaceur) s'il y en a une, sinon vide|\n",
    "|TEXTE_AUTRES|SRTING|autres indications relatives à l'ouvrage (ex : textes présentés/sous la directino de/...)|\n",
    "|ILLUSTRATIONS_PHOTO_IMAGES|SRTING|rempli (nom du contributeur) si indiqué, sinon vide|\n",
    "|OEUVRE ORIGINALE|SRTING|rempli si indiqué, sinon vide|\n",
    "|Traduit de|SRTING|rempli (nom du contributeur) si indiqué, sinon VF|\n",
    "|Traduit par|SRTING|rempli (nom du contributeur) si indiqué, sinon \"-\"|\n",
    "|RESUME|SRTING|résumé de l'ouvrage|\n",
    "|NB PAGES|INTEGER|nb de pages indicatif de l'ouvrage|\n",
    "|FORMAT|SRTING|format indicatif de l'ouvrage (largeur x hauteur) en cm|\n",
    "|RELIURE|SRTING|type de reliure de l'ouvrage (broché, relié, coffret)|\n",
    "|PRIX INDICATIF|FLOAT|prix indicatif de l'ouvrage|"
   ]
  },
  {
   "cell_type": "code",
   "execution_count": null,
   "metadata": {
    "id": "cOeExaO-O8k6"
   },
   "outputs": [],
   "source": [
    "import plotly.graph_objects as go\n",
    "from plotly.subplots import make_subplots\n",
    "\n"
   ]
  },
  {
   "cell_type": "markdown",
   "metadata": {
    "id": "KV4o3LxwO8k6"
   },
   "source": [
    "#### Nombre d'ouvrages total"
   ]
  },
  {
   "cell_type": "code",
   "execution_count": null,
   "metadata": {
    "id": "6Pvg7OzDO8k7",
    "scrolled": true
   },
   "outputs": [],
   "source": [
    "#plt.bar(reliure_df.RELIURE,reliure_df.ISBN)\n",
    "#fig = px.bar(reliure_df, x=\"ISBN\",  orientation='h', color=\"RELIURE\")\n",
    "\n",
    "fig_nb_livre = go.Figure(go.Indicator(\n",
    "    mode = \"number\", #mode = \"number+delta\",\n",
    "    value = rl22.ISBN.count(),\n",
    "    number = {'font_color':'white','suffix': \"\"},\n",
    "    title = {'font_color':'white',\"text\": \"Rentrée littéraire 2022<br><span style='font-size:0.8em;color:white'>Nombre d'ouvrages total</span><br><span style='font-size:0.8em;color:gray'></span>\"},\n",
    "    #delta = {'position': \"top\", 'reference': 320},\n",
    "    domain = {'x': [0, 1], 'y': [0, 1]}))\n",
    "\n",
    "fig_nb_livre.update_layout(paper_bgcolor = \"white\",\n",
    "                 autosize=True, #width=250, height=250,\n",
    "                 images= [dict(\n",
    "                    source=\"https://images.unsplash.com/photo-1594312915251-48db9280c8f1?ixlib=rb-1.2.1&ixid=MnwxMjA3fDB8MHxwaG90by1wYWdlfHx8fGVufDB8fHx8&auto=format&fit=crop&w=2070&q=80\",\n",
    "                    xref=\"paper\", yref=\"paper\",\n",
    "                    x=1, y=0.3,\n",
    "                    sizex=1.5, sizey=1.5,\n",
    "                    xanchor=\"right\", #['right', 'center', 'left']\n",
    "                    yanchor=\"bottom\", #['top', 'middle', 'bottom']\n",
    "                    sizing=\"contain\", #['fill', 'contain', 'stretch']\n",
    "                    layer=\"below\")]) #['below', 'above'])\n",
    "\n",
    "fig_nb_livre.show()"
   ]
  },
  {
   "cell_type": "markdown",
   "metadata": {
    "id": "Y9c_j0eRO8k7"
   },
   "source": [
    "#### Analyse par types d'ouvrages"
   ]
  },
  {
   "cell_type": "code",
   "execution_count": null,
   "metadata": {
    "id": "XY8awI2zO8k7"
   },
   "outputs": [],
   "source": [
    "type_df = rl22[['ISBN',\"TYPES\"]].groupby(\"TYPES\").count().sort_values('ISBN', ascending=False).reset_index()\n",
    "type_df"
   ]
  },
  {
   "cell_type": "code",
   "execution_count": null,
   "metadata": {
    "id": "o05ImNMxO8k7"
   },
   "outputs": [],
   "source": [
    "fig = go.Figure()\n",
    "\n",
    "fig.add_trace(\n",
    "go.Indicator(\n",
    "    #mode = \"number\", #mode = \"number+delta\",\n",
    "    value = int(type_df.ISBN.loc[type_df.TYPES==\"Romans français\"]),\n",
    "    #number = {'suffix': \" ouvrages\"},\n",
    "    title = {\"text\": \"Romans français\"},#<br><span style='font-size:0.8em;color:gray'>Subtitle</span><br><span style='font-size:0.8em;color:gray'>Subsubtitle</span>\n",
    "    #delta = {'position': \"top\", 'reference': 320},\n",
    "    domain = {'row': 0, 'column': 0}))\n",
    "\n",
    "\n",
    "fig.add_trace(\n",
    "go.Indicator(\n",
    "    #mode = \"number\", #mode = \"number+delta\",\n",
    "    value = int(type_df.ISBN.loc[type_df.TYPES==\"Romans étrangers\"]),\n",
    "    #number = {'suffix': \" ouvrages\"},\n",
    "    title = {\"text\": \"Romans étrangers\"},#<br><span style='font-size:0.8em;color:gray'>Subtitle</span><br><span style='font-size:0.8em;color:gray'>Subsubtitle</span>\n",
    "    #delta = {'position': \"top\", 'reference': 320},\n",
    "    domain = {'row': 0, 'column': 1}))\n",
    "\n",
    "\n",
    "fig.add_trace(\n",
    "go.Indicator(\n",
    "    #mode = \"number\", #mode = \"number+delta\",\n",
    "    value = int(type_df.ISBN.loc[type_df.TYPES==\"Essais\"]),\n",
    "    #number = {'suffix': \" ouvrages\"},\n",
    "    title = {\"text\": \"Essais\"},#<br><span style='font-size:0.8em;color:gray'>Subtitle</span><br><span style='font-size:0.8em;color:gray'>Subsubtitle</span>\n",
    "    #delta = {'position': \"top\", 'reference': 320},\n",
    "    domain = {'row': 0, 'column': 2}))\n",
    "\n",
    "fig.update_layout(\n",
    "    grid = {'rows': 1, 'columns': 3, 'pattern': \"independent\"},\n",
    "    template = {'data' : {'indicator': [{\n",
    "                'mode' : \"number\",\n",
    "                #'number': {'suffix': \" ouvrages\"}\n",
    "    }]\n",
    "                         }},\n",
    "                 autosize=True)\n",
    "\n",
    "\n",
    "\n",
    "#fig = go.Figure(go.Indicator(\n",
    "#    mode = \"number\", #mode = \"number+delta\",\n",
    "#    value = reliure_df.ISBN.sum(),\n",
    "#    number = {'suffix': \" ouvrages\"},\n",
    "#    title = {\"text\": \"Relié<br><span style='font-size:0.8em;color:gray'>Subtitle</span><br><span style='font-size:0.8em;color:gray'>Subsubtitle</span>\"},\n",
    "#    #delta = {'position': \"top\", 'reference': 320},\n",
    "#    domain = {'x': [0, 1], 'y': [0, 1]}))\n",
    "#\n",
    "#fig.update_layout(paper_bgcolor = \"pink\")\n",
    "\n",
    "fig.show()"
   ]
  },
  {
   "cell_type": "code",
   "execution_count": null,
   "metadata": {
    "id": "cs1UC4hBO8k7"
   },
   "outputs": [],
   "source": [
    "# create data - Nb de dossier par nombre de retard\n",
    "size_of_groups=type_df['ISBN']\n",
    "names=[t for t in type_df.TYPES]\n",
    "\n",
    "# Create a pieplot\n",
    "plt.pie(size_of_groups, colors=['darkcyan','palevioletred','darkorange'],autopct='%1.1f%%',pctdistance=0.85) #labels=names,\n",
    "\n",
    "# add a circle at the center to transform it in a donut chart\n",
    "my_circle=plt.Circle( (0,0), 0.5, color='white')\n",
    "\n",
    "# Adding Title of chart\n",
    "plt.title('Nb de livres par type d\\'ouvrages \\n (565 livres)')\n",
    "\n",
    "# Add Legends\n",
    "plt.legend(names, loc=\"lower right\", title=\"Nb de causes de retard \\n pour un dossier\", bbox_to_anchor=(1.7, 0.4))\n",
    "\n",
    "p=plt.gcf()\n",
    "p.gca().add_artist(my_circle)\n",
    "\n",
    "plt.show()"
   ]
  },
  {
   "cell_type": "markdown",
   "metadata": {
    "id": "0y07y9HuO8k8"
   },
   "source": [
    "#### Nombre de pages & Prix indicatif"
   ]
  },
  {
   "cell_type": "markdown",
   "metadata": {
    "id": "EugFhAPAO8k8"
   },
   "source": [
    "Je regarde les statistiques classiques pour les variables numériques que sont le nb de pages et le prix indicatif."
   ]
  },
  {
   "cell_type": "code",
   "execution_count": null,
   "metadata": {
    "id": "q_GmDBcnO8k8"
   },
   "outputs": [],
   "source": [
    "rl22[\"NB PAGES\"].value_counts().sort_index(ascending=True)"
   ]
  },
  {
   "cell_type": "code",
   "execution_count": null,
   "metadata": {
    "id": "UgsEs9q_O8k9"
   },
   "outputs": [],
   "source": [
    "rl22[['NB PAGES','PRIX INDICATIF']].describe()"
   ]
  },
  {
   "cell_type": "markdown",
   "metadata": {
    "id": "LTaeXHB7O8k9"
   },
   "source": [
    "#### nb pages :\n",
    "<pre><code>rl22[\"NB PAGES\"].value_counts().sort_index(ascending=True)</code></pre>\n",
    "\n",
    "|nb de pages|nb d'ouvrages|\n",
    "|:--|:-:|\n",
    "|0|165|\n",
    "|48|3|\n",
    "|52|1|\n",
    "|65|1|\n",
    "|80|1|\n",
    "|...|...|\n",
    "|650|1|\n",
    "|700|1|\n",
    "|736|1|\n",
    "|750|2|\n",
    "|876|1|\n",
    "\n",
    "- le nb de pages moyen est de 192. 13 livres ont exactement ce nb de pages.\n",
    "<pre><code>rl22.loc[rl22[\"NB PAGES\"]==192]</code></pre>\n",
    "\n",
    "|ISBN|TYPES|TITRE|AUTEUR*E|EDITEUR|\n",
    "|:--|:--|:--|:--|:--|\n",
    "|9782380822496|Essais|Tout garder|Carole Allamand|ANNE CARRIÈRE|\n",
    "|9782413042938|Romans étrangers|Au-delà|Julia Alvarez|LA CROISÉE|\n",
    "|9782383611257|Romans étrangers|Pourquoi tu revenais tous les étés ?|Belén Lopez Peiro|GLOBE|\n",
    "|9782493213143|Romans étrangers|Ca n’arrive qu’aux autres|Bettina Wilpert|NOUVEL ATTILA|\n",
    "|9782330169237|Romans français|Moi en plus beau|Guillaume Le Touze|ACTES SUD|\n",
    "|9782365331159|Romans français|La fugue Thérémine|Emmanuel Villin|ASPHALTE|\n",
    "|9782714497918|Romans français|Les chairs impatientes|Marion Roucheux|BELFOND|\n",
    "|9782490251650|Romans français|Une saison avec Luce|Henri Raczymow|CANOË|\n",
    "|9782490251667|Romans français|Je suis né comme un mourant|Didier Dumont|CANOË|\n",
    "|9782359841572|Romans français|Le netsuke|Thomas Lavachery|ESPERLUÈTE|\n",
    "|9782080239204|Romans français|L’homme qui danse|Victor Jestin|FLAMMARION|\n",
    "|9782882507488|Romans français|La nuit des pères|Gaëlle Josse|NOIR SUR BLANC|\n",
    "|9782268106724|Romans français|À l’ombre de la cité Rimbaud|Halimata Fofana|ÉDITIONS DU ROCHER|\n",
    "\n",
    "\n",
    "- J'ai 165 titres sans nb de pages indiqués. Pour l'instant, ils sont mis à 0. Je complèterais éventuellement par la suite.\n",
    "- les titres les plus court font 48 pages. Il s'agit de 3 essais :\n",
    "<pre><code>rl22.loc[rl22[\"NB PAGES\"]==48]</code></pre>\n",
    "\n",
    "|ISBN|TYPES|TITRE|AUTEUR*E|EDITEUR|\n",
    "|:--|:--|:--|:--|:--|\n",
    "|9782917504611|Essais|C’est la faute à Démosthène|Dominique Grandmont|BARQUE|\n",
    "|9782371583054|Essais|Journal|Michel Magnol|ONDE|\n",
    "|9782492352089|Essais|Grammaire pour cesser d’exister|Amélie Durand|LE SABOT|\n",
    "\n",
    "- ***Le cœur ne cède pas*** est l'ouvrage le plus long de cette rentrée littéraire, il contient 876 pages :\n",
    "\n",
    "|ISBN|TYPES|TITRE|AUTEUR*E|EDITEUR|\n",
    "|:--|:--|:--|:--|:--|\n",
    "|9782080247377 |Romans français|Le cœur ne cède pas|Grégoire Bouillier|FLAMMARION|\n",
    "\n",
    "#### prix :\n",
    "- Le prix moyen d'un livre de la rentrée est de 19,2€\n",
    "- J'ai repéré un titre dont le prix minimal est de 2€. En fait il s'agit d'un essai qui paraïtra dans la collection Folio, dont le prix minimal peut être de 2€ donc ce n'est pas une erreur.\n",
    "<pre><code>rl22.loc[rl22[\"PRIX INDICATIF\"]==rl22[\"PRIX INDICATIF\"].min()]</code></pre>\n",
    "\n",
    "|ISBN|TYPES|TITRE|AUTEUR*E|EDITEUR|\n",
    "|:--|:--|:--|:--|:--|\n",
    "|9782072885990|Essais|Petit éloge de la Belgique|Grégoire Polet|GALLIMARD|\n",
    "\n",
    "![](https://www.gallimard.fr/var/storage/images/product/fd6/product_9782072885990_195x320.jpg)<br>\n",
    "\n",
    "- Il vous faudra débourser 55€ pour obtenir le livre le plus cher.\n",
    "<pre><code>rl22.loc[rl22[\"PRIX INDICATIF\"]==rl22[\"PRIX INDICATIF\"].min()]</code></pre>\n",
    "\n",
    "|ISBN|TYPES|TITRE|AUTEUR*E|EDITEUR|\n",
    "|:--|:--|:--|:--|:--|\n",
    "|9782252046869|Essais|Œuvres et inédits : édition critique intégrale. 19, Sur le concept d’histoire|Walter Benjamin|KLINCKSIECK|\n",
    "\n",
    "- Fun fact:\n",
    "Il vous faudrait 10855.6€ pour acquérir la totalité des livres de la Rentrée Littéraire.\n",
    "<pre><code>rl22[\"PRIX INDICATIF\"].sum()</code></pre>"
   ]
  },
  {
   "cell_type": "code",
   "execution_count": null,
   "metadata": {
    "id": "HPHlfC5AO8k9"
   },
   "outputs": [],
   "source": [
    "fig_pages = go.Figure(go.Indicator(\n",
    "    mode = \"number\", #mode = \"number+delta\",\n",
    "    value = rl22[\"NB PAGES\"].sum(),\n",
    "    number = {'suffix': \"Pages\"},\n",
    "    title = {\"text\": \"Fun fact :<br><span style='font-size:0.8em;color:gray;'>pour acquérir la totalité des livres de la Rentrée Littéraire</span><br><span style='font-size:0.8em;color:gray'> il vous faudra débourser</span>\"},\n",
    "    #delta = {'position': \"top\", 'reference': 320},\n",
    "    domain = {'x': [0, 1], 'y': [0, 1]}))\n",
    "\n",
    "fig_pages.update_layout(paper_bgcolor = \"white\",\n",
    "                 autosize=False, width=550, height=250)\n",
    "fig_pages.show()"
   ]
  },
  {
   "cell_type": "code",
   "execution_count": null,
   "metadata": {
    "id": "YexcsZVsO8k9"
   },
   "outputs": [],
   "source": [
    "fig_pages = go.Figure(go.Indicator(\n",
    "    mode = \"number\", #mode = \"number+delta\",\n",
    "    value = rl22[\"NB PAGES\"].mean(),\n",
    "    number = {'suffix': \"Pages\"},\n",
    "    title = {\"text\": \"Fun fact :<br><span style='font-size:0.8em;color:gray'>pour acquérir la totalité des livres de la Rentrée Littéraire</span><br><span style='font-size:0.8em;color:gray'> il vous faudra débourser</span>\"},\n",
    "    #delta = {'position': \"top\", 'reference': 320},\n",
    "    domain = {'x': [0, 1], 'y': [0, 1]}))\n",
    "\n",
    "fig_pages.update_layout(paper_bgcolor = \"white\",\n",
    "                 autosize=False, width=550, height=250)\n",
    "fig_pages.show()"
   ]
  },
  {
   "cell_type": "code",
   "execution_count": null,
   "metadata": {
    "id": "Ke-2aHGLO8k-"
   },
   "outputs": [],
   "source": [
    "fig_prix = go.Figure(go.Indicator(\n",
    "    mode = \"number\", #mode = \"number+delta\",\n",
    "    value = rl22[\"PRIX INDICATIF\"].sum(),\n",
    "    number = {'suffix': \"€\"},\n",
    "    title = {\"text\": \"Fun fact :<br><span style='font-size:0.8em;color:gray'>pour acquérir la totalité des livres de la Rentrée Littéraire</span><br><span style='font-size:0.8em;color:gray'> il vous faudra débourser</span>\"},\n",
    "    #delta = {'position': \"top\", 'reference': 320},\n",
    "    domain = {'x': [0, 1], 'y': [0, 1]}))\n",
    "\n",
    "fig_prix.update_layout(paper_bgcolor = \"white\",\n",
    "                 autosize=False, width=550, height=250)\n",
    "fig_prix.show()"
   ]
  },
  {
   "cell_type": "markdown",
   "metadata": {
    "id": "_JXNwi3dO8k-"
   },
   "source": [
    "**Graph : Répartition des prix**"
   ]
  },
  {
   "cell_type": "code",
   "execution_count": null,
   "metadata": {
    "id": "mp4vvXfHO8k-"
   },
   "outputs": [],
   "source": [
    "import plotly.express as px\n",
    "\n",
    "fig_hist_prix = px.histogram(rl22, x=\"PRIX INDICATIF\",\n",
    "                   title='Répartition par prix',\n",
    "                   labels={'ISBN':'NB OUVRAGES'},\n",
    "                   histnorm='')\n",
    "\n",
    "\n",
    "fig_hist_prix.show()"
   ]
  },
  {
   "cell_type": "code",
   "execution_count": null,
   "metadata": {
    "id": "yFhnVUu8O8k_"
   },
   "outputs": [],
   "source": [
    "import plotly.express as px\n",
    "\n",
    "fig_prix_type = px.histogram(rl22, x=\"PRIX INDICATIF\",\n",
    "                   title=\"Répartition par prix par Type\",\n",
    "                   labels={'ISBN':'NB OUVRAGES'},\n",
    "                   histnorm='',\n",
    "                  color='TYPES',\n",
    "                  marginal=\"violin\") # can be `box`, `violin`,'rug', hover_data=rl22.columns)\n",
    "\n",
    "\n",
    "fig_prix_type.show()"
   ]
  },
  {
   "cell_type": "code",
   "execution_count": null,
   "metadata": {
    "id": "HyvCg3FeO8k_"
   },
   "outputs": [],
   "source": [
    "import plotly.express as px\n",
    "\n",
    "fig_prix_prem_rom = px.histogram(rl22, x=\"PRIX INDICATIF\",\n",
    "                   title='Répartition par prix',\n",
    "                   labels={'ISBN':'NB OUVRAGES'},\n",
    "                   histnorm='percent',\n",
    "                  color='TYPES',\n",
    "                  pattern_shape=\"1ER ROMAN\")\n",
    "\n",
    "\n",
    "fig_prix_prem_rom.show()"
   ]
  },
  {
   "cell_type": "code",
   "execution_count": null,
   "metadata": {
    "id": "sKYzHVhJO8k_"
   },
   "outputs": [],
   "source": [
    "import seaborn as sns\n",
    "sns.distplot(rl22[\"PRIX INDICATIF\"], kde=False, color='red', bins=30)\n",
    "plt.title('Répartition prix indicatif', fontsize=18)\n",
    "plt.xlabel('prix indicatif', fontsize=14)\n",
    "plt.ylabel('nb de livres', fontsize=14)"
   ]
  },
  {
   "cell_type": "code",
   "execution_count": null,
   "metadata": {
    "id": "KCe_tuBLO8k_"
   },
   "outputs": [],
   "source": [
    "prix_max = rl22.loc[rl22[\"PRIX INDICATIF\"]==rl22[\"PRIX INDICATIF\"].max()]\n",
    "prix_max"
   ]
  },
  {
   "cell_type": "code",
   "execution_count": null,
   "metadata": {
    "id": "L2kopm-6O8k_"
   },
   "outputs": [],
   "source": [
    "nb_pages = rl22[['NB PAGES',\"PRIX INDICATIF\",\"TYPES\",\"ISBN\"]].groupby(['NB PAGES',\"PRIX INDICATIF\",\"TYPES\"]).count().sort_values('NB PAGES', ascending=False).reset_index()\n",
    "#pd.DataFrame(rl22[\"NB PAGES\"].value_counts().sort_index(ascending=True))\n",
    "nb_pages"
   ]
  },
  {
   "cell_type": "code",
   "execution_count": null,
   "metadata": {
    "id": "Ms7tD7V2O8lA"
   },
   "outputs": [],
   "source": [
    "fig_prix_page = px.scatter(nb_pages, x='PRIX INDICATIF', y='NB PAGES',size='ISBN',\n",
    "                 color='TYPES', log_x=True, size_max=60,color_discrete_sequence=px.colors.qualitative.Alphabet)\n",
    "fig_prix_page.show()"
   ]
  },
  {
   "cell_type": "code",
   "execution_count": null,
   "metadata": {
    "id": "h42lJRPYO8lA"
   },
   "outputs": [],
   "source": [
    "#import requests\n",
    "#from ipywidgets import Image\n",
    "#\n",
    "#Image(value=requests.get('https://octodex.github.com/images/yaktocat.png').content)\n",
    "#"
   ]
  },
  {
   "cell_type": "markdown",
   "metadata": {
    "id": "TAEdwdQDO8lB"
   },
   "source": [
    "#### Les premiers romans en question"
   ]
  },
  {
   "cell_type": "code",
   "execution_count": null,
   "metadata": {
    "id": "Lfwgk8H7O8lB"
   },
   "outputs": [],
   "source": [
    "prem_rom = rl22[['ISBN',\"1ER ROMAN\"]].groupby([\"1ER ROMAN\"]).count()\n",
    "prem_rom"
   ]
  },
  {
   "cell_type": "code",
   "execution_count": null,
   "metadata": {
    "id": "DuPwI-LvO8lB"
   },
   "outputs": [],
   "source": [
    "prem_rom_graph = rl22[['ISBN',\"1ER ROMAN\"]].groupby([\"1ER ROMAN\"]).count().reset_index()\n",
    "fig_prem_rom = px.pie(values=prem_rom_graph.ISBN, names=prem_rom_graph['1ER ROMAN'],\n",
    "                      hole=0.3,\n",
    "                     color_discrete_sequence=px.colors.sequential.Rainbow)\n",
    "\n",
    "fig_prem_rom.update_layout(\n",
    "                paper_bgcolor = \"white\",\n",
    "                autosize=False, width=550, height=250,\n",
    "                title = {\"text\": \"FUN FACT : <br><span style='font-size:0.8em;color:gray'>21% des ouvrages sont des 1er Romans</span><br><span style='font-size:0.8em;color:gray'></span>\"},\n",
    "         )\n",
    "fig_prem_rom.show()"
   ]
  },
  {
   "cell_type": "code",
   "execution_count": null,
   "metadata": {
    "id": "rYEhJCqxO8lB"
   },
   "outputs": [],
   "source": [
    "prem_rom_type = rl22[['ISBN',\"TYPES\",\"1ER ROMAN\"]].groupby([\"TYPES\",\"1ER ROMAN\"]).count().sort_values('ISBN', ascending=False).reset_index().set_index('TYPES')\n",
    "prem_rom_type"
   ]
  },
  {
   "cell_type": "code",
   "execution_count": null,
   "metadata": {
    "id": "whtKAfQcO8lC"
   },
   "outputs": [],
   "source": [
    "fig_prem_rom_type = px.bar(prem_rom_type, x=\"ISBN\", y=\"1ER ROMAN\", orientation='h', color=prem_rom_type.index,hover_data=['ISBN'],\n",
    "                          title='1er roman vs Nouveau roman')\n",
    "fig_prem_rom_type.show()"
   ]
  },
  {
   "cell_type": "markdown",
   "metadata": {
    "id": "VF1bP3_mO8lC"
   },
   "source": [
    "#### Analyse par types de reliure"
   ]
  },
  {
   "cell_type": "code",
   "execution_count": null,
   "metadata": {
    "id": "w_1MjxLqO8lD"
   },
   "outputs": [],
   "source": [
    "reliure_df = rl22[['ISBN',\"RELIURE\"]].groupby(\"RELIURE\").count().sort_values('ISBN', ascending=False).reset_index()\n",
    "reliure_df"
   ]
  },
  {
   "cell_type": "code",
   "execution_count": null,
   "metadata": {
    "id": "C6-VkxJFO8lD"
   },
   "outputs": [],
   "source": [
    "# create data - Nb de dossier par nombre de retard\n",
    "size_of_groups=reliure_df['ISBN']\n",
    "names=[t for t in reliure_df.RELIURE]\n",
    "\n",
    "# Create a pieplot\n",
    "plt.pie(size_of_groups, colors=['darkcyan','palevioletred','darkorange'],autopct='%1.1f%%',pctdistance=0.85) #labels=names,\n",
    "\n",
    "# add a circle at the center to transform it in a donut chart\n",
    "my_circle=plt.Circle( (0,0), 0.0, color='white')\n",
    "\n",
    "# Adding Title of chart\n",
    "plt.title('Nb de livres par type d\\'ouvrages \\n (565 livres)')\n",
    "\n",
    "# Add Legends\n",
    "plt.legend(names, loc=\"lower right\", title=\"Nb de causes de retard \\n pour un dossier\", bbox_to_anchor=(1.7, 0.4))\n",
    "\n",
    "p=plt.gcf()\n",
    "p.gca().add_artist(my_circle)\n",
    "\n",
    "plt.show()"
   ]
  },
  {
   "cell_type": "markdown",
   "metadata": {
    "id": "2wrjuSXGO8lE"
   },
   "source": [
    "Overview\n",
    "\n",
    "In this tutorial we introduce a new trace named \"Indicator\". The purpose of \"indicator\" is to visualize a single value specified by the \"value\" attribute. Three distinct visual elements are available to represent that value: number, delta and gauge. Any combination of them can be specified via the \"mode\" attribute. Top-level attributes are:\n",
    "\n",
    "    value: the value to visualize\n",
    "    mode: which visual elements to draw\n",
    "    align: how to align number and delta (left, center, right)\n",
    "    domain: the extent of the figure\n",
    "\n",
    "Then we can configure the 3 different visual elements via their respective container:\n",
    "\n",
    "    number is simply a representation of the number in text. It has attributes:\n",
    "    valueformat: to format the number\n",
    "    prefix: a string before the number\n",
    "    suffix: a string after the number\n",
    "    font.(family|size): to control the font\n",
    "\n",
    "\"delta\" simply displays the difference between the value with respect to a reference. It has attributes:\n",
    "\n",
    "    reference: the number to compare the value with\n",
    "    relative: whether that difference is absolute or relative\n",
    "    valueformat: to format the delta\n",
    "    (increasing|decreasing).color: color to be used for positive or decreasing delta\n",
    "    (increasing|decreasing).symbol: symbol displayed on the left of the delta\n",
    "    font.(family|size): to control the font\n",
    "    position: position relative to νmber\n",
    "\n",
    "(either top, left, bottom, right)\n",
    "prefix: a string to appear before the delta\n",
    "suffix: a string to appear after the delta"
   ]
  },
  {
   "cell_type": "code",
   "execution_count": null,
   "metadata": {
    "id": "Mq4d4dY4O8lE"
   },
   "outputs": [],
   "source": [
    "reliure_df"
   ]
  },
  {
   "cell_type": "markdown",
   "metadata": {
    "id": "M2gaDXSQO8lE"
   },
   "source": [
    "#### Analyse par éditeurs"
   ]
  },
  {
   "cell_type": "code",
   "execution_count": null,
   "metadata": {
    "id": "Mmm_eQnSO8lE"
   },
   "outputs": [],
   "source": [
    "editeur = rl22[['ISBN',\"EDITEUR\"]].groupby([\"EDITEUR\"]).count().sort_values('ISBN',ascending=False)\n",
    "editeur"
   ]
  },
  {
   "cell_type": "code",
   "execution_count": null,
   "metadata": {
    "id": "lA-jhIBwO8lF"
   },
   "outputs": [],
   "source": [
    "editeur_type = rl22[['ISBN',\"TYPES\",\"EDITEUR\"]].groupby([\"TYPES\",\"EDITEUR\"]).count().pivot_table(values='ISBN', index=['EDITEUR'],columns=['TYPES'], aggfunc=np.sum).sort_values('Romans français',ascending=False).reset_index()\n",
    "editeur_type"
   ]
  },
  {
   "cell_type": "markdown",
   "metadata": {
    "id": "PTNMPQZfO8lG"
   },
   "source": [
    "#### Analyse par genre"
   ]
  },
  {
   "cell_type": "code",
   "execution_count": null,
   "metadata": {
    "id": "YAAUfTC7O8lG"
   },
   "outputs": [],
   "source": [
    "genre = rl22[['ISBN',\"TYPES\",\"GENRE\"]].groupby([\"GENRE\"]).count().sort_values('ISBN',ascending=False).reset_index()\n",
    "genre"
   ]
  },
  {
   "cell_type": "code",
   "execution_count": null,
   "metadata": {
    "id": "TNhoe7UtO8lG"
   },
   "outputs": [],
   "source": [
    "genre_type = rl22[['ISBN',\"TYPES\",\"GENRE\"]].groupby([\"GENRE\",\"TYPES\"]).count().sort_values('ISBN',ascending=False).reset_index().pivot_table(values='ISBN', index=['GENRE'],columns=['TYPES'], aggfunc=np.sum).reset_index()\n",
    "genre_type"
   ]
  },
  {
   "cell_type": "markdown",
   "metadata": {
    "id": "CYwCHnS8O8lG"
   },
   "source": [
    "**Traduction** :\n",
    "On dénombre 154 traduction dont 145 en littérature étrangère.<br>\n",
    "78 sont en anglais (américain, anglais - uk/irlande/Ecosse/Ile Maurice)\n",
    "<pre><code> traduction[['ISBN',\"split\"]].loc[(traduction[\"split\"]!='nc')&(traduction[\"Traduit de\"]!='VF')&(traduction[\"TYPES\"]=='Romans étrangers')].groupby(\"split\").count().sort_values('ISBN',ascending=False)</pre></code>\n",
    "\n",
    "|split|ISBN|\n",
    "|:--|:--|\n",
    "|Américain|49|\n",
    "|Anglais|29|\n",
    "|Espagnol|12|\n",
    "|Italien|10|\n",
    "|Allemand|9|\n",
    "|Suédois|5|\n",
    "|Portugais|4|\n",
    "|Japonais|3|\n",
    "|Russe|3|\n",
    "|Norvégien|2|\n",
    "|Persan|2|\n",
    "|Chinois|2|\n",
    "|Arabe|1|\n",
    "|Italien|1|\n",
    "|Croate|1|\n",
    "|Macédonien|1|\n",
    "|Hébreu|1|\n",
    "|Néerlandais|1|\n",
    "|Hongrois|1|\n",
    "|Polonais|1|\n",
    "|Hollandais|1|\n",
    "|Grec|1|\n",
    "|Catalan|1|\n",
    "|Turc|1|\n",
    "\n",
    "traduction.ISBN.sum()"
   ]
  },
  {
   "cell_type": "code",
   "execution_count": null,
   "metadata": {
    "id": "FvZbcxVZO8lG"
   },
   "outputs": [],
   "source": [
    "traduction=rl22[['ISBN',\"TYPES\",\"Traduit de\"]]\n",
    "traduction['split']=[x.split(' (')[0] for x in traduction[\"Traduit de\"]]\n",
    "traduction_gp = traduction[['ISBN',\"split\"]].loc[(traduction[\"split\"]!='nc')&(traduction[\"Traduit de\"]!='VF')&(traduction[\"TYPES\"]=='Romans étrangers')].groupby(\"split\").count().sort_values('ISBN',ascending=False)\n",
    "traduction_gp\n"
   ]
  },
  {
   "cell_type": "code",
   "execution_count": null,
   "metadata": {
    "id": "13YtRfLXO8lH"
   },
   "outputs": [],
   "source": [
    "# Import the required library\n",
    "from geopy.geocoders import Nominatim\n",
    "\n",
    "# Initialize Nominatim API\n",
    "geolocator = Nominatim(user_agent=\"MyApp\")\n",
    "\n",
    "##location = geolocator.geocode(\"england\")\n",
    "#\n",
    "#print(\"The latitude of the location is: \", location.latitude)\n",
    "#print(\"The longitude of the location is: \", location.longitude)\n",
    "#\n",
    "#traduction['lat']=[geolocator.geocode(countries_dict[t]).latitude for t in traduction['Traduit de']]\n",
    "#traduction['lon']=[geolocator.geocode(countries_dict[t]).longitude for t in traduction['Traduit de']]\n",
    "#"
   ]
  },
  {
   "cell_type": "code",
   "execution_count": null,
   "metadata": {
    "id": "cpeSM-jFO8lH"
   },
   "outputs": [],
   "source": [
    "countries_dict = {\"Américain\":\"usa\",\n",
    "\"Anglais\":\"england\",\n",
    "\"Italien\":\"italia\",\n",
    "\"Italien \":\"italia\",\n",
    "\"Espagnol\":\"spain\",\n",
    "\"Allemand\":\"germany\",\n",
    "\"Suédois\":\"sweden\",\n",
    "\"Anglais (Irlande)\":\"ireland\",\n",
    "\"Portugais\":\"portugal\",\n",
    "\"Russe\":\"russia\",\n",
    "\"Japonais\":\"japan\",\n",
    "\"Chinois\":\"china\",\n",
    "\"Norvégien\":\"norway\",\n",
    "\"Persan\":\"iran\",\n",
    "\"Polonais \":\"Poland\",\n",
    "\"Polonais\":\"Poland\",\n",
    "\"Hébreu\":\"israel\",\n",
    "\"Néerlandais (Pays-Bas) \":\"nederlands\",\n",
    "\"Macédonien\":\"macedonia\",\n",
    "\"Grec\":\"greece\",\n",
    "\"Hongrois\":\"hungary\",\n",
    "\"Hollandais\":\"nederlands\",\n",
    "\"Allemand (Autriche)\":\"austria\",\n",
    "\"Espagnol (Cuba)\":\"cuba\",\n",
    "\"Espagnol (Colombie)\":\"colombia\",\n",
    "\"Espagnol (Argentine)\":\"argentina\",\n",
    "\"Croate\":\"croatia\",\n",
    "\"Catalan\":\"spain\",\n",
    "\"Arabe (Soudan)\":\"sudan\",\n",
    "\"Anglais (pays de Galles)\":\"wales\",\n",
    "\"Anglais (Ile Maurice)\":\"mauritius\",\n",
    "\"Créole mauricien\":\"mauritius\",\n",
    "\"Anglais (Ecosse)\":\"Scotland\",\n",
    "\"Turc\":\"turkey\",\n",
    "\"VF\":\"france\" }\n",
    "\n",
    "countries_df = pd.DataFrame.from_dict(countries_dict,orient='index',columns=['pays']).reset_index()\n",
    "countries_df = countries_df.rename(columns={'index':'langue'})\n",
    "countries_df['lat']=[geolocator.geocode(t).latitude for t in countries_df['pays']]\n",
    "countries_df['lon']=[geolocator.geocode(t).longitude for t in countries_df['pays']]\n"
   ]
  },
  {
   "cell_type": "code",
   "execution_count": null,
   "metadata": {
    "id": "9iBq4yQnO8lH"
   },
   "outputs": [],
   "source": [
    "traduction['pays']=[countries_dict[t] if t!='nc' else 'nc' for t in traduction['Traduit de']]\n",
    "traduction['lat']=[countries_df[['lat']].loc[(countries_df.langue==l)&(countries_df.pays==p)].values[0][0] if l!='nc' and p!='nc' else \"-\" for l,p in zip(traduction['Traduit de'],traduction['pays'])]\n",
    "traduction['lon']=[countries_df[['lon']].loc[(countries_df.langue==l)&(countries_df.pays==p)].values[0][0] if l!='nc' and p!='nc' else \"-\" for l,p in zip(traduction['Traduit de'],traduction['pays'])]\n"
   ]
  },
  {
   "cell_type": "code",
   "execution_count": null,
   "metadata": {
    "id": "2A-iulTvO8lH"
   },
   "outputs": [],
   "source": [
    "traduction"
   ]
  },
  {
   "cell_type": "code",
   "execution_count": null,
   "metadata": {
    "id": "IaGUtqWPO8lI"
   },
   "outputs": [],
   "source": [
    "traduction_gp = traduction[[\"ISBN\",\"pays\",\"lat\",\"lon\"]].loc[(traduction[\"Traduit de\"]!='nc')&(traduction[\"Traduit de\"]!='VF')&(traduction[\"TYPES\"]=='Romans étrangers')].groupby([\"pays\",\"lat\",\"lon\"]).count().sort_values('ISBN',ascending=False).reset_index()\n",
    "traduction_gp.pays = traduction_gp.pays.apply(lambda x : x.capitalize())\n",
    "traduction_gp"
   ]
  },
  {
   "cell_type": "markdown",
   "metadata": {
    "id": "vUWeIorWO8lI"
   },
   "source": [
    "Grap map langue traduite"
   ]
  },
  {
   "cell_type": "code",
   "execution_count": null,
   "metadata": {
    "id": "pWpz2HD4O8lI"
   },
   "outputs": [],
   "source": [
    "# import the library\n",
    "import folium\n",
    "\n",
    "# Make an empty map\n",
    "m = folium.Map(location=[20,0], tiles=\"OpenStreetMap\", zoom_start=2)\n",
    "\n",
    "# Show the map\n",
    "#m\n",
    "\n",
    "def color(elev):\n",
    "    if elev in range(0,10):\n",
    "        col = 'blue'\n",
    "    elif elev in range(10,16):\n",
    "        col = 'darkblue'\n",
    "    elif elev in range(16,20):\n",
    "        col = 'pink'\n",
    "    else:\n",
    "        col='purple'\n",
    "    return col\n",
    "\n",
    "\n",
    "# add marker one by one on the map\n",
    "for lat,lon,name,elev in zip(traduction_gp['lat'],traduction_gp['lon'],traduction_gp['pays'],traduction_gp['ISBN']):\n",
    "    folium.Marker(\n",
    "      location=[lat,lon],\n",
    "      popup=\n",
    "        \"\"\"<i>Pays: </i> <br> <b>{}</b> <br>\n",
    "           <i>Nb de livres traduits: </i><b><br>{}</b><br>\"\"\".format(name,elev),\n",
    "      icon= folium.Icon(color=color(elev),\n",
    "      icon_color='white',icon = 'book'),\n",
    "      tooltip = \"Plus d'infos\"\n",
    "   ).add_to(m)\n",
    "\n",
    "# Show the map again\n",
    "m\n"
   ]
  },
  {
   "cell_type": "markdown",
   "metadata": {
    "id": "ctNFspUqO8lI"
   },
   "source": [
    "#### Analyse titre ouvrage\n",
    "Je décide de découper le texte en mots puis de les passer en minuscule."
   ]
  },
  {
   "cell_type": "code",
   "execution_count": null,
   "metadata": {
    "id": "YttWFKgXO8lI"
   },
   "outputs": [],
   "source": [
    "rl22.head(3)"
   ]
  },
  {
   "cell_type": "code",
   "execution_count": null,
   "metadata": {
    "id": "IINk4xnsO8lJ"
   },
   "outputs": [],
   "source": [
    "# Create list of word tokens\n",
    "\n",
    "token_list = []\n",
    "for token in rl22['RESUME']:\n",
    "    for doc in nlp(token):\n",
    "        token_list.append(doc.text)\n",
    "\n",
    "print(token_list)"
   ]
  },
  {
   "cell_type": "code",
   "execution_count": null,
   "metadata": {
    "id": "vMEeVLoIO8lJ"
   },
   "outputs": [],
   "source": [
    "#Cleaning Text Data: Removing Stopwords\n",
    "\n",
    "#Stop words\n",
    "#importing stop words from English language.\n",
    "#import spacy\n",
    "spacy_stopwords = spacy.lang.fr.stop_words.STOP_WORDS\n",
    "\n",
    "#Printing the total number of stop words:\n",
    "print('Number of stop words: %d' % len(spacy_stopwords))\n",
    "\n",
    "#Printing first ten stop words:\n",
    "print('First twenty stop words: %s' % list(spacy_stopwords)[:20])"
   ]
  },
  {
   "cell_type": "code",
   "execution_count": null,
   "metadata": {
    "id": "s13hWDyxO8lJ"
   },
   "outputs": [],
   "source": [
    "from spacy.lang.en.stop_words import STOP_WORDS\n",
    "\n",
    "#Implementation of stop words:\n",
    "filtered_sent=[]\n",
    "\n",
    "#  \"nlp\" Object is used to create documents with linguistic annotations.\n",
    "doc = nlp(text)\n",
    "\n",
    "# filtering stop words\n",
    "for word in doc:\n",
    "    if word.is_stop==False:\n",
    "        filtered_sent.append(word)\n",
    "print(\"Filtered Sentence:\",filtered_sent)"
   ]
  },
  {
   "cell_type": "code",
   "execution_count": null,
   "metadata": {
    "id": "wkQmpz1lO8lJ"
   },
   "outputs": [],
   "source": []
  },
  {
   "cell_type": "code",
   "execution_count": null,
   "metadata": {
    "id": "gExRQ7roO8lJ"
   },
   "outputs": [],
   "source": []
  },
  {
   "cell_type": "code",
   "execution_count": null,
   "metadata": {
    "id": "FFriZerjO8lJ",
    "scrolled": true
   },
   "outputs": [],
   "source": [
    "import nltk\n",
    "\n",
    "tokenizer = nltk.RegexpTokenizer(r'\\w+')\n",
    "\n",
    "df_titre = rl22[['ISBN','TITRE']]\n",
    "df_titre['corpus_split'] = df_titre['TITRE'].map(lambda x: tokenizer.tokenize(x.lower()) if type(x)==str else str(''))\n",
    "\n"
   ]
  },
  {
   "cell_type": "markdown",
   "metadata": {
    "id": "P667QvmVO8lK"
   },
   "source": [
    "**Objectif** :\n",
    "étudier dans un premier temps le vocabulaire utilisé pour chaque titre. Pour une première intuition, il est judicieux d'observer le nombre de mots utilisés."
   ]
  },
  {
   "cell_type": "code",
   "execution_count": null,
   "metadata": {
    "id": "2k2sjQ2xO8lK"
   },
   "outputs": [],
   "source": [
    "df_titre['freq'] = df_titre['corpus_split'].map(lambda x: nltk.FreqDist(x))\n",
    "df_titre['len_corpus'] = df_titre['corpus_split'].map(lambda x: len(x))\n",
    "df_titre['len_corpus_unique'] = df_titre['corpus_split'].map(lambda x: len(set(x)))\n",
    "df_titre.head(10)"
   ]
  },
  {
   "cell_type": "code",
   "execution_count": null,
   "metadata": {
    "id": "yp_8NVtHO8lK"
   },
   "outputs": [],
   "source": [
    "df_titre[['len_corpus','len_corpus_unique']].describe()"
   ]
  },
  {
   "cell_type": "code",
   "execution_count": null,
   "metadata": {
    "id": "CJlRbAJPO8lK"
   },
   "outputs": [],
   "source": [
    "titre_rep = df_titre[['ISBN',\"len_corpus_unique\"]].groupby([\"len_corpus_unique\"]).count()#.sort_values('ISBN',ascending=False).reset_index().pivot_table(values='ISBN', index=['GENRE'],columns=['TYPES'], aggfunc=np.sum).reset_index()\n",
    "titre_rep"
   ]
  },
  {
   "cell_type": "markdown",
   "metadata": {
    "id": "pgli3DLfO8lK"
   },
   "source": [
    "**Observations :**\n",
    "- Le nombre moyen de mots pour un titre est de 4. -> 118 ouvrages\n",
    "- 119 ouvrages n'ont que 2 mots dans leur titre.\n",
    "- Le titre le plus long compte 19 mots uniques.\n",
    "- 48 titres ne comptent qu'1 mot.\n",
    "- Un plus des 2/3 des ouvarges ont jusqu'à 4 mots dans leur titre.\n",
    "- 82% des ouvrages ont jusqu'à 5 mots."
   ]
  },
  {
   "cell_type": "code",
   "execution_count": null,
   "metadata": {
    "id": "fsvjy2pqO8lL"
   },
   "outputs": [],
   "source": [
    "round(((48+119+95+118+81)/565)*100,0)"
   ]
  },
  {
   "cell_type": "code",
   "execution_count": null,
   "metadata": {
    "id": "r9D64otHO8lM"
   },
   "outputs": [],
   "source": [
    "fig = px.histogram(df_titre, x=\"len_corpus_unique\",\n",
    "                   title='Répartition par nombre de mots dans le titre',\n",
    "                   #labels={'ISBN':'NB OUVRAGES'},\n",
    "                   histnorm='')\n",
    "\n",
    "\n",
    "fig.show()"
   ]
  },
  {
   "cell_type": "code",
   "execution_count": null,
   "metadata": {
    "id": "zeEqFoGtO8lM"
   },
   "outputs": [],
   "source": [
    "#table = pd.pivot_table(df_titre, index=['len_corpus_unique'], aggfunc=np.sum)\n",
    "# Affichage des fréquences\n",
    "%matplotlib inline\n",
    "\n",
    "plt.style.use('seaborn-whitegrid')\n",
    "\n",
    "plt.figure(figsize=(10,6))\n",
    "table = df_titre.sort_values(by='len_corpus', ascending=False)\n",
    "\n",
    "table.len_corpus.plot(kind='bar', color=\"#0b3954\", title='Top artiste par nombre de mots')\n",
    "table.len_corpus_unique.plot(kind='bar', color=\"#ff6663\")\n",
    "\n",
    "# plot. L'argument loc spécifie le placement de la légende\n",
    "plt.legend(loc='upper right');"
   ]
  },
  {
   "cell_type": "code",
   "execution_count": null,
   "metadata": {
    "id": "JQtJfgp9O8lM"
   },
   "outputs": [],
   "source": [
    "rl22[\"TITRE\"][46]"
   ]
  },
  {
   "cell_type": "code",
   "execution_count": null,
   "metadata": {
    "id": "Cqt_4U2EO8lM"
   },
   "outputs": [],
   "source": [
    "#rl22.to_excel(\"recap_page_20220825.xlsx\")"
   ]
  },
  {
   "cell_type": "code",
   "execution_count": null,
   "metadata": {
    "id": "XjhsI7J1O8lM"
   },
   "outputs": [],
   "source": []
  }
 ],
 "metadata": {
  "colab": {
   "collapsed_sections": [
    "e6RuOaXVQ6P9",
    "AeCOIwykO8ky",
    "EVjjIiBeO8k1",
    "Tpa7LljOO8k4",
    "AsW3EU4DO8k5"
   ],
   "provenance": []
  },
  "kernelspec": {
   "display_name": "Python 3 (ipykernel)",
   "language": "python",
   "name": "python3"
  },
  "language_info": {
   "codemirror_mode": {
    "name": "ipython",
    "version": 3
   },
   "file_extension": ".py",
   "mimetype": "text/x-python",
   "name": "python",
   "nbconvert_exporter": "python",
   "pygments_lexer": "ipython3",
   "version": "3.11.2"
  }
 },
 "nbformat": 4,
 "nbformat_minor": 4
}
